{
 "cells": [
  {
   "cell_type": "markdown",
   "metadata": {},
   "source": [
    "### Student Information\n",
    "Name:\n",
    "\n",
    "Student ID:\n",
    "\n",
    "GitHub ID:"
   ]
  },
  {
   "cell_type": "markdown",
   "metadata": {},
   "source": [
    "---"
   ]
  },
  {
   "cell_type": "markdown",
   "metadata": {},
   "source": [
    "### Instructions"
   ]
  },
  {
   "cell_type": "markdown",
   "metadata": {},
   "source": [
    "### First Phase Submission"
   ]
  },
  {
   "cell_type": "markdown",
   "metadata": {},
   "source": [
    "1. First: do the **take home** exercises in the [DM2025-Lab1-Master](https://github.com/leoson-wu/DM2025-Lab1-Exercise/blob/main/DM2025-Lab1-Master.ipynb) that considered as **phase 1 (from exercise 1 to exercise 15)**. You can answer in the master file. __This part is worth 10% of your grade.__\n",
    "\n",
    "\n",
    "2. Second: follow the same process from the [DM2025-Lab1-Master](https://github.com/leoson-wu/DM2025-Lab1-Exercise/blob/main/DM2025-Lab1-Master.ipynb) on **the new dataset** up **until phase 1**. You can skip some exercises if you think some steps are not necessary. However main exercises should be completed. You don't need to explain all details as we did (some **minimal comments** explaining your code are useful though).  __This part is worth 15% of your grade.__\n",
    "    -  Use [the new dataset](https://github.com/leoson-wu/DM2025-Lab1-Exercise/blob/main/newdataset/Reddit-stock-sentiment.csv). The dataset contains a 16 columns including 'text' and 'label', with the sentiment labels being: 1.0 is positive, 0.0 is neutral and -1.0 is negative. You can simplify the dataset and use only the columns that you think are necessary. \n",
    "    \n",
    "    - You are allowed to use and modify the `helper` functions in the folder of the first lab session (notice they may need modification) or create your own.\n",
    "    - Use this file to complete the homework from the second part. Make sure the code can be run from the beginning till the end and has all the needed output.\n",
    "\n",
    "\n",
    "3. Third: please attempt the following tasks on **the new dataset**. __This part is worth 10% of your grade.__\n",
    "    - Generate meaningful **new data visualizations**. Refer to online resources and the Data Mining textbook for inspiration and ideas. \n",
    "    \n",
    "\n",
    "\n",
    "4. Fourth: It's hard for us to follow if your code is messy, so please **tidy up your notebook** and **add minimal comments where needed**. __This part is worth 5% of your grade.__\n",
    "\n",
    "You can submit your homework following these guidelines: [DM2025-Lab1-announcement](https://github.com/leoson-wu/DM2025-Lab1-Announcement/blob/main/README.md). Make sure to commit and save your changes to your repository __BEFORE the deadline (September 28th 11:59 pm, Sunday)__. "
   ]
  },
  {
   "cell_type": "markdown",
   "metadata": {},
   "source": [
    "### Second Phase Submission "
   ]
  },
  {
   "cell_type": "markdown",
   "metadata": {},
   "source": [
    "**You can keep the answer for phase 1 for easier running and update the phase 2 on the same page.**\n",
    "\n",
    "1. First: Continue doing the **take home** exercises in the [DM2025-Lab1-Master](https://github.com/leoson-wu/DM2025-Lab1-Exercise/blob/main/DM2025-Lab1-Master.ipynb) for **phase 2, starting from Finding frequent patterns**. Use the same master(.ipynb) file. Answer from phase 1 will not be considered at this stage. You can answer in the master file. __This part is worth 10% of your grade.__\n",
    "\n",
    "\n",
    "2. Second: Continue from first phase and do the same process from the [DM2025-Lab1-Master](https://github.com/leoson-wu/DM2025-Lab1-Exercise/blob/main/DM2025-Lab1-Master.ipynb) on **the new dataset** for phase 2, starting from Finding frequent pattern. You can skip some exercises if you think some steps are not necessary. However main exercises should be completed. You don't need to explain all details as we did (some **minimal comments** explaining your code are useful though).  __This part is worth 15% of your grade.__\n",
    "    - Continue using this file to complete the homework from the second part. Make sure the code can be run from the beginning till the end and has all the needed output. Use the same new dataset as in phase 1.\n",
    "    \n",
    "    - You are allowed to use and modify the `helper` functions in the folder of the first lab session (notice they may need modification) or create your own.\n",
    "\n",
    "3. Third: please attempt the following tasks on **the new dataset**. __This part is worth 20% of your grade.__\n",
    "    - Use this file to answer.\n",
    "    - Generate **TF-IDF features** from the tokens of each text. This will generating a document matrix, however, the weights will be computed differently (using the TF-IDF value of each word per document as opposed to the word frequency).  Refer to this Scikit-learn [guide](http://scikit-learn.org/stable/modules/generated/sklearn.feature_extraction.text.TfidfVectorizer.html) .\n",
    "    - Implement a simple **Naive Bayes classifier** that automatically classifies the records into their categories. Use both the TF-IDF features and word frequency features to build two seperate classifiers. Note that for the TF-IDF features you might need to use other type of NB classifier different than the one in the Master Notebook. Comment on the differences and when using augmentation with feature pattern.  Refer to this [article](https://hub.packtpub.com/implementing-3-naive-bayes-classifiers-in-scikit-learn/).\n",
    "\n",
    "\n",
    "4. Fourth: In the lab, we applied each step really quickly just to illustrate how to work with your dataset. There are somethings that are not ideal or the most efficient/meaningful. Each dataset can be handled differently as well. What are those inefficent parts you noticed? How can you improve the Data preprocessing for these specific datasets? __This part is worth 10% of your grade.__\n",
    "\n",
    "\n",
    "5. Fifth: It's hard for us to follow if your code is messy, so please **tidy up your notebook** and **add minimal comments where needed**. __This part is worth 5% of your grade.__\n",
    "\n",
    "\n",
    "You can submit your homework following these guidelines: [DM2025-Lab1-announcement](https://github.com/leoson-wu/DM2025-Lab1-Announcement/blob/main/README.md). Make sure to commit and save your changes to your repository __BEFORE the deadline (October 19th 11:59 pm, Sunday)__. "
   ]
  },
  {
   "cell_type": "markdown",
   "metadata": {},
   "source": [
    "# Phase 1"
   ]
  },
  {
   "cell_type": "code",
   "execution_count": null,
   "metadata": {},
   "outputs": [
    {
     "name": "stdout",
     "output_type": "stream",
     "text": [
      "\n",
      "EXERCISE_1 print first 3\n",
      "\n",
      "example 1\n",
      "Calls on retards\n",
      "example 2\n",
      "Stunt as in like why did they even make a big deal about starting it in the first place? No company should ever talk about politics ever.\n",
      "example 3\n",
      "Seeing lots of red in the ticker.\n",
      "\n",
      "EXERCISE_2 query experiments\n",
      "\n",
      "AHRO Crazy play (Included DD *MUST READ*) TV streaming platform like TUBI, HULU, PlutoTV\n",
      "\n",
      "EXERCISE_3 advanced selection (r/wallstreetbets only, every 10th row, only first 3, only text) \n",
      "\n",
      "0                                      Calls on retards\n",
      "40    These China AI factory memes are pretty good. ...\n",
      "96                          200k loss in a month.. haha\n",
      "Name: text, dtype: object\n",
      "\n",
      "EXERCISE_4 missing value count per record \n",
      "\n",
      "0      (The amoung of missing records is: , 2)\n",
      "1      (The amoung of missing records is: , 2)\n",
      "2      (The amoung of missing records is: , 2)\n",
      "3      (The amoung of missing records is: , 0)\n",
      "4      (The amoung of missing records is: , 2)\n",
      "                        ...                   \n",
      "842    (The amoung of missing records is: , 2)\n",
      "843    (The amoung of missing records is: , 2)\n",
      "844    (The amoung of missing records is: , 0)\n",
      "845    (The amoung of missing records is: , 2)\n",
      "846    (The amoung of missing records is: , 2)\n",
      "Length: 847, dtype: object\n",
      "\n",
      "EXERCISE_5 is litereally the same as the one in the Master. SKIP!!!!! \n",
      "\n",
      "\n",
      "EXERCISE_6 sampling \n",
      "\n",
      "len: 211\n",
      "473    how does the futures market look today\\n\\nSPY,...\n",
      "4                               He didn’t say thank you.\n",
      "299                                               Fairly\n",
      "143        so y'all aren't exactly happy with the shorts\n",
      "Name: text, dtype: object\n",
      "Same observations as the exercise in the Master: The size of X_sample is smaller, and the order is randomized. And the sample is a different subset each time X.sample is called. \n",
      "\n",
      "\n",
      "EXERCISE_7 plot subreddit distribution with dynamic ylim \n",
      "\n",
      "subreddit feels similar enough to mirror the category col of the dataset in the Master \n",
      "\n",
      "\n",
      "EXERCISE_8 plot X and X_sample bars side-by-side \n",
      "\n",
      "\n",
      "EXERCISE_9 analyze the text of the first record of X \n",
      "\n",
      "['calls', 'on', 'retards']\n",
      "\n",
      "EXERCISE_10 check the term corresponding to the non-zero part in the [0:5, 0:100] region of the term-document metric \n",
      "\n",
      "[0:5, 0:100] region:  [[0 0 0 0 0 0 0 0 0 0 0 0 0 0 0 0 0 0 0 0 0 0 0 0 0 0 0 0 0 0 0 0 0 0 0 0\n",
      "  0 0 0 0 0 0 0 0 0 0 0 0 0 0 0 0 0 0 0 0 0 0 0 0 0 0 0 0 0 0 0 0 0 0 0 0\n",
      "  0 0 0 0 0 0 0 0 0 0 0 0 0 0 0 0 0 0 0 0 0 0 0 0 0 0 0 0]\n",
      " [0 0 0 0 0 0 0 0 0 0 0 0 0 0 0 0 0 0 0 0 0 0 0 0 0 0 0 0 0 0 0 0 0 0 0 0\n",
      "  0 0 0 0 0 0 0 0 0 0 0 0 0 0 0 0 0 0 0 0 0 0 0 0 0 0 0 0 0 0 0 0 0 0 0 0\n",
      "  0 0 0 0 0 0 0 0 0 0 0 0 0 0 0 0 0 0 0 0 0 0 0 0 0 0 0 0]\n",
      " [0 0 0 0 0 0 0 0 0 0 0 0 0 0 0 0 0 0 0 0 0 0 0 0 0 0 0 0 0 0 0 0 0 0 0 0\n",
      "  0 0 0 0 0 0 0 0 0 0 0 0 0 0 0 0 0 0 0 0 0 0 0 0 0 0 0 0 0 0 0 0 0 0 0 0\n",
      "  0 0 0 0 0 0 0 0 0 0 0 0 0 0 0 0 0 0 0 0 0 0 0 0 0 0 0 0]\n",
      " [0 0 0 0 0 0 0 0 0 0 0 0 0 0 0 0 0 0 3 0 0 0 0 0 0 0 0 0 0 0 0 0 0 0 0 0\n",
      "  0 0 0 0 0 0 0 0 0 0 0 0 0 0 0 0 0 0 0 0 0 0 0 0 0 0 0 0 0 0 0 0 0 0 0 0\n",
      "  0 0 0 0 0 0 0 0 0 0 0 0 0 0 0 0 0 0 0 0 0 0 0 0 0 0 0 0]\n",
      " [0 0 0 0 0 0 0 0 0 0 0 0 0 0 0 0 0 0 0 0 0 0 0 0 0 0 0 0 0 0 0 0 0 0 0 0\n",
      "  0 0 0 0 0 0 0 0 0 0 0 0 0 0 0 0 0 0 0 0 0 0 0 0 0 0 0 0 0 0 0 0 0 0 0 0\n",
      "  0 0 0 0 0 0 0 0 0 0 0 0 0 0 0 0 0 0 0 0 0 0 0 0 0 0 0 0]]\n",
      "non-zero at: 18\n",
      "which is the term: 116\n",
      "\n",
      "EXERCISE_11 plot term-document metric efficiently (basically the same code as the Master) \n",
      "\n"
     ]
    },
    {
     "name": "stderr",
     "output_type": "stream",
     "text": [
      "[nltk_data] Downloading package punkt to /home/df/nltk_data...\n",
      "[nltk_data]   Package punkt is already up-to-date!\n",
      "[nltk_data] Downloading package punkt_tab to /home/df/nltk_data...\n",
      "[nltk_data]   Package punkt_tab is already up-to-date!\n"
     ]
    },
    {
     "data": {
      "image/png": "[encoded data removed]",
      "text/plain": [
       "<Figure size 800x300 with 1 Axes>"
      ]
     },
     "metadata": {},
     "output_type": "display_data"
    },
    {
     "data": {
      "image/png": "[encoded data removed]",
      "text/plain": [
       "<Figure size 800x500 with 1 Axes>"
      ]
     },
     "metadata": {},
     "output_type": "display_data"
    },
    {
     "data": {
      "image/png": "[encoded data removed]",
      "text/plain": [
       "<Figure size 1500x1200 with 2 Axes>"
      ]
     },
     "metadata": {},
     "output_type": "display_data"
    },
    {
     "name": "stdout",
     "output_type": "stream",
     "text": [
      "\n",
      "EXERCISE_12 plot aggregated term frequencies using plotly (basically the same code as the Master) \n",
      "\n"
     ]
    },
    {
     "data": {
      "application/vnd.plotly.v1+json": {
       "config": {
        "plotlyServerURL": "https://plot.ly"
       },
       "data": [
        {
         "hovertemplate": "Term=%{x}<br>Frequency=%{y}<extra></extra>",
         "legendgroup": "",
         "marker": {
          "color": "#636efa",
          "pattern": {
           "shape": ""
          }
         },
         "name": "",
         "orientation": "v",
         "showlegend": false,
         "textposition": "auto",
         "type": "bar",
         "x": [
          "00",
          "000",
          "01378",
          "02",
          "027",
          "03",
          "06",
          "08",
          "10",
          "100",
          "1000",
          "10000",
          "100k",
          "100x",
          "10k",
          "10ks",
          "10yr",
          "11",
          "116",
          "118",
          "12",
          "1242",
          "125",
          "12855584",
          "13",
          "14",
          "140",
          "145",
          "14th",
          "15",
          "150",
          "153",
          "15m",
          "16",
          "160",
          "17",
          "1700",
          "1728",
          "17th",
          "18",
          "186",
          "18630",
          "1870",
          "1934",
          "1945",
          "1947",
          "1953",
          "1961",
          "1969",
          "1973",
          "1974",
          "1981",
          "1992",
          "1999",
          "1k",
          "1m",
          "20",
          "200",
          "2007",
          "200k",
          "2011",
          "2012",
          "2017",
          "2021",
          "20211209",
          "2024",
          "2025",
          "2028",
          "2045",
          "208",
          "21",
          "22",
          "22rate",
          "23",
          "234",
          "235",
          "24",
          "25",
          "250",
          "25bps",
          "25k",
          "27",
          "28",
          "296895",
          "2c_books",
          "2c_wiki_recommendations",
          "2fapps",
          "2k",
          "2nd",
          "2s",
          "30",
          "300",
          "3000",
          "31",
          "31224",
          "31225",
          "31f",
          "33",
          "3306",
          "34",
          "35",
          "350",
          "36",
          "3a",
          "3d",
          "3f",
          "3k",
          "3oz8xzgfhartvh99yi",
          "40",
          "401k",
          "404",
          "41",
          "42",
          "4260",
          "4267",
          "4271",
          "4359",
          "45",
          "4500",
          "456",
          "46",
          "4675",
          "47",
          "4900",
          "4d",
          "4m",
          "4th",
          "4x",
          "50",
          "500",
          "5000",
          "50k",
          "50x",
          "52",
          "522",
          "540",
          "55",
          "58",
          "60",
          "600k",
          "6026762",
          "64",
          "65",
          "66",
          "6969",
          "6k",
          "6th",
          "70",
          "75",
          "7500",
          "77",
          "7k",
          "7s",
          "80",
          "81",
          "83",
          "87",
          "8882",
          "8883",
          "89",
          "90",
          "9000",
          "90k",
          "95",
          "97",
          "98",
          "98th",
          "99",
          "9k",
          "_are",
          "_so",
          "aapl",
          "ability",
          "able",
          "abolish",
          "about",
          "above",
          "absolute",
          "absolutely",
          "abuse",
          "abusing",
          "abysmal",
          "accelerate",
          "accept",
          "acceptable",
          "accepted",
          "access",
          "according",
          "account",
          "accretive",
          "acct",
          "accurate",
          "accurately",
          "aces",
          "acgl",
          "achieved",
          "achievement",
          "achieves",
          "achilles",
          "acn",
          "acquires",
          "acquisition",
          "acquisitions",
          "across",
          "act",
          "action",
          "actionable",
          "actions",
          "actively",
          "activity",
          "actors",
          "acts",
          "actual",
          "actually",
          "ad",
          "adausd",
          "add",
          "added",
          "addicted",
          "addicts",
          "adding",
          "addition",
          "additional",
          "addressed",
          "adjacent",
          "adjust",
          "admin",
          "administration",
          "administrations",
          "admins",
          "admit",
          "admitted",
          "adobe",
          "adp",
          "adult",
          "advanced",
          "advantage",
          "adversaries",
          "advertisements",
          "advice",
          "advise",
          "advised",
          "advisor",
          "advisors",
          "advocating",
          "aerc",
          "aerocontractors",
          "affect",
          "affected",
          "affects"
         ],
         "xaxis": "x",
         "y": {
          "bdata": "BAYBAQEBAQEVCwEBAQEBAQEFAwEIAQIBAgEBAQEIAgEBAQEBAQECAgEDAQECAQEBAQEBAQEBAQEHAgEBAQEBAgECBgEBAQIEAQMBAQIHAwECAQIBAQEBAQIBCQEBAQEBAQECAQMCAgECAQEBBAEBAQICAQcBAQEBAQEBAQEBAQEMBAQBAQEBAQEBAgEBAgIBAQEBAgIBAgEBAwEBAQECAQUBAQEBAgEBAQEBAwIGAUgEAQMBAQEBAQIBAQEBAQEFAQEBAQEBAQMBAwEDAgEDAQEEAQIFCwEBAQEBAQMCBAEBAwIKAQEBAQEBAQEBAQEHAQEBAwIBAwMCAQ==",
          "dtype": "i1"
         },
         "yaxis": "y"
        }
       ],
       "layout": {
        "barmode": "relative",
        "legend": {
         "tracegroupgap": 0
        },
        "template": {
         "data": {
          "bar": [
           {
            "error_x": {
             "color": "#2a3f5f"
            },
            "error_y": {
             "color": "#2a3f5f"
            },
            "marker": {
             "line": {
              "color": "#E5ECF6",
              "width": 0.5
             },
             "pattern": {
              "fillmode": "overlay",
              "size": 10,
              "solidity": 0.2
             }
            },
            "type": "bar"
           }
          ],
          "barpolar": [
           {
            "marker": {
             "line": {
              "color": "#E5ECF6",
              "width": 0.5
             },
             "pattern": {
              "fillmode": "overlay",
              "size": 10,
              "solidity": 0.2
             }
            },
            "type": "barpolar"
           }
          ],
          "carpet": [
           {
            "aaxis": {
             "endlinecolor": "#2a3f5f",
             "gridcolor": "white",
             "linecolor": "white",
             "minorgridcolor": "white",
             "startlinecolor": "#2a3f5f"
            },
            "baxis": {
             "endlinecolor": "#2a3f5f",
             "gridcolor": "white",
             "linecolor": "white",
             "minorgridcolor": "white",
             "startlinecolor": "#2a3f5f"
            },
            "type": "carpet"
           }
          ],
          "choropleth": [
           {
            "colorbar": {
             "outlinewidth": 0,
             "ticks": ""
            },
            "type": "choropleth"
           }
          ],
          "contour": [
           {
            "colorbar": {
             "outlinewidth": 0,
             "ticks": ""
            },
            "colorscale": [
             [
              0,
              "#0d0887"
             ],
             [
              0.1111111111111111,
              "#46039f"
             ],
             [
              0.2222222222222222,
              "#7201a8"
             ],
             [
              0.3333333333333333,
              "#9c179e"
             ],
             [
              0.4444444444444444,
              "#bd3786"
             ],
             [
              0.5555555555555556,
              "#d8576b"
             ],
             [
              0.6666666666666666,
              "#ed7953"
             ],
             [
              0.7777777777777778,
              "#fb9f3a"
             ],
             [
              0.8888888888888888,
              "#fdca26"
             ],
             [
              1,
              "#f0f921"
             ]
            ],
            "type": "contour"
           }
          ],
          "contourcarpet": [
           {
            "colorbar": {
             "outlinewidth": 0,
             "ticks": ""
            },
            "type": "contourcarpet"
           }
          ],
          "heatmap": [
           {
            "colorbar": {
             "outlinewidth": 0,
             "ticks": ""
            },
            "colorscale": [
             [
              0,
              "#0d0887"
             ],
             [
              0.1111111111111111,
              "#46039f"
             ],
             [
              0.2222222222222222,
              "#7201a8"
             ],
             [
              0.3333333333333333,
              "#9c179e"
             ],
             [
              0.4444444444444444,
              "#bd3786"
             ],
             [
              0.5555555555555556,
              "#d8576b"
             ],
             [
              0.6666666666666666,
              "#ed7953"
             ],
             [
              0.7777777777777778,
              "#fb9f3a"
             ],
             [
              0.8888888888888888,
              "#fdca26"
             ],
             [
              1,
              "#f0f921"
             ]
            ],
            "type": "heatmap"
           }
          ],
          "histogram": [
           {
            "marker": {
             "pattern": {
              "fillmode": "overlay",
              "size": 10,
              "solidity": 0.2
             }
            },
            "type": "histogram"
           }
          ],
          "histogram2d": [
           {
            "colorbar": {
             "outlinewidth": 0,
             "ticks": ""
            },
            "colorscale": [
             [
              0,
              "#0d0887"
             ],
             [
              0.1111111111111111,
              "#46039f"
             ],
             [
              0.2222222222222222,
              "#7201a8"
             ],
             [
              0.3333333333333333,
              "#9c179e"
             ],
             [
              0.4444444444444444,
              "#bd3786"
             ],
             [
              0.5555555555555556,
              "#d8576b"
             ],
             [
              0.6666666666666666,
              "#ed7953"
             ],
             [
              0.7777777777777778,
              "#fb9f3a"
             ],
             [
              0.8888888888888888,
              "#fdca26"
             ],
             [
              1,
              "#f0f921"
             ]
            ],
            "type": "histogram2d"
           }
          ],
          "histogram2dcontour": [
           {
            "colorbar": {
             "outlinewidth": 0,
             "ticks": ""
            },
            "colorscale": [
             [
              0,
              "#0d0887"
             ],
             [
              0.1111111111111111,
              "#46039f"
             ],
             [
              0.2222222222222222,
              "#7201a8"
             ],
             [
              0.3333333333333333,
              "#9c179e"
             ],
             [
              0.4444444444444444,
              "#bd3786"
             ],
             [
              0.5555555555555556,
              "#d8576b"
             ],
             [
              0.6666666666666666,
              "#ed7953"
             ],
             [
              0.7777777777777778,
              "#fb9f3a"
             ],
             [
              0.8888888888888888,
              "#fdca26"
             ],
             [
              1,
              "#f0f921"
             ]
            ],
            "type": "histogram2dcontour"
           }
          ],
          "mesh3d": [
           {
            "colorbar": {
             "outlinewidth": 0,
             "ticks": ""
            },
            "type": "mesh3d"
           }
          ],
          "parcoords": [
           {
            "line": {
             "colorbar": {
              "outlinewidth": 0,
              "ticks": ""
             }
            },
            "type": "parcoords"
           }
          ],
          "pie": [
           {
            "automargin": true,
            "type": "pie"
           }
          ],
          "scatter": [
           {
            "fillpattern": {
             "fillmode": "overlay",
             "size": 10,
             "solidity": 0.2
            },
            "type": "scatter"
           }
          ],
          "scatter3d": [
           {
            "line": {
             "colorbar": {
              "outlinewidth": 0,
              "ticks": ""
             }
            },
            "marker": {
             "colorbar": {
              "outlinewidth": 0,
              "ticks": ""
             }
            },
            "type": "scatter3d"
           }
          ],
          "scattercarpet": [
           {
            "marker": {
             "colorbar": {
              "outlinewidth": 0,
              "ticks": ""
             }
            },
            "type": "scattercarpet"
           }
          ],
          "scattergeo": [
           {
            "marker": {
             "colorbar": {
              "outlinewidth": 0,
              "ticks": ""
             }
            },
            "type": "scattergeo"
           }
          ],
          "scattergl": [
           {
            "marker": {
             "colorbar": {
              "outlinewidth": 0,
              "ticks": ""
             }
            },
            "type": "scattergl"
           }
          ],
          "scattermap": [
           {
            "marker": {
             "colorbar": {
              "outlinewidth": 0,
              "ticks": ""
             }
            },
            "type": "scattermap"
           }
          ],
          "scattermapbox": [
           {
            "marker": {
             "colorbar": {
              "outlinewidth": 0,
              "ticks": ""
             }
            },
            "type": "scattermapbox"
           }
          ],
          "scatterpolar": [
           {
            "marker": {
             "colorbar": {
              "outlinewidth": 0,
              "ticks": ""
             }
            },
            "type": "scatterpolar"
           }
          ],
          "scatterpolargl": [
           {
            "marker": {
             "colorbar": {
              "outlinewidth": 0,
              "ticks": ""
             }
            },
            "type": "scatterpolargl"
           }
          ],
          "scatterternary": [
           {
            "marker": {
             "colorbar": {
              "outlinewidth": 0,
              "ticks": ""
             }
            },
            "type": "scatterternary"
           }
          ],
          "surface": [
           {
            "colorbar": {
             "outlinewidth": 0,
             "ticks": ""
            },
            "colorscale": [
             [
              0,
              "#0d0887"
             ],
             [
              0.1111111111111111,
              "#46039f"
             ],
             [
              0.2222222222222222,
              "#7201a8"
             ],
             [
              0.3333333333333333,
              "#9c179e"
             ],
             [
              0.4444444444444444,
              "#bd3786"
             ],
             [
              0.5555555555555556,
              "#d8576b"
             ],
             [
              0.6666666666666666,
              "#ed7953"
             ],
             [
              0.7777777777777778,
              "#fb9f3a"
             ],
             [
              0.8888888888888888,
              "#fdca26"
             ],
             [
              1,
              "#f0f921"
             ]
            ],
            "type": "surface"
           }
          ],
          "table": [
           {
            "cells": {
             "fill": {
              "color": "#EBF0F8"
             },
             "line": {
              "color": "white"
             }
            },
            "header": {
             "fill": {
              "color": "#C8D4E3"
             },
             "line": {
              "color": "white"
             }
            },
            "type": "table"
           }
          ]
         },
         "layout": {
          "annotationdefaults": {
           "arrowcolor": "#2a3f5f",
           "arrowhead": 0,
           "arrowwidth": 1
          },
          "autotypenumbers": "strict",
          "coloraxis": {
           "colorbar": {
            "outlinewidth": 0,
            "ticks": ""
           }
          },
          "colorscale": {
           "diverging": [
            [
             0,
             "#8e0152"
            ],
            [
             0.1,
             "#c51b7d"
            ],
            [
             0.2,
             "#de77ae"
            ],
            [
             0.3,
             "#f1b6da"
            ],
            [
             0.4,
             "#fde0ef"
            ],
            [
             0.5,
             "#f7f7f7"
            ],
            [
             0.6,
             "#e6f5d0"
            ],
            [
             0.7,
             "#b8e186"
            ],
            [
             0.8,
             "#7fbc41"
            ],
            [
             0.9,
             "#4d9221"
            ],
            [
             1,
             "#276419"
            ]
           ],
           "sequential": [
            [
             0,
             "#0d0887"
            ],
            [
             0.1111111111111111,
             "#46039f"
            ],
            [
             0.2222222222222222,
             "#7201a8"
            ],
            [
             0.3333333333333333,
             "#9c179e"
            ],
            [
             0.4444444444444444,
             "#bd3786"
            ],
            [
             0.5555555555555556,
             "#d8576b"
            ],
            [
             0.6666666666666666,
             "#ed7953"
            ],
            [
             0.7777777777777778,
             "#fb9f3a"
            ],
            [
             0.8888888888888888,
             "#fdca26"
            ],
            [
             1,
             "#f0f921"
            ]
           ],
           "sequentialminus": [
            [
             0,
             "#0d0887"
            ],
            [
             0.1111111111111111,
             "#46039f"
            ],
            [
             0.2222222222222222,
             "#7201a8"
            ],
            [
             0.3333333333333333,
             "#9c179e"
            ],
            [
             0.4444444444444444,
             "#bd3786"
            ],
            [
             0.5555555555555556,
             "#d8576b"
            ],
            [
             0.6666666666666666,
             "#ed7953"
            ],
            [
             0.7777777777777778,
             "#fb9f3a"
            ],
            [
             0.8888888888888888,
             "#fdca26"
            ],
            [
             1,
             "#f0f921"
            ]
           ]
          },
          "colorway": [
           "#636efa",
           "#EF553B",
           "#00cc96",
           "#ab63fa",
           "#FFA15A",
           "#19d3f3",
           "#FF6692",
           "#B6E880",
           "#FF97FF",
           "#FECB52"
          ],
          "font": {
           "color": "#2a3f5f"
          },
          "geo": {
           "bgcolor": "white",
           "lakecolor": "white",
           "landcolor": "#E5ECF6",
           "showlakes": true,
           "showland": true,
           "subunitcolor": "white"
          },
          "hoverlabel": {
           "align": "left"
          },
          "hovermode": "closest",
          "mapbox": {
           "style": "light"
          },
          "paper_bgcolor": "white",
          "plot_bgcolor": "#E5ECF6",
          "polar": {
           "angularaxis": {
            "gridcolor": "white",
            "linecolor": "white",
            "ticks": ""
           },
           "bgcolor": "#E5ECF6",
           "radialaxis": {
            "gridcolor": "white",
            "linecolor": "white",
            "ticks": ""
           }
          },
          "scene": {
           "xaxis": {
            "backgroundcolor": "#E5ECF6",
            "gridcolor": "white",
            "gridwidth": 2,
            "linecolor": "white",
            "showbackground": true,
            "ticks": "",
            "zerolinecolor": "white"
           },
           "yaxis": {
            "backgroundcolor": "#E5ECF6",
            "gridcolor": "white",
            "gridwidth": 2,
            "linecolor": "white",
            "showbackground": true,
            "ticks": "",
            "zerolinecolor": "white"
           },
           "zaxis": {
            "backgroundcolor": "#E5ECF6",
            "gridcolor": "white",
            "gridwidth": 2,
            "linecolor": "white",
            "showbackground": true,
            "ticks": "",
            "zerolinecolor": "white"
           }
          },
          "shapedefaults": {
           "line": {
            "color": "#2a3f5f"
           }
          },
          "ternary": {
           "aaxis": {
            "gridcolor": "white",
            "linecolor": "white",
            "ticks": ""
           },
           "baxis": {
            "gridcolor": "white",
            "linecolor": "white",
            "ticks": ""
           },
           "bgcolor": "#E5ECF6",
           "caxis": {
            "gridcolor": "white",
            "linecolor": "white",
            "ticks": ""
           }
          },
          "title": {
           "x": 0.05
          },
          "xaxis": {
           "automargin": true,
           "gridcolor": "white",
           "linecolor": "white",
           "ticks": "",
           "title": {
            "standoff": 15
           },
           "zerolinecolor": "white",
           "zerolinewidth": 2
          },
          "yaxis": {
           "automargin": true,
           "gridcolor": "white",
           "linecolor": "white",
           "ticks": "",
           "title": {
            "standoff": 15
           },
           "zerolinecolor": "white",
           "zerolinewidth": 2
          }
         }
        },
        "title": {
         "text": "Interactive Frequency of First 250 Terms"
        },
        "xaxis": {
         "anchor": "y",
         "domain": [
          0,
          1
         ],
         "title": {
          "text": "Term"
         }
        },
        "yaxis": {
         "anchor": "x",
         "domain": [
          0,
          1
         ],
         "title": {
          "text": "Frequency"
         }
        }
       }
      }
     },
     "metadata": {},
     "output_type": "display_data"
    },
    {
     "name": "stdout",
     "output_type": "stream",
     "text": [
      "\n",
      "EXERCISE_13 plot aggregated term frequencies more efficiently (basically the same code as the Master) \n",
      "\n"
     ]
    },
    {
     "name": "stderr",
     "output_type": "stream",
     "text": [
      "/tmp/ipykernel_62678/2379346052.py:167: UserWarning:\n",
      "\n",
      "set_ticklabels() should only be used with a fixed number of ticks, i.e. after set_ticks() or using a FixedLocator.\n",
      "\n"
     ]
    },
    {
     "data": {
      "image/png": "[encoded data removed]",
      "text/plain": [
       "<Figure size 2000x1000 with 1 Axes>"
      ]
     },
     "metadata": {},
     "output_type": "display_data"
    },
    {
     "name": "stdout",
     "output_type": "stream",
     "text": [
      "\n",
      "EXERCISE_14 plot aggregated term frequencies efficiently in alphabetical order (basically the same code as the Master) \n",
      "\n"
     ]
    },
    {
     "name": "stderr",
     "output_type": "stream",
     "text": [
      "/tmp/ipykernel_62678/2379346052.py:194: UserWarning:\n",
      "\n",
      "set_ticklabels() should only be used with a fixed number of ticks, i.e. after set_ticks() or using a FixedLocator.\n",
      "\n"
     ]
    },
    {
     "data": {
      "image/png": "[encoded data removed]",
      "text/plain": [
       "<Figure size 2000x1000 with 1 Axes>"
      ]
     },
     "metadata": {},
     "output_type": "display_data"
    },
    {
     "name": "stdout",
     "output_type": "stream",
     "text": [
      "\n",
      "EXERCISE_15 plot aggregated term frequencies in log scale efficiently in alphabetical order (basically the same code and observations as the Master) \n",
      "\n"
     ]
    },
    {
     "name": "stderr",
     "output_type": "stream",
     "text": [
      "/tmp/ipykernel_62678/2379346052.py:217: UserWarning:\n",
      "\n",
      "set_ticklabels() should only be used with a fixed number of ticks, i.e. after set_ticks() or using a FixedLocator.\n",
      "\n"
     ]
    },
    {
     "data": {
      "image/png": "[encoded data removed]",
      "text/plain": [
       "<Figure size 2000x1000 with 1 Axes>"
      ]
     },
     "metadata": {},
     "output_type": "display_data"
    },
    {
     "name": "stdout",
     "output_type": "stream",
     "text": [
      "\n",
      "differences: Log transformation reduces the visual dominance of the most frequent terms greatly. The drop-off is softened, making the relative frequencies between terms easier to compare. Differences in frequency among the less common words are now more visible, whereas on the linear scale they were indistinguishably small.\n",
      "\n",
      "insight: This is useful for visualizing data that spans several orders of magnitude, like this word counts. I suppose it is easier to see if the data follows an expected power-related distribution this way, especially at the tail.\n",
      "\n",
      "\n",
      "PHASE 1, PART 3 subjectivity vs. polarity scatter plot, by subreddit \n",
      "\n",
      "\n",
      "Using two plots to display the relationship between subjectivity and polarity of the posts.\n",
      "\n",
      "Subjectivity is from 0 (objective) to 1 (subjective)\n",
      "Polarity is from -1 (negative) to 1 (positive)\n",
      "And I can try to compare different subreddits.\n",
      "\n",
      "The plots are interactive, you can hover on a dot to see the text, the subjectivity and the polarity values.\n",
      "\n",
      "The first plot is a scatter plot, every post is represneted as a dot.\n",
      "It uses different colors for each subreddit to compare their differences.\n",
      "I also added histograms on the side to show the distributions.\n",
      "\n",
      "The second one is a density heatmap, to clearly show the value distribution.\n",
      "One for each subreddit so they can be compared easily.\n",
      "\n"
     ]
    },
    {
     "data": {
      "application/vnd.plotly.v1+json": {
       "config": {
        "plotlyServerURL": "https://plot.ly"
       },
       "data": [
        {
         "customdata": [
          [
           "Calls on retards"
          ],
          [
           "Stunt as in like why did they even make a big deal about starting it in the first place? No company should ever talk about politics ever."
          ],
          [
           "Hoping to ejaculate in wet warm puss tonight, wish me luck"
          ],
          [
           "Confirmed not a trap. Its been like this for probably 2 months, we have just let it slowly spread by word of mouth"
          ],
          [
           "this sub has ruined emails for me, whenever I write “Best regards” I think of WSB"
          ],
          [
           "Google \"target dei\".\n\nI did it for you.\n\n"
          ],
          [
           "You see, Target, pissing off a good chunk of your loyal customer base wasn't a good idea."
          ],
          [
           "My first wife was tarded, she's a pilot now."
          ],
          [
           "Goshdang about time. It was fine to say when I was a kid, fine in college, but then I went to war and when I come back the whole world got suuuuuper weird. 2012 was a pretty important year to miss or something?"
          ],
          [
           "Hey our net worth match now, we can be friends!"
          ],
          [
           "These China AI factory memes are pretty good. I gotta admit they boomed us this time."
          ],
          [
           "Weekend thread is where the real ones at ![img](emote|t5_2th52|8883)"
          ],
          [
           ">I did some digging and found they had a government contract listed on USASpending in 2021, so they’re not just vaporware.\n\nThis?  A contract for $3000?  That makes you want to compare them to Lockheed and Raytheon as a \"Defense Contractor\"?\n\n[]()"
          ],
          [
           "if best buy can survive, target will survive."
          ],
          [
           "Oh my gourd!"
          ],
          [
           "Believe it or not calls and puts"
          ],
          [
           "Already underway. the petro dollar is no longer in place, part of the reason for BRICS is to not have to trade in USD. It will be interesting to see what China does with the U.S. debt they own. \n\nIt's a natural cycle, and Trump has just thrown a barrel of red bull into the process."
          ],
          [
           "The cost of this was SPY going -20%. I’ll take it ![img](emote|t5_2th52|8882)"
          ],
          [
           "Retarded Ball Z going on over here"
          ],
          [
           "But tariffs have not been in affect for 10 weeks.  I think tariffs getting cut will only make the decline slow down, not cause it to reverse course."
          ],
          [
           "200k loss in a month.. haha"
          ],
          [
           "Breaking News: Mango challenges Xi to a cage match at WrestleMania 41 to settle their differences"
          ],
          [
           "My personal favorite part of the graph is that last spike that almost brought you back to breakeven but you didn't sell then and rode it down to almost nothing."
          ],
          [
           "Carryover indefinitely for life of taxpayer"
          ],
          [
           "no it's not"
          ],
          [
           "Moar"
          ],
          [
           "Mango's insider trading club: Let's nuke it from space, it's the only way to be sure."
          ],
          [
           "I still cannot believe that I didn't sell the puts during Monday drop."
          ],
          [
           "This week CPI and PPI both came below expectations.\n\nGood job JPow's quant guy!"
          ],
          [
           "It's only 5:30 and \n\n###I'M SO BORED###"
          ],
          [
           "My resume isn't even read by companies anymore, it's over."
          ],
          [
           "Wasn’t that delta?"
          ],
          [
           "Warm regards I mean retards"
          ],
          [
           "Just waiting for a bank to announce they are deep in some  \"Strategic Harmonized International Tariff Swap (SHITS)\" instrument and spontaneously colapse."
          ],
          [
           "I forgot they existed."
          ],
          [
           "Thanks for the heads up."
          ],
          [
           "Nicely done"
          ],
          [
           "Short America right now"
          ],
          [
           "Virtually everybody in my circle stopped shopping at Target the day they sucked up to tinyhands by killing their DEI program. I always thought it was a phony commitment anyway, but it still stung.\n\nWe've been hardcore Costco shoppers for a long time so it hasn't affected us much, but it'll be interesting once the China tariffs kick in to see even among those who still want to shop there who can afford it."
          ],
          [
           "Looks like gyina is ready to let the \"phone ring off the hook\" for 5000 years.\n\n/"
          ],
          [
           "#Ban Bet Lost\n\n/u/Local-Wall-4359 made a bet that SPY would go to 540.0 within **5 hours** when it was 522.186 and it did not, so they were banned for a week.\n\nTheir record is now 0 wins and 3 losses\n\n[**Join WSB Discord**]()"
          ],
          [
           "We’re also hiring at the dumpster behind Wendy’s. \n10 handy’s an hour for all you can eat frostys"
          ],
          [
           "\"hmm. Trade War with China sounds good.\"\n\n\" but Sir, this could bolster Xi politically at a time when he is under greatest pressure at home for failed covid policies..\"\n\n\"This'll make great TV dont you think.?\"\n\n\"But Sir... this will tank the economy.! \"\n\n\"They're kissing my ass. Who's tired of winning amirite.?\""
          ],
          [
           "Or deal with the broken carts at Walmart. Target carts are smooth"
          ],
          [
           "$90k -> $1M if the fed cuts rates >25bps. Fellas I might just port it"
          ],
          [
           "That’s what you get when u bet against America"
          ],
          [
           "Same"
          ],
          [
           "I’m still down 24% from recent highs. I wonder who I can blame for this… gays?"
          ],
          [
           "One might say they were a \n\n*takes off sunglasses*\n\nTARGET of a boycott"
          ],
          [
           "I am so addicted to this market I can't wait for Monday"
          ],
          [
           "Speak for yourself, my wife is being harder on them than I am.  She's *pissed*.  \"Greatest anime betrayals\" level pissed.  I still pop by there every now and then for a few things when it's convenient.  (Their BBQ potato chips are real good and like $1.50.)"
          ],
          [
           "I did puts over the weekend, am I cooked ![img](emote|t5_2th52|4260)![img](emote|t5_2th52|31225)"
          ],
          [
           "Brother no"
          ],
          [
           "Hah.. you belong here."
          ],
          [
           ">President Donald Trump has asked the US Supreme Court to let him fire top officials at two independent agencies, citing a need to assert executive power over federal regulators.\n\nThat explains why Fed caved and pivoted today LMAO"
          ],
          [
           "You can evaluate the price of a company by looking only at its stock price?\n\nCommercial, defense, hybrid are revenue models?\n\nThis reads like a really low IQ marketing intern who read a capitalIQ sector description and barfed out a shitty 1-pager.\n\nWhat the fuck is this dude?"
          ],
          [
           "I caught a 3 day ban last time using retard. Fucking retard admins."
          ],
          [
           "Like others have said, I go to target to avoid Walmart people"
          ],
          [
           "Are we allowing the similar to cock one now as well?"
          ],
          [
           "Call jay gee went worth 8 seven seven cash meow"
          ],
          [
           "Yippee..... If the US dollar goes to zero then all our stocks go to infinity ...... We're about to be rich bois !!!!\n\nThank you"
          ],
          [
           "Mostly in MSTR calls, AAPL puts and GBTC long."
          ],
          [
           "China: \"We are going to build our future on science and technology. we working on a new fusion technology.\"\n\nAmerica: \"We are going to build our future on coal\"\n\nLMAO"
          ],
          [
           "10 consecutive weeks _so far_"
          ],
          [
           "The comparison is over used but the US is literally Germany in 1934."
          ],
          [
           "Chicken jockey"
          ],
          [
           "Can we go full retard?"
          ],
          [
           "Be like mango. Create a new holiday. Hype it up for 2 months. Talk about it nonstop. Make a presentation on that day.\n\nThen drop it all and act like it never happened after a few days. LMAO"
          ],
          [
           "I’m proud of you for making a P/L chart look like a retard trying to draw a square wave.\n\nSeriously why is it so square?"
          ],
          [
           "It's a holdings company like RCAT, UMUS, etc.. As a holding company, may have a couple owned companies that sell good, niche equipment, BUT no plan for scaling nor growth, aka they need capital to enter bigger contracts.  Looks like a decent *MBA* mgmt team and that's what they're selling in this IPO. \n\nBig red flag: no IP no R&D successes. \n\nHeck I'm in this industry and they have no advertisements on NDAA compliance meaning US DoD can't buy their stuff (if OP is shilling the corp, you better have them update their website)\n\nHence riding momentum of RCAT & UMUS (cough, DonJr) and chasing Anduril. Conclusion:   ![img](emote|t5_2th52|4267)"
          ],
          [
           "Bro y u buy puts after a -4% day yesterday"
          ],
          [
           "Held onto my egg futures too long now they are poultry futures."
          ],
          [
           "Good"
          ],
          [
           "# Happy reeeeeeeeeeetardations to everyone"
          ],
          [
           "Dude. I haven’t felt this free since I went back in the closet. \n\nGod damn. You all are retarded and I love it. \n\nNow on to our next battle. Bringing back FD’s"
          ],
          [
           "How this Friday pumped is beyond me."
          ],
          [
           "I've literally lost all my money this week."
          ],
          [
           "Lmao TSLA is green ![img](emote|t5_2th52|4271)"
          ],
          [
           "Lets get retarded in here"
          ],
          [
           "What’s your favorite flavor of Crayola?"
          ],
          [
           "Inflation expectations for year ahead highest since 1981 at 6.7%.\n\nBetter get out of cash."
          ],
          [
           "Has Xi called yet?\n\nCan someone check if the phone is working?"
          ],
          [
           "Sam’s is literally bulk wal mart lol. If anything cheaper quality to an extent. But mainly just left over bulk. Like they only carry 2 scents of one brand of soap, usually the least popular smells. But damn you get 4x the amount lol"
          ],
          [
           "I know they are missing me, I did my weekly grocery shopping there, buy my clothes there, all my home and beauty products too! Easily spend 10k a year there, and I haven't been since the super bowl!"
          ],
          [
           "Life is way too fucking long\n\n\nI need to fucking die already"
          ],
          [
           "Thank God this week is over"
          ],
          [
           "## RETARDED"
          ],
          [
           "Holding over the weekend kind of scared"
          ],
          [
           "The market goes down, I get screwed over. The market goes up, I *still* somehow get screwed over.."
          ],
          [
           "Irl you could always say retarded without getting banned"
          ],
          [
           "Found the killjoy."
          ],
          [
           "\n**User Report**| | | |\n:--|:--|:--|:--\n**Total Submissions** | 10 | **First Seen In WSB** | 3 years ago\n**Total Comments** | 208 | **Previous Best DD** | [x](/) \n**Account Age** | 3 years | | \n\n[**Join WSB Discord**]()"
          ],
          [
           "Be advised, Netflix april 17th calls/puts will be fucked because earnings is after market closes. They can still be excercised, but they will expire on Thursday, same night as the earnings."
          ],
          [
           "Pack it up tahgit! Go Screw!"
          ],
          [
           "They meant the Airline"
          ],
          [
           "Its pretty clear China's strat is to troll  into 10^1000% tarrifs with these dope memes they dropping\n\nThe resulting panic will force him to concede everything when SPY drills to $1"
          ],
          [
           "I started applying to jobs in Germany. Hopefully I can stay there 3 years"
          ],
          [
           "Especially C.R.E.A.M."
          ],
          [
           "I made 6k instead of a potential 9k and i’ve been depressed all day about it. \n\nI’m gonna go fuck myself, sorry man :("
          ],
          [
           "Dog you didn’t have to do him like that"
          ],
          [
           "what does green have to do with Chinese tariffs?"
          ],
          [
           "Is this legit ? What is your net worth ?"
          ],
          [
           "Years ago I found Kate Rooney’s instagram.\n\nPrivate, but I requested anyway.\n\nWhen she got married she went public and it auto approved all of the pending follow requests. \n\nI was in. I couldn’t believe it. My CNBC crush. She was so hot.\n\nJust noticed today that she removed me. While sad, the fact that she had to see my profile and click remove means she knows I exist. Small Ws"
          ],
          [
           "Bank week is so boring. PUTS on NFLX"
          ],
          [
           "I've been in them. They're nothing special."
          ],
          [
           "But have you also seen the one that made millions?"
          ],
          [
           "just read someone say banks dumped today after they sold. The specific bank they mentioned rose 4% at open, then stayed flat the rest of the day\n\nAT LEAST MAKE YOUR LARPing  BELIEVABLE"
          ],
          [
           "Thank u for ur support"
          ],
          [
           "He is 100% falling asleep with the phone in his hand just in case he calls"
          ],
          [
           "Nah, Mr. TurboTax remembers"
          ],
          [
           "Peasant dont even know fartcoin is up  89% this week, 234% on the month"
          ],
          [
           "You building a city skyline?"
          ],
          [
           "You’ve got about a year at Wendy’s drive through window before you lose your job to AI. Make it count"
          ],
          [
           "Had to get my car fixed.  The shop owner drives a cybertruck and posts about his   love on social media but I've known him forever so I just go there.\n\nI asked him if tariffs would affect him with parts and all\n\nhe said \"i dont believe there will be tariffs\"  ![img](emote|t5_2th52|4271)![img](emote|t5_2th52|4271)"
          ],
          [
           "Something about it always made me giggle."
          ],
          [
           "I see that your reading comprehension is still lacking"
          ],
          [
           "So sayeth the Market Makers"
          ],
          [
           "Exactly what I was ready to type vehemently."
          ],
          [
           "China increases tariffs on US. \n\nMarket goes up. \n\nPerfectly Balanced."
          ],
          [
           "Donno why you’re getting downvoted. You’re not wrong IMO."
          ],
          [
           "what do you expect? it sells toilet papers....margin will shrink more if that industry comes here...![img](emote|t5_2th52|4271)![img](emote|t5_2th52|4271)"
          ],
          [
           "Teachers pet ugh"
          ],
          [
           "Just dm me"
          ],
          [
           "![img](emote|t5_2th52|4271)"
          ],
          [
           "Can I have a Flair Brazilian Retard ?"
          ],
          [
           "It’ll stay flat probably"
          ],
          [
           "After reading this thread, it sounds like a horrible investment so I'm buying CALLs on Monday."
          ],
          [
           "Nope."
          ],
          [
           "Fuck this retarded market and all the retards in this sub"
          ],
          [
           "Plain spaghetti not so bad actually"
          ],
          [
           "Cant dad just work for another 50 years and give it to you again geez?"
          ],
          [
           "Besides losing 3k in the market today I passed my chemistry test ![img](emote|t5_2th52|8883)![img](emote|t5_2th52|4260)![img](emote|t5_2th52|18630)"
          ],
          [
           "Position?"
          ],
          [
           "Hi Grandma I didn't know you were on Reddit"
          ],
          [
           "u/wutang that’s a badass name"
          ],
          [
           "Sometimes I buy onlyfans of girls I went to high school with just to make sure I never missed out"
          ],
          [
           "Literally spent my last dollar on puts. A 12 hour shift last night just to scrounge up $350. Fell asleep midday. Woke up to no money.\n\nLiterally would need to borrow money to eat. Luckily I’m fat and can use that for energy.\n\nTime to work Uber for 36 hours over the next 3 days so I can make it back on Monday ![img](emote|t5_2th52|18630)![img](emote|t5_2th52|18630)"
          ],
          [
           "$REIT $ARD"
          ],
          [
           "man i kinda wanna go to a rage room and break a few things to let it all out ![img](emote|t5_2th52|4271)"
          ],
          [
           "So you only see white chicks at Target even though white chicks “don’t give a shit” and YET! Target is tanking?\n\nLooks like the white chicks in leggings may have actually given a shit, by your own logic."
          ],
          [
           "Haven’t traded in like 3 days and my god life is so worth living. Watch a sunset from time to time bros"
          ],
          [
           "Some here will enjoy themselves regardless."
          ],
          [
           "Target was literally my \"they are better than Walmart so I'll spend money there instead of Walmart\" and now the one grocery store within walking distance loses my business "
          ],
          [
           "/"
          ],
          [
           "Good dd"
          ],
          [
           "You see a glass that's 98% empty. \n\nI see a glass that's 2% full."
          ],
          [
           "Lost 2k first week \"investing\" in options, disabled them, and now I'm just gonna chill."
          ],
          [
           "i sold my puts so i expect cheeto to declare war on denmark"
          ],
          [
           "![img](emote|t5_2th52|31224)"
          ]
         ],
         "hovertemplate": "subreddit=wallstreetbets<br>polarity=%{x}<br>subjectivity=%{y}<br>text=%{customdata[0]}<extra></extra>",
         "legendgroup": "wallstreetbets",
         "marker": {
          "color": "#636efa",
          "symbol": "circle"
         },
         "mode": "markers",
         "name": "wallstreetbets",
         "opacity": 0.5,
         "orientation": "v",
         "showlegend": true,
         "type": "scatter",
         "x": {
          "bdata": "zczMzMzM7L9TVVVVVVW1PwAAAAAAANA/i5mZmZmZqT8AAAAAAADwPwAAAAAAAAAA2d3d3d3dzT8AAAAAAADQPzRaozVao8U/AAAAAAAAyD9mZmZmZmbePwAAAAAAANA/AAAAAAAAAAAAAAAAAADwPwAAAAAAAAAAAAAAAAAAAACWmZmZmZnJPwAAAAAAAAAAmpmZmZmZ6b8zMzMzMzPTv5qZmZmZmck/AAAAAAAAAAAAAAAAAADAPwAAAAAAAAAAAAAAAAAAAAAAAAAAAAAAAAAAAAAAAOA/AAAAAAAAAAAAAAAAAADsPwAAAAAAAOC/AAAAAAAAAAAAAAAAAAAAACMiIiIiIsq/kpmZmZmZuT8AAAAAAAAAAJqZmZmZmck/MzMzMzMz4z+QJEmSJEnCP83MzMzMzMw/mpmZmZmZyT+amZmZmZnpP5KZmZmZmbk/mpmZmZmZ1T8AAAAAAAAAAAAAAAAAAAAAAAAAAAAAAAAAAAAAAAAAAEUjAd+8msg/AAAAAAAAAACamZmZmZnZv0REREREROQ/AAAAAAAAAAAAAAAAAAAAAAAAAAAAAAAAeHd3d3d31z8QERERERHBvzMzMzMzM+O/AAAAAAAAAAAAAAAAAAAAADMzMzMzM9M/AAAAAABM7T/NzMzMzMzMP42nBHlKkMc/mpmZmZmZuT8AAAAAAAAAADMzMzMzM+O/mpmZmZmZ0b+PpwR5SpDXP9EnfdInfcK/F4ZhGIZh0D8AAAAAAAAAAP4QEREREZG/ZmZmZmZm5j+amZmZmZnpP/4QEREREZE/AAAAAAAAAAAAAAAAAAAAAGZmZmZmZsY/mpmZmZmZ6b8AAAAAAADgPwAAAAAAAOA/AAAAAAAAAABSuB6F61HYP5aZmZmZmck/zczMzMzM1L8AAAAAAAAAAJqZmZmZmem/MzMzMzMz4z8AAAAAAAAAAJqZmZmZmem/AAAAAAAAAAC5u7u7u7vLPzMzMzMzM+O/AAAAAAAAAAAAAAAAAAAAAGZmZmZmZsY/AAAAAAAAAAAAAAAAAAAAAGZmZmZmZtq/AAAAAAAAAACamZmZmZm5vzMzMzMzM8M/IEmSJEmStL8AAAAAAADwv7Zt27Zt29Y/AAAAAAAAAACGiIiIiIjAPwAAAAAAAAAAAAAAAAAAAAAAAAAAAAAAAAAAAAAAAAAAAAAAAAAAAAAAAAAAAAAAACd90id90ss/AAAAAAAAAAAAAAAAAAAAAAAAAAAAAAAAmpmZmZmZyT8AAAAAAADwPwAAAAAAAOC/pqqqqqqqqr8AAAAAAAAAAAAAAAAAAAAAAAAAAAAAAADNzMzMzMzsv5qZmZmZmZm/MzMzMzMz078AAAAAAAAAAGdmZmZmZua/EjiBEziB078AAAAAAAAAAAAAAAAAAAAAAAAAAAAAAAAAAAAAAAAAAAAAAAAAAAAAH4XrUbge1T+HPumTPumjPwAAAAAAAAAAAAAAAAAA0L8zMzMzMzOzvzMzMzMzM9M/mpmZmZmZ2T+amZmZmZm5PwAAAAAAAAAAZmZmZmZm5j/5//////+/P32ZmZmZmZk/AAAAAAAAAAAAAAAAAAAAAA==",
          "dtype": "f8"
         },
         "xaxis": "x",
         "y": {
          "bdata": "AAAAAAAA8D8UbMEWbMHGPwAAAAAAAOA/ZmZmZmZm5j8zMzMzMzPTPwAAAAAAAAAARURERERE6D9VVVVVVVXVP9VBHdRBHeQ/mpmZmZmZqT+amZmZmZnpPzMzMzMzM9M/AAAAAAAAAAAzMzMzMzPTPwAAAAAAAAAAAAAAAAAAAAAzMzMzMzPTPwAAAAAAAAAAmpmZmZmZ6T+YmZmZmZnZPzMzMzMzM9M/AAAAAAAAAADe3d3d3d3VPwAAAAAAAAAAAAAAAAAAAAAAAAAAAAAAABzHcRzHcew/AAAAAAAAAAA0MzMzMzPjPwAAAAAAAPA/AAAAAAAAAAAAAAAAAAAAAGdmZmZmZug/zczMzMzM4D8AAAAAAAAAAJqZmZmZmck/AAAAAAAA8D/iK77iK77aP83MzMzMzNw/AAAAAAAA4D+amZmZmZnZP5qZmZmZmek/ZmZmZmZm4j/NzMzMzMzcPwAAAAAAAAAAAAAAAAAAAAAAAAAAAAAAAPcHGSo7TN0/AAAAAAAAAAAzMzMzMzPjP0VEREREROQ/AAAAAAAAAAAAAAAAAAAAAAAAAAAAAAAAVVVVVVVV4T8zMzMzMzPTP7VgC7ZgC+Y/AAAAAAAAAACamZmZmZnZP5qZmZmZmbk/AAAAAAAA6D/NzMzMzMzcP0UXXXTRRds/AAAAAAAA8D8AAAAAAAAAAGZmZmZmZu4/zczMzMzM6D9GF1100UXnPxzHcRzHcew/NlqjNVqj1T8AAAAAAAAAALm7u7u7u8s/NDMzMzMz4z8AAAAAAADwP3h3d3d3d9c/AAAAAAAAAAAAAAAAAAAAAM3MzMzMzOQ/mpmZmZmZ6T8AAAAAAADwPwAAAAAAAOA/AAAAAAAAAABI4XoUrkfhP4mIiIiIiOA/NDMzMzMz4z8AAAAAAAAAAJqZmZmZmek/zczMzMzM7D8AAAAAAAAAAJqZmZmZmek/AAAAAAAAAABvPQrXo3DdP2ZmZmZmZuY/AAAAAAAAAAAAAAAAAAAAACIiIiIiIuY/AAAAAAAAAAAAAAAAAADwP83MzMzMzOw/AAAAAAAAAAAzMzMzMzPDP5qZmZmZmak/cymXcimX4D8AAAAAAADwP5IkSZIkSeI/AAAAAAAAAAC7u7u7u7vbPwAAAAAAAAAAAAAAAAAAAAAAAAAAAAAAAAAAAAAAAAAAAAAAAAAAAAAAAAAAAAAAANMnfdInfdI/AAAAAAAAAAAAAAAAAAAAAAAAAAAAAAAAAAAAAAAA4D8AAAAAAADwP83MzMzMzOw/AAAAAAAAAAAAAAAAAAAAAAAAAAAAAAAAAAAAAAAAAAAAAAAAAADwPwAAAAAAAMA/ZmZmZmZm5j8AAAAAAAAAAJmZmZmZmek/mH/5l3/51z8AAAAAAAAAAAAAAAAAAAAAAAAAAAAAAAAAAAAAAAAAAAAAAAAAAAAAMlR2mLrc5j8UbMEWbMHGPwAAAAAAAAAAMzMzMzMzwz8jIiIiIiLSP5qZmZmZmbk/AAAAAAAA4D8zMzMzMzPTPwAAAAAAAAAANDMzMzMz4z/NzMzMzMzgP0NERERERNQ/AAAAAAAAAAAAAAAAAAAAAA==",
          "dtype": "f8"
         },
         "yaxis": "y"
        },
        {
         "bingroup": "x",
         "hovertemplate": "subreddit=wallstreetbets<br>polarity=%{x}<br>count=%{y}<extra></extra>",
         "legendgroup": "wallstreetbets",
         "marker": {
          "color": "#636efa"
         },
         "name": "wallstreetbets",
         "opacity": 0.5,
         "showlegend": false,
         "type": "histogram",
         "x": {
          "bdata": "zczMzMzM7L9TVVVVVVW1PwAAAAAAANA/i5mZmZmZqT8AAAAAAADwPwAAAAAAAAAA2d3d3d3dzT8AAAAAAADQPzRaozVao8U/AAAAAAAAyD9mZmZmZmbePwAAAAAAANA/AAAAAAAAAAAAAAAAAADwPwAAAAAAAAAAAAAAAAAAAACWmZmZmZnJPwAAAAAAAAAAmpmZmZmZ6b8zMzMzMzPTv5qZmZmZmck/AAAAAAAAAAAAAAAAAADAPwAAAAAAAAAAAAAAAAAAAAAAAAAAAAAAAAAAAAAAAOA/AAAAAAAAAAAAAAAAAADsPwAAAAAAAOC/AAAAAAAAAAAAAAAAAAAAACMiIiIiIsq/kpmZmZmZuT8AAAAAAAAAAJqZmZmZmck/MzMzMzMz4z+QJEmSJEnCP83MzMzMzMw/mpmZmZmZyT+amZmZmZnpP5KZmZmZmbk/mpmZmZmZ1T8AAAAAAAAAAAAAAAAAAAAAAAAAAAAAAAAAAAAAAAAAAEUjAd+8msg/AAAAAAAAAACamZmZmZnZv0REREREROQ/AAAAAAAAAAAAAAAAAAAAAAAAAAAAAAAAeHd3d3d31z8QERERERHBvzMzMzMzM+O/AAAAAAAAAAAAAAAAAAAAADMzMzMzM9M/AAAAAABM7T/NzMzMzMzMP42nBHlKkMc/mpmZmZmZuT8AAAAAAAAAADMzMzMzM+O/mpmZmZmZ0b+PpwR5SpDXP9EnfdInfcK/F4ZhGIZh0D8AAAAAAAAAAP4QEREREZG/ZmZmZmZm5j+amZmZmZnpP/4QEREREZE/AAAAAAAAAAAAAAAAAAAAAGZmZmZmZsY/mpmZmZmZ6b8AAAAAAADgPwAAAAAAAOA/AAAAAAAAAABSuB6F61HYP5aZmZmZmck/zczMzMzM1L8AAAAAAAAAAJqZmZmZmem/MzMzMzMz4z8AAAAAAAAAAJqZmZmZmem/AAAAAAAAAAC5u7u7u7vLPzMzMzMzM+O/AAAAAAAAAAAAAAAAAAAAAGZmZmZmZsY/AAAAAAAAAAAAAAAAAAAAAGZmZmZmZtq/AAAAAAAAAACamZmZmZm5vzMzMzMzM8M/IEmSJEmStL8AAAAAAADwv7Zt27Zt29Y/AAAAAAAAAACGiIiIiIjAPwAAAAAAAAAAAAAAAAAAAAAAAAAAAAAAAAAAAAAAAAAAAAAAAAAAAAAAAAAAAAAAACd90id90ss/AAAAAAAAAAAAAAAAAAAAAAAAAAAAAAAAmpmZmZmZyT8AAAAAAADwPwAAAAAAAOC/pqqqqqqqqr8AAAAAAAAAAAAAAAAAAAAAAAAAAAAAAADNzMzMzMzsv5qZmZmZmZm/MzMzMzMz078AAAAAAAAAAGdmZmZmZua/EjiBEziB078AAAAAAAAAAAAAAAAAAAAAAAAAAAAAAAAAAAAAAAAAAAAAAAAAAAAAH4XrUbge1T+HPumTPumjPwAAAAAAAAAAAAAAAAAA0L8zMzMzMzOzvzMzMzMzM9M/mpmZmZmZ2T+amZmZmZm5PwAAAAAAAAAAZmZmZmZm5j/5//////+/P32ZmZmZmZk/AAAAAAAAAAAAAAAAAAAAAA==",
          "dtype": "f8"
         },
         "xaxis": "x3",
         "yaxis": "y3"
        },
        {
         "bingroup": "y",
         "hovertemplate": "subreddit=wallstreetbets<br>subjectivity=%{y}<br>count=%{x}<extra></extra>",
         "legendgroup": "wallstreetbets",
         "marker": {
          "color": "#636efa"
         },
         "name": "wallstreetbets",
         "opacity": 0.5,
         "showlegend": false,
         "type": "histogram",
         "xaxis": "x2",
         "y": {
          "bdata": "AAAAAAAA8D8UbMEWbMHGPwAAAAAAAOA/ZmZmZmZm5j8zMzMzMzPTPwAAAAAAAAAARURERERE6D9VVVVVVVXVP9VBHdRBHeQ/mpmZmZmZqT+amZmZmZnpPzMzMzMzM9M/AAAAAAAAAAAzMzMzMzPTPwAAAAAAAAAAAAAAAAAAAAAzMzMzMzPTPwAAAAAAAAAAmpmZmZmZ6T+YmZmZmZnZPzMzMzMzM9M/AAAAAAAAAADe3d3d3d3VPwAAAAAAAAAAAAAAAAAAAAAAAAAAAAAAABzHcRzHcew/AAAAAAAAAAA0MzMzMzPjPwAAAAAAAPA/AAAAAAAAAAAAAAAAAAAAAGdmZmZmZug/zczMzMzM4D8AAAAAAAAAAJqZmZmZmck/AAAAAAAA8D/iK77iK77aP83MzMzMzNw/AAAAAAAA4D+amZmZmZnZP5qZmZmZmek/ZmZmZmZm4j/NzMzMzMzcPwAAAAAAAAAAAAAAAAAAAAAAAAAAAAAAAPcHGSo7TN0/AAAAAAAAAAAzMzMzMzPjP0VEREREROQ/AAAAAAAAAAAAAAAAAAAAAAAAAAAAAAAAVVVVVVVV4T8zMzMzMzPTP7VgC7ZgC+Y/AAAAAAAAAACamZmZmZnZP5qZmZmZmbk/AAAAAAAA6D/NzMzMzMzcP0UXXXTRRds/AAAAAAAA8D8AAAAAAAAAAGZmZmZmZu4/zczMzMzM6D9GF1100UXnPxzHcRzHcew/NlqjNVqj1T8AAAAAAAAAALm7u7u7u8s/NDMzMzMz4z8AAAAAAADwP3h3d3d3d9c/AAAAAAAAAAAAAAAAAAAAAM3MzMzMzOQ/mpmZmZmZ6T8AAAAAAADwPwAAAAAAAOA/AAAAAAAAAABI4XoUrkfhP4mIiIiIiOA/NDMzMzMz4z8AAAAAAAAAAJqZmZmZmek/zczMzMzM7D8AAAAAAAAAAJqZmZmZmek/AAAAAAAAAABvPQrXo3DdP2ZmZmZmZuY/AAAAAAAAAAAAAAAAAAAAACIiIiIiIuY/AAAAAAAAAAAAAAAAAADwP83MzMzMzOw/AAAAAAAAAAAzMzMzMzPDP5qZmZmZmak/cymXcimX4D8AAAAAAADwP5IkSZIkSeI/AAAAAAAAAAC7u7u7u7vbPwAAAAAAAAAAAAAAAAAAAAAAAAAAAAAAAAAAAAAAAAAAAAAAAAAAAAAAAAAAAAAAANMnfdInfdI/AAAAAAAAAAAAAAAAAAAAAAAAAAAAAAAAAAAAAAAA4D8AAAAAAADwP83MzMzMzOw/AAAAAAAAAAAAAAAAAAAAAAAAAAAAAAAAAAAAAAAAAAAAAAAAAADwPwAAAAAAAMA/ZmZmZmZm5j8AAAAAAAAAAJmZmZmZmek/mH/5l3/51z8AAAAAAAAAAAAAAAAAAAAAAAAAAAAAAAAAAAAAAAAAAAAAAAAAAAAAMlR2mLrc5j8UbMEWbMHGPwAAAAAAAAAAMzMzMzMzwz8jIiIiIiLSP5qZmZmZmbk/AAAAAAAA4D8zMzMzMzPTPwAAAAAAAAAANDMzMzMz4z/NzMzMzMzgP0NERERERNQ/AAAAAAAAAAAAAAAAAAAAAA==",
          "dtype": "f8"
         },
         "yaxis": "y2"
        },
        {
         "customdata": [
          [
           "Seeing lots of red in the ticker."
          ],
          [
           "He didn’t say thank you."
          ],
          [
           "Trump and dump"
          ],
          [
           "China will never lose a trade war. Delusional old guy from Queens never understood that."
          ],
          [
           "Sorry; I’m dumb but is this not just a USD to X conversion chart?"
          ],
          [
           "Pls respond"
          ],
          [
           "Xi is calm and sure-footed in his response to Trump, while Trump is irrational and makes quick decisions without considering the consequence. Also, he's stupid."
          ],
          [
           "If the \"rule of law\" wasn't a total joke, I might feel badly about it-- but it seems like nobody who matters does, so why should I?"
          ],
          [
           "You know what, as an American. I hope china comes out on top to teach him a lesson. Idgaf anymore"
          ],
          [
           "He didn't even pretend to put his money in a blind trust this time, did he?"
          ],
          [
           "Comedy gold :))"
          ],
          [
           "That's called winning!   /s"
          ],
          [
           "**You're absolutely right:** Since February 4, the DXY has dropped by 8.50%. Some have said it's all about pushing down U.S. bond interest rates, yet 30-year bonds have actually increased by 3.81% over the same period. He's losing on every front."
          ],
          [
           "My first thought"
          ],
          [
           "Americans are so brain dead lol"
          ],
          [
           "I think it’s gonna work itself out. I bought the doom and gloom at 4900 and deleted my trading app."
          ],
          [
           "His plan is \"fuck you, be less poor\""
          ],
          [
           "I think people are rooting for it to go bad really fast, so he realizes it's a terrible idea and changes course. It's slightly worked so far with him backtracking. If we rooting this on, we rooting for our own economic demise."
          ],
          [
           "MAGA:  \"It must be true!  He said it!\""
          ],
          [
           "basis trade unwinding could be causing this, but at this point in time do we really have any way to know? Most of this is just speculation as to why the selloff all we really know is that it is happening"
          ],
          [
           "I can’t take four years of lying. Help!"
          ],
          [
           "Japan and the UK are the two largest holders of T-Bills, IIRC."
          ],
          [
           "Trump surrounded himself with people telling him what he wants to hear. He's the one doing the filtering of the advice he gets. He may have surrounded himself with a bunch of idiots, but the biggest idiot is the one in the center of the circle."
          ],
          [
           "Actually they are the smart ones\n\nWho do you think is getting rich?\nIt’s not the American people.\n\nTrump just shorted the market intentionally and let his friends know when to invest, they did and walked away with billions.\n\nSo no, they aren’t dumb at all, they are just playing dumb, this is a calculated attack on every single person but them lol we all just got robbed lol"
          ],
          [
           "Do we have a copy of trump’s kindergarten graduation certificate? Ideally the long form version."
          ],
          [
           "I think it's actually illegal to say how I feel"
          ],
          [
           "Over 9000%!"
          ],
          [
           "FELON"
          ],
          [
           "Lump sum tends to beat DCA but DCA minimizes risk. (/ <- good article with more data on this)  \nI don't know if you need to invest in SCHD versus investing in a growth ETF (ie more into FXAIX), at 22 it is fine to invest in growth and have the slightly higher risk."
          ],
          [
           "What dose the 100.027 mean ?"
          ],
          [
           "\nAn evil man will burn his own nation to the ground to rule over the ashes. Sun Tzu"
          ],
          [
           "He will pardon them all. Just crazy someone can have so much power after so much mess"
          ],
          [
           "China to the fucking moon. \n\nFuck that clown."
          ],
          [
           "China is aggressor & US allies siding with China would remembered."
          ],
          [
           "The frame of reference I’m using, are the actual government documents from the country we’re talking about. And to clarify what these documents are stating, I’m moving on to using the known definitions of words. If China doesn’t want to be known as a dictatorship, they should change the verbiage, and more importantly, the way their government works."
          ],
          [
           "Trump is like the annoying little brother (with an extremely high ego)... Throwing tantrums to get his bigger brother's attention... >.<"
          ],
          [
           "Disgusted ."
          ],
          [
           "Carney is the mastermind. China is saved til later. They don't want to strengthen their currency by cashing bonds. jpn, uk, eu are fine with stronger currency vs usd"
          ],
          [
           "Why is he signing his tweets like he's quoting himself? Boomers bro lmao"
          ],
          [
           "No, they love it. It allows them to live vicariously through trump and still allows them the upper hand against liberals because they can say awesome stuff like \"you're dumb for not doing what he did\" and/or \"I don't care, at least someone's making money\" and/or \"this is just more proof of how genius he is\" and the excuses will never end and always be changing."
          ],
          [
           "He reached this level only because of his inheritance. He consistently ruins everything he touches. The only reason he isn't a pauper is that wealth tends to support and build itself."
          ],
          [
           "This is not the subreddit for useful and accurate financial information, especially this week"
          ],
          [
           "This is WRONG ANAL isis. TRUMP is VERY SMART by the TARIFFS becuz the reciyclical TARIFFS won't pass arbitration so you see Trump's ANAL is MAGA!!!"
          ],
          [
           "Trump doesn't have the brain power for any sort of strategy. It's all id."
          ],
          [
           "The bond market is also begging for that call. Thing is bouncing around worse than the S&P.."
          ],
          [
           "And r/conservative are currently chest bumping over stories of firing judges, deporting students and trans high school sports bans ‍‍‍"
          ],
          [
           "Well, they wanted to devalue USD, so now they got it... \n\nBut geniuses didn't realize it's going to come at the price (or cost) of all the other assets crashing down... Cool, you got cheap exports, but you just f##ked everyone's 401k."
          ],
          [
           "This man literally just had to do nothing, that's all. And he and his dumbass party couldn't even do that right"
          ],
          [
           "How much did he lose the day, week, month  before ?    Who cares.  It’s all on paper."
          ],
          [
           "My mind went to Clint Eastwood, Tommy Lee Jones, Donald Sutherland, and that last guy in this description at first..."
          ],
          [
           "Agolf Shittler or tangerine toddler."
          ],
          [
           "Criminals belong in jail, or better."
          ],
          [
           "I need people to understand this man is NOT stupid. You want him to be so bad but he is NOT. Everything he is currently doing is apart of the plan. The major goal is to crash the economy and the USD and build a new US and USD. Please wake up."
          ],
          [
           "China will fold and Trump will get the W he wants."
          ],
          [
           "ChatGPT model is not build on 2025 data, so, no, ChatGPT is not giving the results based on what the orange fucker is doing"
          ],
          [
           "We had something like this with Liz Truss (with help from Kwasi Kwarteng) in the UK but on a smaller scale.\n\nIf this plays out the same way, the next step is that we all learn that it was a perfect plan but it was intentionally derailed by the radical left and the deep state.\n\nIn the UK we had politicians with enough sense to remove her. If no-one steps up in the USA then there's no saying where it goes next."
          ],
          [
           "Who is the dumbass not asking for second opinions, opposing views and weighing the pros and cons? That's his one and only job.\n\n\nFor sure this person should be pilot in command for this sunbound vessel."
          ],
          [
           "That's not really a question now, is it.\n\nTrump is the epitome of the Republican Party, the most honest representation of the political far-right in living memory. That is why he is immensely popular, the more he destroys the US government, the happier the oligarchs and the Republican base is.\n\nYou have to figure that the GOP has been electing criminals for the past 80 years. Richard Nixon was first elected to Congress in 1947, was in the White House as VP in 1953, was nearly president in 1961, and both he and his VP from 1969 to 1974 occupied the White House. Instead of going to prison for life for their crimes, both the Republican president and vice president got to walk away scot-free. In 1973, the GOP engineered a coup to install another VP to become president to ensure that all future Republican government officials, all of similar criminal intent, are allowed free regain to never face any sort of criminal justice for their crimes.\n\nIt's kind of easy to see how Gerald Ford, a guy never voted into the White House, could be the worst US president in history. In the typical Republican gaslighting way, \"for the good of the people\" was the rallying cry to let these criminals, the highest elected officials in the land, walk away without life terms in prison. The exact opposite is true, and the US political center and so-called \"left\" as well as the world as a whole has been paying the price since.\n\nIn the immortal words of Michael Bolton (Office Space, 1999), had Spiro Agnew and Richard Nixon spent the rest of their lives in a \"federal pound-me-in-the-ass prison,\" the US would not have had this never-ending, long line of far-right-wing criminals in federal, state, and local government positions, fleecing and living off taxpayer dollars (and by extention other nations all across the globe).\n\nBut here we all are, living the Republican dream with the dream Republican president.\n\nOr, to put it another way, if you were not already expecting this, then, as they say, you haven't been paying attention."
          ],
          [
           "The US has made it clear that it has no allies. Only self-interests. If that is the rule of the game the US likes to play, that is how everyone else will play it. \n\nCan't blame anyone else but yourselves."
          ],
          [
           "Clearly 77 million people  are ok with this."
          ],
          [
           "6969% tariffs or riot."
          ],
          [
           "I imagine the entire Trump admin gets out of a clown car"
          ],
          [
           "And himself along maybe? At least nobody can blame him for having a fake tan after that."
          ],
          [
           "Also China: We are embargoing strategic minerals needed by your military and tech sectors.\n\n/\n\nI'm kind of amazed no one is talking about this."
          ],
          [
           "Let him take it all and much more. I want his grift to be so blatant and terrible that it's no longer partisan when they are forced to change the laws and rules and that those laws are passed unanimously to prevent this cluster fuck from ever happening again from any sitting president until the end of time."
          ],
          [
           "Pelosi and several others did the same thing."
          ],
          [
           "Trump's Razor that needs to become a common term"
          ],
          [
           "What market manipulation will he do today?"
          ],
          [
           "Does it matter how I feel?"
          ],
          [
           "Perfect some might say."
          ],
          [
           "Mf signs his texts. Good grief"
          ],
          [
           "Who created those refugees in the first place though?"
          ],
          [
           "He doesn't have the cards"
          ],
          [
           "I’m tired. The US is a goddamn joke."
          ],
          [
           "It felt better to say my president was black and my Lambo was blue."
          ],
          [
           "Wild that people are praising China, and talking about how great they are. They're great if you're not Taiwanese, Ukrainian (biggest supporter of Russia), Muslim, or non Chinese."
          ],
          [
           "Free nation that invaded Iraq, Vietnam, over a lie and MIC. And currently threaten to annex Greenland, Panama and Ukraine minerals. \nWho supported Israel genocides by arming them, wipe out entire native by starvation, and annex Hawaii as late as 1945.\n\nYeah better root for China."
          ],
          [
           "His sneakers, guitars, and cyrpto (i am not naming everything) proved that."
          ],
          [
           "The Orange Idiot poked the Dragon and now is about to get his face burned off."
          ],
          [
           "Not great Bob"
          ],
          [
           "What are we gonna call it when Wendy's is gone."
          ],
          [
           "Maybe trump should kiss his ass"
          ],
          [
           "Tangerine Twat is my absolute favourite."
          ],
          [
           "Emoluments clause? lol. What is that?"
          ],
          [
           "Really good one!!"
          ],
          [
           "His Financial policy is based off a fictional book. His advisor just use ChatGPT or GROK for their plans. Thiel is so helbent on destroying the poor and middle classes. He just wants to take his money and be an oligarch like in Russia minus the windows."
          ],
          [
           "Fairly"
          ],
          [
           "Bullshit"
          ],
          [
           "Sooo 3 cent is crashing huh?"
          ],
          [
           "They're not qualified advisors, they're people who will tell Trump he's right."
          ],
          [
           "Doing well on destroying the US Economy, then sure."
          ],
          [
           "And Trump just handed them this situation on a silver platter. Incredible."
          ],
          [
           "I don’t think they will feel it for a few weeks out. They’re not smart enough. It’s going to have to hit them square in the face. Their prez won, so they’ve tuned out in the news and the markets."
          ],
          [
           "Why can’t we take him out of office because he clearly lost his effing mind."
          ],
          [
           "Pretty sad we have to read between the lines."
          ],
          [
           "All empires fall at one point, you know trust is a fickle thing, takes a lifetime to build and you can lose it in a matter of seconds."
          ],
          [
           "Sun Tzu wrote in The Art of War: “*In war, the victorious strategist only seeks battle after the victory has been won.*”\n\nSo yes, I wouldn’t be surprised if what you described would become a viable scenario."
          ],
          [
           "These lying felons & crooks don’t serve the American people!Sell us out complete greed!!"
          ],
          [
           "China is a neoauthoritarian state. \n\nXi Jingping will not care if the public are mad about investment portfolios or the COL. He can force his subjects through this trade war for as long as it takes.\n\nThe US is just a burgeoning dictatorship. Trump doesn't have the power of Xi over the American people, for now."
          ],
          [
           "I agree, but you cannot just quickly change out of it.  It’s not like medical manufacturing can instantly move to the U.S. or other countries, and the way he is going about this risks the health of Americans today."
          ],
          [
           "Dude, the world has turned enough so that now Germany and Japan _are the good guys_!\n\n\nFuck knows where a rebound would land with such a curve, North Korea perhaps."
          ],
          [
           "Not great bob"
          ],
          [
           "En Passant!"
          ],
          [
           "They're doing so well, r/conservative simply doesn't talk about it anymore"
          ],
          [
           "When you talk shit, and it’s a lie, this is the result. The orange felon acts and speaks as if it’s not gonna circulate. He probably actually thinks this way"
          ],
          [
           "You make no sense. Then why is everyone crying coming to USA arms with deals they didnt want to make?"
          ],
          [
           "Money and power go together... it's sick in this context"
          ],
          [
           "Oooooffff 99.45 right now"
          ],
          [
           "LOL The US has no allies anymore."
          ],
          [
           "You really expect any of them to understand a lick of economics?"
          ],
          [
           "China doesn’t have to do anything here.\n\nThis tariff is going to be a fucking PR and market nightmare for this administration if they keep it up for more than a few days.  The shit just hasn’t started hitting the fan yet.\n\nThe other tariffs pale in comparison to the damage this one is going to unleash."
          ],
          [
           "Imo it's bullshit for another reason: why would a trade deficit lessen when the dollar gets stronger? If anything, a *weaker* dollar allows the US to have higher exports, because their products get cheaper in relation.\n\nEdit: it seems that guy is missing the point entirely. Trump doesn't even say he wants a stronger dollar. Google it and you will find him say he wants it weaker."
          ],
          [
           "Well Trump is an idiot too, so there’s that"
          ],
          [
           "And they would thank him for such magnificent shit while doing so…."
          ],
          [
           "China has been preparing for this since the Opium Wars.\nThis isn’t just about trade or military might — it’s a civilizational strategy. Where we prioritize individualism, they lean into collectivism. And they’re not thinking in 4-year election cycles or even single lifetimes. They’re playing the long game — generational, legacy-focused, and deeply patient."
          ],
          [
           "Belichick 2028???"
          ],
          [
           "Couldn't we just use a cost-effective firing squad? We don't need to be giving even more handouts to SpaceX."
          ],
          [
           "Nice!"
          ],
          [
           "My concern is that it will give him the excuse to declare martial law, suspend the constitution and 'delay' the mid-terms."
          ],
          [
           "Trump signaled that he panicked at the bond market selloff earlier this week\n\nXi is going to just sit back, watch Trump make mistakes and laugh himself to sleep every night\n\nChina doesn’t need USA anywhere near as much as USA needs China and it’s not even close"
          ],
          [
           "Bro don’t try, to quote tropic thunder. He went full retard."
          ],
          [
           "It was so blatant.  In a normal version of the US, this is exactly what the SEC would be prosecuting.   But thanks to SCOTUS making the Presidency a flawless monarchy unable to commit crime, nothing will happen."
          ],
          [
           "Holy hell, you morons will believe anything as long as it has Irange man Bad in it someplace. "
          ],
          [
           "Nancy Pelosi insider trading bad.... Donald Trump insider trading good..?"
          ],
          [
           "a month ago I typed out a list of everything that was happening and asked ChatGPT what else I could do to help accelerate issues. \n\nChatGPT refused to comply even when I said this was all hypothetical and for a book."
          ],
          [
           "He makes me want to vomit."
          ],
          [
           "Conservatives love it!! They think he is so smart!! That’s how you make a deal!!! Wow how cool MARKET MANIPULATION!! It’s okay though I’m sure they all listened to the same Russian funded propaganda podcast so they all agree with each other continuing the stupidest echo chamber ever!!!"
          ],
          [
           "But the same is true for the US.  Literally imports of Chinese goods will halt.  China has more to lose than the US because they import about 1/4th what we do.\n\nThis will cripple the Chinese economy and cause massive unemployment and faults on factory loans"
          ],
          [
           "I'm happy for him."
          ],
          [
           "\"We\" who?"
          ],
          [
           "Like he should be in Jail today? Yea. That about sums it up."
          ],
          [
           "I say, call em. Call Trump, record it and expose his desperation. If for no other reason than to make my day better."
          ],
          [
           "Children don’t have guns and apparently a big part of their priorities is stopping children from eating unless they get a job"
          ],
          [
           "I feel reinforced in my belief that Trump is the worst thing that has ever happened to this country, and that no person can logically support him, no matter what their political philosophy. "
          ],
          [
           "Yeah it's also why I've been rolling ny eyes at \"China is selling\" or \"Japan is selling\". There's a good sign everyone is diversifying and see US bonds as higher risk."
          ],
          [
           "[ Removed by Reddit ]"
          ],
          [
           "Does it matter ? Who in here is gonna do anything g ? Nobody"
          ],
          [
           "Look up \"Dark Gothic MAGA how Tech billionaires plan to destroy America\" on YouTube. Personal enrichment is just a stepping stone. The end goal is dissolution of the US, to be replaced by libertarian Blockchain nonsense."
          ],
          [
           "Thanks for the laugh during these times"
          ],
          [
           "Everyone is talking about the Bond market. But the rates for the bond market are still lower than the rates they had earlier this year.\n\nWhat is everyone talking about?"
          ],
          [
           "Super curious if you’ll delete this comment in 4 years when you’re wrong.  So I’m going to do a\n\nRemindMe! 47 months"
          ],
          [
           "US currently has no allies."
          ],
          [
           "That is not what this chart shows"
          ],
          [
           "American president creates a \"problem\" where there was not a problem, and most of Americans are happy to pay higher prices, its funny as fuck."
          ],
          [
           "moving money quickly from us to his own pockets"
          ],
          [
           "I dont think this is the right conclusion. Due to arbitrage, markets would fall everywhere even if only one foreign country (like China) dumps their us bonds in the market"
          ],
          [
           "Go with the flow if you wanna make money..for the next 4 years."
          ],
          [
           "What  about the 36 trillion debt?? Which Biden policy was going to do something about that? "
          ],
          [
           "Someone should tell the trump administration that phones work both ways"
          ],
          [
           "Are any of you investing in European stocks for when the European market opens in about 9 hours?"
          ],
          [
           "China has been preparing for this and this administration lies, is terrible at negotiating, and cannot be trusted with an so-called *deals.*\n\nThis administration is barely treading water and is likely to bring the United Sates into a deep recession whilst simultaneously claiming victory and blaming previous administrations along the meat. The U.S. willingly chose this."
          ],
          [
           "Bad."
          ],
          [
           "Wait until you find out what Americans are doing to Muslims."
          ],
          [
           "So every country is a dictatorship if you change the definition of dictator, got it.\n\nThat daily CCP propaganda sure has worked wonders on you."
          ],
          [
           "My feelings will get me sent to El Salvador"
          ],
          [
           "Cheeto Trumpedo to you!"
          ],
          [
           "Remember the Singal Gate? It was just 2 weeks ago and it stopped. Something more ridiculous next month will make everyone forget that he crushed the economy, again."
          ],
          [
           "One billion gagillion fafillion shabadabalo shabadamillion shabaling shabalomillion percent."
          ],
          [
           "All proceeds from elected officials and those appointed performing official acts should go to the public treasury."
          ],
          [
           "I’m not sure the US has any allies any more."
          ],
          [
           "I'm on my way into work, all my coworkers are going to talk about is how Biden did things 100x worse. I'm going to have to listen to conspiracy theories involving Fauci, and Hunter, and Obama..."
          ],
          [
           "I never thought once in my life I'd say \"good for China.\" Stick it to that orange imbecile."
          ],
          [
           "Why stop there? Why not one million percent?"
          ],
          [
           "They just went to bed for the day… china doesn’t care"
          ],
          [
           "The assumption underlying your statement is that MAGA possesses the capability and aptitude to learn such a lesson."
          ],
          [
           "Anyone else would be indicted for insider trading. For this motherfucker it was just Wednesday."
          ],
          [
           "All that money doesn’t make him bulletproof"
          ],
          [
           "It’s chyyyynnnnnaaaaA"
          ],
          [
           "There are few values that are more American than criticizing America, the president, and the government.  Regardless of who is in power.\n\nThe willingness to accept literally anything this guy does is the most dangerous part.\n\nI hear MAGA talking heads saying things like \"losing money is patriotic!\" and that's straight up cult talk.  It's one thing to advise people to hold and trust the process and keep DCAing in lower.  It's entirely another to tell people to supplicate their hopes and dreams to The Leader."
          ],
          [
           "I thought it was washing money or something similar,  I could not believe you can bakrupt a casino 6 times. I changed my mind"
          ],
          [
           "Euro to USD was 1.6 in 2007, now it’s 1.12. What crash?"
          ],
          [
           "China just called him a joke a couple of hours ago, and that’s the only call he’s probably gonna get."
          ],
          [
           "Trump crashed the economy worse than Liz Truss crashed it over here in the UK."
          ],
          [
           "Again. Where the fuck is congress?"
          ],
          [
           "How long before Trump imposes capital controls to stop foreigners liquidating their US assets and repatriating the funds?"
          ],
          [
           "The Chinese likely hold these bonds in many different currencies.\n\nThe English aren’t likely dumping bonds and the Japanese have been very mute recently and they’re pretty clever. I wouldn’t be surprised if they’re doing a good bit of selling. \n\nBut yeah this data shows nothing. Just because I own a pound note or a €5 note doesn’t mean I’m French or Welsh."
          ],
          [
           "404 Brain not found. Hm... I get the feeling that these random nonsense tweets are AI generated in intervals. Are we in the Matrix after all?"
          ],
          [
           "Trump grossly miscalculated if he thought he could extort China. Even if you could someone prove the hurt to China will be much worse, and the reality is China has a lot of problems right now, the CCP doesn't care. They only care about strength and the projection thereof. They're perfectly willing to let their citizens suffer and take it on the chin when it comes to their growth and the health of the economy. \n\nNothing they'll go through will compare to the Great Leap forward. They're far more afraid of looking weak, and actually being weak, than any suffering you can scare them with.\n\nTrump is committing a fallacy humans have committed time and again, when they impart their expectations upon their adversaries. Just because economic hardship is anathema to the U.S. doesn't mean China isn't ready to endure it."
          ],
          [
           "Lololol right, easy to do well when you only have \"concepts of a plan\" so that you can pretend that backing down and insider trading was totally part of the plan all along"
          ],
          [
           "So this whole time he was just seeking validation that he is successful and can make it on his own? So he inherits a successful economy or a lot of money but that’s not his work so he has to either make it crash so he can “fix” it or he has to try something outlandish that everyone told him is stupid so that he can prove them all wrong?"
          ],
          [
           "i think people should look more closely at his economic advisors, there's 3 that have been advocating for this and they all benefit. \n\n  \nAn easy one is Wilbur Ross, he's been in trumps circle forever"
          ],
          [
           "Trump still has lots of cards. Mostly 2s and 7s. Unfortunately for him, everyone else has Aces and Kings."
          ],
          [
           "Xi is leader for life of a totalitarian regime. He is untouchable. \n\ntrump is an idiot manchild."
          ],
          [
           "Trump is using “Art of the Deal” tactics.  \n\nXi is using “Art of War” tactics."
          ],
          [
           "Isn’t the RMB pegged somewhat to the dollar."
          ],
          [
           "Remember when Conservatives though it was improper for a sitting President to own a peanut farm?"
          ],
          [
           "Doesn’t have to be a big dump.  Just enough sellers to overwhelm the buyers at a slow steady pace would do it."
          ],
          [
           "I’m super into saunas and hate Russians, I think I’ll do alright"
          ],
          [
           "question -- if the dollar is 'falling' relative to other currencies and the US stock market is flat against the dollar, is US stock falling in global currency, since its denominated in USD?"
          ],
          [
           "Australia, we still need your nuclear submarines."
          ],
          [
           "I was assuming he made a bunch but this is the first I'm hearing of it. The rich get richer. No wonder he sees this as a win."
          ],
          [
           "And Miran. Them are the top two economic advisors the president has, all advocating for a weaker dollar."
          ],
          [
           "America is Cartman. A bullying loudmouth. Cartman without Stan, Kyle and Kenny would be a loner nobody wants to be near."
          ],
          [
           "Whoops, thanks."
          ],
          [
           "If prison was acceptable for Martha Stewart then it is good enough for Trump. Lock him up."
          ],
          [
           " New phone , who das? -Xi"
          ],
          [
           "He should be in prison for Jan 6th and this current nightmare should never have happened . Thanks largely to Mitch McConnell we have a madman running rampant ."
          ],
          [
           "Too bad I won't be going to Orlando this year for HHN even if the dollar probably drops to $1.30+ to the £"
          ],
          [
           "Trump is gonna call Xi at some point begging….\n\nThen he’ll come out and say that Xi called him, kissing his ass to make a deal and it’s a great deal, the best deal ever and America is gonna be rich…\n\nOr he’ll blame Biden"
          ],
          [
           "Poor slave, thinking they're free and democratic until the end \nPoor slave, the master gave you the right to curse them to vent your inner dissatisfaction, and then what? Beyond that, you can do nothing. They still live it up, indulging in debauchery, and even if they harm minors, they face no punishment whatsoever.\nIn the end, all that's left is a slave lost in their own mental ecstasy, still frantically commenting here"
          ],
          [
           "Weak dollar was always the plan. So Trump can start manufacturing in the factories he didn't build first."
          ],
          [
           "They're playing 3D chess, while the U.S. plays tic-tac-toe. Big W."
          ],
          [
           "its not just trump, is the whole party on this. i don't think pensions will exist at this rate."
          ],
          [
           "Trump can't get this to his head that China was there for 5000 years and will be for another 5000, while the USA is barely 250 yo   In the grand scheme of time China can completely cut off the USA and steadily steam ahead to conquer the rest of the world while the USA is going bankrupt."
          ],
          [
           "Lmao, Donnie Dumbfuck gave them trading partners around the world bucko"
          ],
          [
           "28-3 vibes"
          ],
          [
           "This wasn’t a shakedown. It was a reversing of a chess move, as it had consequences that were intolerable. If you understand the end goal, the pivot made sense as they were losing the bond market which was intolerable."
          ],
          [
           "He belongs in jail but that’s old news."
          ],
          [
           "China also said it won't respond to any further tariff increases (probably because it's so high now it doesn't much matter anyway). [#post](#post)"
          ],
          [
           "Naw, this news will boost stock prices at least 10% after Musky comes up with some bullshit spin."
          ],
          [
           "He woke up a sleeping giant"
          ],
          [
           "Insider trading and fraud.  Should be in jail."
          ],
          [
           "That's a chart since April 6"
          ],
          [
           "Oh I dont forget. Of course it will be \"how could hunters pecker do this to us\" or some other cult talking point...  i guess my point is more they will at least feel the results of their bullshit. Taking away free school programs is one thing. They dont care about that. \n\nTheir new tv being double what their last one was? Well, we cant have that.. Shit like that will be their line in the sand.... "
          ],
          [
           "You'd think someone who bankrupt a casino would know how to bluff and hold cards. /s"
          ],
          [
           "Ask our SC how they feel about it: “Way to go Don.”"
          ],
          [
           "Or as he calls it a day of love."
          ],
          [
           "This guy is doing the ultimate fake it until you make it, except he's going to make everyone broke."
          ],
          [
           "Drinking FlavorAid in support of the leader. The death thing was just an unfortunate side effect"
          ],
          [
           "Russia and bellarus are selling treasuries?  I'm confused....are there other American allies I don't know about?"
          ],
          [
           "Isn’t Revelation a warning against fascism? It tracks the fall of empires pretty well"
          ],
          [
           "He belongs in prison"
          ],
          [
           "As a European it feels like America as a normal stable democracy is done. The first Trump win was kind of fair enough. A protest vote on income inequality. Misguided maybe but completely understandable in context. \n\nNobody seemed to really heed the warning though and now we are where we are. Trump 2.0 is not democracy. It’s a quasi monarchy and that seems to be what the majority of Americans want which is baffling but essentially ensures that other US adjacent nations for the first time since WW2 need to come up with a different model that works for them."
          ],
          [
           "A bigly beautiful extra digit"
          ],
          [
           "How much HK hold?"
          ],
          [
           "They are quite nihilistic. I wonder if the guy will realize the irony of his comment."
          ],
          [
           "Ha ha haha. That was funny."
          ],
          [
           "Perfectly normal and acceptable, BTW THEY MADE JIMMY CARTER SELL HIS PEANUT FARM!!!!"
          ],
          [
           "Please, dump all of them."
          ],
          [
           "Unsurprised.\n\nAlmost as unsurprising as the MAGA fucks in congress doing nothing about it."
          ],
          [
           "I call bullshit!"
          ],
          [
           "good reminder there’s a bigger game than just trade deficits…. only an idiot wouldn’t be looking at the big picture"
          ],
          [
           "I bet he is about to impose more tariffs somewhere."
          ],
          [
           "Tesla and Amazon and Apple and Nvidia are in the QQQ. I would stick with the QQQ and not be overexposed to these companies. "
          ],
          [
           "How does this drop interest rates?"
          ],
          [
           "Donny will say this is a \"win\" and China has conceded it will not raise tariffs any higher!"
          ],
          [
           "Edit: Replied to wrong comment"
          ],
          [
           "Tariffs coming or going? Who knows?"
          ],
          [
           "thanks Obama!"
          ],
          [
           "He must REALLY want Xi to call in to kiss his ass right? That's the only reason? Right? "
          ],
          [
           "He could just sleep through the presidency like he claims Biden was doing and it's still be a success"
          ],
          [
           "The will of in the*"
          ],
          [
           "I goes we’ll see just who holds all the cards"
          ],
          [
           "how the fuck do you bankrupt a casino, you just put some games up, maybe some hot girls, then just watch the money pour in from financially irresponsible idiots/gambling addicts"
          ],
          [
           "Exciting, I guess that’s one way to characterize what’s happening"
          ],
          [
           "US Treasuries were the safe haven, but now everyone's shifting to gold instead. A recession is coming, tariffs are coming, an unpredictable political situation with possible autocracy and the arbitrary behaviour that produces is coming. We've seen the rule of law breaking down with the regime basically doing what they want without consequence. No one wants to have any assets in the US when they decide to start confiscating them for insulting the orange messiah or whatever crazy reason they come up with."
          ],
          [
           "The Art of the Deal…"
          ],
          [
           "Lol fr"
          ],
          [
           "So countries “begging to stop the tariffs” and “doing anything just for a deal” works both ways"
          ],
          [
           "Where can I read this?"
          ]
         ],
         "hovertemplate": "subreddit=StockMarket<br>polarity=%{x}<br>subjectivity=%{y}<br>text=%{customdata[0]}<extra></extra>",
         "legendgroup": "StockMarket",
         "marker": {
          "color": "#EF553B",
          "symbol": "circle"
         },
         "mode": "markers",
         "name": "StockMarket",
         "opacity": 0.5,
         "orientation": "v",
         "showlegend": true,
         "type": "scatter",
         "x": {
          "bdata": "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",
          "dtype": "f8"
         },
         "xaxis": "x",
         "y": {
          "bdata": "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",
          "dtype": "f8"
         },
         "yaxis": "y"
        },
        {
         "bingroup": "x",
         "hovertemplate": "subreddit=StockMarket<br>polarity=%{x}<br>count=%{y}<extra></extra>",
         "legendgroup": "StockMarket",
         "marker": {
          "color": "#EF553B"
         },
         "name": "StockMarket",
         "opacity": 0.5,
         "showlegend": false,
         "type": "histogram",
         "x": {
          "bdata": "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",
          "dtype": "f8"
         },
         "xaxis": "x3",
         "yaxis": "y3"
        },
        {
         "bingroup": "y",
         "hovertemplate": "subreddit=StockMarket<br>subjectivity=%{y}<br>count=%{x}<extra></extra>",
         "legendgroup": "StockMarket",
         "marker": {
          "color": "#EF553B"
         },
         "name": "StockMarket",
         "opacity": 0.5,
         "showlegend": false,
         "type": "histogram",
         "xaxis": "x2",
         "y": {
          "bdata": "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",
          "dtype": "f8"
         },
         "yaxis": "y2"
        },
        {
         "customdata": [
          [
           "Vision Marine Technologies Inc. is rewriting the watercraft rulebook. Their collaboration with Shaun Torrente has achieved the unthinkable – a blazing 116 mph on water! This isn't just about speed; it's about propelling electric boating into a new era. Their cutting-edge technology, combined with Torrente's skill, is making waves that'll ripple for generations.\n\n**Highlight Main Points**\n\n* Vision Marine Technologies Inc. achieves a record-breaking 116 mph speed on water with Shaun Torrente.\n* The feat highlights the power of electric boating and pushes the limits of innovation.\n* Partners like Octillion Power Systems and Danfoss Editron contribute to this groundbreaking achievement.\n\n**TLDR**\n\nHold onto your seats – Vision Marine Technologies Inc. and Shaun Torrente have shattered the water-speed record at an astonishing 116 mph!  This isn't just about speed; it's about pioneering electric boating and innovation. The collaboration of technology, skill, and passion is creating ripples that'll be felt for years to come in the world of watercraft.\n\n[]()"
          ],
          [
           "HLGN is $10. Hurry and catch it now before it shoots to the moon!"
          ],
          [
           "GEO WM"
          ],
          [
           "Any thoughts on RVPH?"
          ],
          [
           "Is sundial growers going to rise up?"
          ],
          [
           "$EVGO \n\n*Record Revenue increasing 5 straight Quarters\n\n*30% SI, poised for a massive squeeze on a small cap. There is no bear thesis anymore\n\n*Major partnership with key OEM’s (now Toyota in addition to GM, Honda, Ford, Rivian 33 all together)-\n\n*There was a NYT article where a VP of EVGO mentioned that red states are actually some of their biggest partners as they see it as inevitable: \n\n“Sara Rafalson, a vice president at EVgo, a Los Angeles-based charging company that has built chargers in over 35 states, said that the company was seeing its biggest demand growth in Republican-led states like Texas and Florida.”\n\n*EV winter is ending with GM EV Equinox launch June 17th + Costco Discount + EV Blazer Cost Reduction + Stellantis $25K Jeep + many other cheap EV’s 2nd half of this year under, Hertz firesale of EV’s under $25K + $4500 to $7500 incentive\n\n*CEO Insider buy of 125,000 shares \n\n*Lower interest rates in September combined with many new cheap electric vehicle models like GM Equinox Compact\n\n*Low Debt\n\n*Rolling out North American Charging Standard NACS to entire country so ALL vehicles can recharge at Charging stations\n\n*1,000,000 customers doubling annually (at least, likely more)\n\n*Artificial Intelligence to place charging stations for maximum Charging Revenue\n\n*Renew program to upgrade older stations\n\n*100% USA parts compliant so not affected by China Tariffs and will take business from others\n\n*The US must upgrade its EV infrastructure if they want to compete globally. EVGO is the only fast chargers. BLNK and CHPT only give you one time sales revenue whereas EVGO gives you multiple.\n\n*TESLA backing off of electric vehicle Charging leaves even more room to grow. EVGO is next best at L3 Chargers\n\n*EBIDTA forecast to be positive in early 2025 if not sooner\n\n*Will NOT have to do a secondary offering - line of credit in case, high growth and cash reserves, may not even need it.\n\n*Rates are getting cut soon leading to more growth \n\n*They expect a DOE loan this year \n\n*trading sideways right now, perfect entry before the next leg up. Last spike up took 1 month and 1 week of sideways trading. Based off the same timeline, we are a week off. \n\n*They are adding high end talent, big names from Tesla. Recently hired a CPO, Chief Peoples Officer implying they are expecting to expand rapidly thus need someone with strong connections in the space."
          ],
          [
           "And plug"
          ],
          [
           "100% fact! Truth hurts."
          ],
          [
           "\n\n  [MarketWatch: Stock Market News - Financial News - Earmings Stonkvest (stockbuyvest.com)]() \n\n\\#catalyst #event #earnings"
          ],
          [
           "Yup - money, money"
          ],
          [
           "heard chatter upto $350"
          ],
          [
           "$IRDM\n\n&#x200B;\n\n[/](/)\n\nat high level its consolidating, \n\nhowever currently in uptrend."
          ],
          [
           "Updated Daily by EOD\n\n  \n[Daily Shorts]()"
          ],
          [
           "A lot of stocks are down right now, and I'm thinking of spending 250 on the below tmmw. Thoughts (some are partial cuz im using robinhood)?\n\nReddit - $60\n\nNvidia - $70\n\nKULR - $40\n\nICU - $40\n\nBLGO or OPTT - $40\n\nIf you think this is a bad idea or have any advice, lmk why and if I should invest in something else like some crypto. Since this is my first time investing and I'm kinda young, I don't want to put too much money in. Should I put double and spend $500, or start with $250 and see how I do from there?"
          ],
          [
           "This is a massive acquisition for them, adding to my watchlist!"
          ],
          [
           "Note that clean energy is a promising sector for a long time. Too long. If Trump will elect it could bring headwinds here. \nIs the company profitable?"
          ],
          [
           "$FDX - still in downtrend\n\n[/](/)\n\n&#x200B;\n\n$ICE - down\n\n&#x200B;\n\n[/](/)"
          ],
          [
           "doge coin. Elon is tweeting a lot"
          ],
          [
           "\n\n  [World Markets (stockbuyvest.com)]()"
          ],
          [
           "![gif](giphy|3oz8xZGfHArTvh99YI)"
          ],
          [
           "nice, good info, good post."
          ],
          [
           "Any word on when they may lose compliance? Can’t seem to find anything anywhere. Just mentioned the extension in spring of 2024 which it traded well above afterwards."
          ],
          [
           "BYDDY mark my words."
          ],
          [
           "Thank you. Should we hold??"
          ],
          [
           "Entered yesterday 2-9-24. Fortunately I entered the dip and not the upswing  28 cents to 87 cents.  My average. 0.1728. Potential for big profits on the upswing"
          ],
          [
           "Word on the street, new price target 3+?\n\n\n\n\n\n/\n\n"
          ],
          [
           "Joby"
          ],
          [
           "NIPU:\n\nThis randomized, multi-center phase II study evaluated the efficacy of  the universal cancer vaccine UV1 in combination with checkpoint inhibitors ipilimumab and nivolumab as a second-line treatment for mesothelioma. Sponsored by Oslo University Hospital and supported by Bristol-Myers Squibb and Ultimovacs, the trial enrolled 118 patients, with half receiving the combination treatment and half receiving nivolumab and ipilimumab alone. The primary objective of the study is to determine whether the combination of UV1, ipilimumab, and nivolumab leads to a clinically significant improvement in progression-free survival (PFS) for patients with malignant pleural mesothelioma (MPM) after progression on first-line standard platinum doublet chemotherapy."
          ],
          [
           "if they can accurately predict these forest fires that would be dope"
          ],
          [
           "$DVAX"
          ],
          [
           "Investors brace for more volatility as the west cuts off Russia's access to Swift  - []()"
          ],
          [
           "Gappers for today\n\n [Gappers (stockbuyvest.com)]()"
          ],
          [
           "how does the futures market look today\n\nSPY, Euro, Gold, Crude Oil, Natural Gas, Corn\n\n [Futures (stockbuyvest.com)]() \n\n\n\n\n\n The S&P futures price is an indication of market sentiment and investor expectations about the future direction of the stock market. A higher S&P futures price generally indicates optimism in the stock market, suggesting that investors expect the stock market to rise in the future. Conversely, a lower S&P futures price may indicate pessimism and suggest that the stock market may see a decline. However, it is important to note that the S&P futures price is only one of many indicators used to predict the stock market activity, and it's not always accurate as it depends on various factors that can influence the market."
          ],
          [
           "Stock list generated from technical Analysis. \n\nUpdated weekly\n\nStocks already on an established uptrend\n\nStocks just started uptrend\n\n [Uptrend SMA (stockbuyvest.com)](,geo_usa,ind_stocksonly,sh_avgvol_o2000,sh_curvol_o5000,sh_instown_o50,sh_relvol_o1,ta_rsi_nob60,ta_sma20_sa50,ta_sma200_pa,ta_sma50_sa200&ft=2&o=-pb)"
          ],
          [
           "awesome"
          ],
          [
           "Happening now"
          ],
          [
           "Just stumbled upon some exciting news about Star Navigation Systems Group Ltd. (CSE: SNA) and their cutting-edge Inflight Safety Monitoring System. As someone who's always fascinated by modern aviation technology, I couldn't help but feel bullish about the potential of Star's solutions in optimizing the aviation industry. \n\n**Summary:** \n\nStar Navigation Systems Group Ltd. (CSE: SNA) is making waves in the aviation industry with their Inflight Safety Monitoring System, the STAR-ISMS®. The system acquires and computes aircraft data inflight, providing actionable insights for analysis, tracking, real-time data transmission, and live trend analysis. Recent sales developments include ongoing discussions with AeroContractors and Air Peace in Nigeria, upgrades for AlMasria Airlines in Egypt, proposals for ACN and Ethiopian Airlines, and talks with Boliviana de Aviación. Despite some cancellations, Star's technology is gaining traction in the aviation market and holds significant potential for modernizing the industry.\n\n**Highlighted Main Points:**\n\n* Star Navigation Systems Group Ltd. (CSE: SNA) is a leading aviation technology company with their innovative Inflight Safety Monitoring System, the STAR-ISMS®.\n* Recent sales developments include ongoing discussions with AeroContractors and Air Peace in Nigeria, upgrades for AlMasria Airlines in Egypt, proposals for ACN and Ethiopian Airlines, and talks with Boliviana de Aviación.\n* Despite some cancellations, Star's technology is gaining traction in the aviation market and holds significant potential for modernizing the industry.\n* Their system provides actionable insights for inflight analysis, tracking, alerts, real-time data transmission, and live trend analysis, offering valuable solutions for optimizing aircraft operations and safety.\n\n**TLDR:** \n\nStar Navigation Systems Group Ltd. (CSE: SNA) is a leading aviation technology company with their innovative Inflight Safety Monitoring System, the STAR-ISMS®. Recent sales developments showcase their ongoing discussions with AeroContractors, Air Peace, AlMasria Airlines, ACN, Ethiopian Airlines, and Boliviana de Aviación. Despite some cancellations, Star's technology is gaining traction in the aviation market and holds significant potential for modernizing the industry by providing actionable insights for inflight analysis, tracking, alerts, real-time data transmission, and live trend analysis.\n\nRead More: []()"
          ],
          [
           "Add MIK"
          ],
          [
           "Buy a cool car bro"
          ],
          [
           "This data is from FINRA ATS - Updated Weekly\n\n  \n[]()"
          ],
          [
           "Date|Symbol|ShortVolume|ShortExemptVolume|TotalVolume|Market\n  \n20211209|PPSI|6026762|296895|12855584|B,Q,N\n  \n\n\n46% shorted"
          ],
          [
           "Summarized with Highlights, updated weekly be EOW\n\n  \n[COT Report Summary]()"
          ],
          [
           "I realized my typo after hitting submit, and there is no changing the title. Please forgive me! I am but a humble crayon eating ape waiting for the moon landing!"
          ],
          [
           "cyberlux long term investment, you wont be upset"
          ],
          [
           "Now this is some wholesome stuff more companies should be doing!"
          ],
          [
           "Don’t buy. Trash after Q3 report"
          ],
          [
           "Same. Back to break even after that last rip but think this thing can do another 50% easily"
          ],
          [
           "Not unexpected. My expectation whenever a Republican is in the White House is for some disaster to happen and for the stock market to crash. I honestly didn’t think it would happen this fast."
          ],
          [
           "[/](/)\n\n&#x200B;\n\nsideways now, waiting for news"
          ],
          [
           "check out the risk free capital gains the key people make and then what $ they put up out of pocket vs net worth, and what else they’re working on if anything rn\n\nthese things are usually for suckers"
          ],
          [
           "$GE rose today on drone news. Here's the daily chart\n\n&#x200B;\n\n[/](/)"
          ],
          [
           "it was amc day today. fsr after hrs"
          ],
          [
           "drop on 14 dec. still falling\n\n&#x200B;\n\n[/](/)"
          ],
          [
           "What do you think of HIVE?"
          ],
          [
           "Hey everyone, i was looking into a new company to the CSE Syntheia Corp and wanted to share some info on them\n\nThey use advanced AI to improve customer service, helping call centers and restaurants manage tasks more easily. Their solutions, like AgentNLP and OrderNLP, streamline communication, reduce repetitive work, and enhance the customer experience.\n\nUse cases:\n\nRestaurants: Syntheia can manage all incoming calls, ensuring guests have a smooth experience and reservations are handled efficiently.\n\nReal Estate Offices: Having a virtual receptionist means no calls are missed, and all property listings can be easily communicated to potential buyers.\n\nDoctors' Clinics: Syntheia responds to patient inquiries at any hour, booking appointments and providing essential guidance without delay.\n\nAnd many more + stuff in the works\n\nTLDR: \n\nSyntheia is changing the way businesses handle customer service by using smart AI tools to make communication easier. Their technology helps industries like restaurants, law firms, and healthcare manage calls and inquiries more smoothly and efficiently."
          ],
          [
           "you can’t be serious. ‘unexpected.’"
          ],
          [
           "Same hit it at 2.83"
          ],
          [
           "Unexpected? Did you not see his first term? This is like that but on roids."
          ],
          [
           "can someone explain to me how the TME share price rises to + 66% after the hours and 5 minutes later to 0% again?"
          ],
          [
           "I really think ARHS will be the , just because United Furniture Industries closed down for good two days ago.\nSo this Christmas who's gonna be selling furniture "
          ],
          [
           "&#x200B;\n\n [Cryptocurrency Prices, Charts, Daily Trends, Market Cap, and Highlights | Coinbase]() \n\n&#x200B;\n\n$BTCUSD $ETHUSD $JASMYUSD $PEPEUSD"
          ],
          [
           "$UAA"
          ],
          [
           "i'm in a state that trump has absolutely 0% chance of winning and i did vote for him anyway to show that we are tired of the leadership of the last 4 years... if i had a better candidate available than trump, i would vote for that person... my vote was more about keeping  out the useless one out of office, and again it was just for show, there was no way trump could win this state...\n\neven though republicans have lots of laughable stances, democrats are straight up POISON... what can i do"
          ],
          [
           "3d modelling is only going to get more popular cool to see them getting in on it before its too late"
          ],
          [
           "[/](/)"
          ],
          [
           "Are these pumps n dump or are these things we should get?"
          ],
          [
           "Both bull and bear are not giving up the fight"
          ],
          [
           "MegaWatt's making moves! Bagging Labrador Mineral Resources Inc. and raising funds shows they're serious about growth and resource expansion."
          ],
          [
           "\n\n [Bitcoin Mining (stockbuyvest.com)](/) \n\n$MARA $RIOT $WULF $BITF $CAN $COIN $BTBT $CIFR $HUT $SQ %HIVE $DMGI $BIGG $GREE $BTCM $GLXY\n\nBitcoin ETFs\n\n$GBTC $IBIT $FBTC $ARKB $BITB $BTCO $EZBC $HODL $BRRR $BTCQ $DEFI"
          ],
          [
           "Premarket Gainers for Today\n\n [Stock Invest Premarket (stockbuyvest.com)]() \n\n\\#premarket #market #futures #stockbuyvest.com"
          ],
          [
           "Hey guys! Currently on vacation which has been nice but I also miss the fast paced nature of my work. It’s been good in the sense of being able to look into some companies I’ve had on my watchlist/looking into the last little while. Figured I’d make a post and see if I could get any more insights on em.\n\n&#x200B;\n\nSo the company is called Critical Metals Corp and they just rang the Nasdaq bell and are going under the ticker CRML. They’re aiming to be the first local lithium supplier in Europe to turn into an integrated battery supply chain.\n\n&#x200B;\n\nThey also have an MoU with BMW to supply them with all of their zone 1 mining production. Including a $15M USD pre payment… has anyone seen this happen for other companies before?\n\n&#x200B;\n\nAnyway, if anyone has insights or has done DD on them before lmk. Anything is well appreciated. Time for the pool lmao"
          ],
          [
           "ELVA is the future, imagine going to any restaurant, coffee shop, driving your car or simply walking into your home and everything is charged. Can't wait to see what they bring to the market."
          ],
          [
           "What site can you even purchase this stock ?"
          ],
          [
           "Updated Daily by EOD\n\n  \n[Daily Shorts]()"
          ],
          [
           "You don’t buy when it’s green, u buy when it’s red"
          ],
          [
           "# Stock winners\n\n\n\n**11.65% GameStop**\n\n** Earnings report - GameStop knows what its investors want. CEO Ryan Cohen’s latest move to revive the struggling video game retailer is putting its $4.8 billion cash reserve into Bitcoin—following in MicroStrategy’s footsteps. (**[**CNBC**]()**)**\n\n\n\n**5.25% Nintendo**\n\n**Rumors are flying that the video game company could launch the Switch 2 as soon as June. It’s the updated version of its hugely successful Switch console, first released in 2017. Some reports say a full reveal could happen as early as next week, and investors are expecting big sales. (**[**Sherwood**](/)**)**\n\n\n\n**3.08% Dollar Tree**\n\n** Earnings report - The discount retail chain is selling off Family Dollar for $1 billion, nearly a decade after buying it for $9 billion. The chain never quite fit in and struggled to compete with bigger players. Investors seem relieved to see Dollar Tree cut its losses and refocus on its core brand. (**[**Yahoo**]()**)**\n\n\n\n# Stock losers\n\n\n\n**5.58%** **Tesla**\n\n**Canada froze millions in EV rebates for Tesla and banned the company from future incentive programs.** To make matters worse, new U.S. auto tariffs were announced right after the market closed, adding more pressure to the broader auto sector. ([IBD](/))\n\n\n\n**5.97%** **Nvidia**\n\n**Nvidia’s H20 chip, designed to meet U.S. export rules, may be shut out of China’s data center market** because of new energy-efficiency standards. Chinese regulators are urging local tech firms to avoid chips that don’t meet the criteria. Nvidia might adjust the chip to comply, but it could come at a cost. ([Financial Times]())\n\n\n\n *1-day change*  \n*Market data: today’s market close*\n\n\n\nIf you want to get the full scoop like this in your inbox every evening, subscribe to this [newsletter]()\n\n"
          ],
          [
           "how does the futures market look today\n\nSPY, Euro, Gold, Crude Oil, Natural Gas, Corn\n\n [Futures (stockbuyvest.com)]() \n\n\n\n\n\n The S&P futures price is an indication of market sentiment and investor expectations about the future direction of the stock market. A higher S&P futures price generally indicates optimism in the stock market, suggesting that investors expect the stock market to rise in the future. Conversely, a lower S&P futures price may indicate pessimism and suggest that the stock market may see a decline. However, it is important to note that the S&P futures price is only one of many indicators used to predict the stock market activity, and it's not always accurate as it depends on various factors that can influence the market."
          ],
          [
           "Significant Share Repurchase Recently.On April 1, 2025, China Hongqiao Group Limited spent HKD 55.145 million to repurchase 3.4675 million shares."
          ],
          [
           "Has anyone seen what the shorts did to KAVL!! So disgusting!!\n  \n\n  \nWorse than GME and AMC put together!!"
          ],
          [
           "After taking a brief look, I think I'll pass on this one. Good luck though but just out of curiosity, what attracted you to this stock and did you buy end of December?"
          ],
          [
           "Hey gents, I recently started seeing a new girl and she has all sorts of different eating habits. So she has me going with her to the store and picking up the most obscure things. Sometimes they are good and some not so good. She recently had me pick up this environmentally friendly cardboard packed water called Flow water. To be honest it was a little more expensive than traditional water but it really was good (i'm a big water drinker) and if it's better for the environment that's just a bonus. But I started to think of the price vs the cost to make.\n\nSo I looked into the company more and found out they were traded publicly on the TSX. Curiosity got the better of me as I started looking into their PR’s and saw they had massive revenue increases as well as a recent partnership with Live Nation. But I concluded they were making a ton of money and definitely tasted a lot better than Dasani or Aquafina.\n\nI haven’t told my new girl because she got me hooked on this stuff and I kept making fun of her for drinking water out of a box. If you guys know of any other unique grocery store items we should try let me know as I want to be able to get her hooked on something haha, thanks."
          ],
          [
           "will be a private company"
          ],
          [
           "$KHC is this a good double bottom? Is inflation a catalyst for this stock?"
          ],
          [
           "it never seems to go up even with great earnings"
          ],
          [
           "AVCT if you get a chance!"
          ],
          [
           "Top trending stock tickers on social media\n\n [Social (stockbuyvest.com)]()"
          ],
          [
           "This data is from FINRA ATS - Updated Weekly\n\n  \n[]()"
          ],
          [
           "[/](/)\n\nsome support after downtrend"
          ],
          [
           "The stock market is wobbling. Big indexes like the S&P 500 and Nasdaq are down 8–11%. Small and mid-sized companies are doing even worse—down 13–16%. Retail giants like FedEx and Nike are warning about tough times.\n\nSeems like the market can’t agree if we’re just slowing down or headed into a real recession. Want to hear povs out there... what are you buying (or avoiding like the plague) if this turns out to be worst?\n\nDan from Money Machine Newsletter."
          ],
          [
           "Yes!!!"
          ],
          [
           "gme is too high, short squeeze is only way you can squeeze some profit. If you want to HODL then a few are good, for never sell."
          ],
          [
           "Upgrades, Downgrades\n\n [Stock Analyst Recommendations | Upgrades & Downgrades | Nasdaq]()"
          ],
          [
           "How do yall buy new cryptos?"
          ],
          [
           "Stocks that are trending up today\n\n [Popping (stockbuyvest.com)]()"
          ],
          [
           "Looking for advice on influencers and analysts to follow."
          ],
          [
           "&#x200B;\n\n [Cryptocurrency Prices, Charts, Daily Trends, Market Cap, and Highlights | Coinbase]() \n\n&#x200B;\n\n$BTCUSD $ETHUSD $JASMYUSD $PEPEUSD"
          ],
          [
           "Lithium has become a huge part of the clean energy shift, especially with electric cars gaining popularity so I have been doing some DD And came across Atlas Lithium.\n\nBased in Brazil, Atlas Lithium is moving forward with a major lithium exploration project in Minas Gerais, one of the largest in the country. They’re also working on shipping their modular lithium processing plant from South Africa to Brazil. This tech is designed to produce high-grade lithium concentrate, which is crucial for battery production, and it's more environmentally sustainable than traditional methods.\n\nWith the rise in lithium demand for electric vehicles and renewable energy storage, could Atlas Lithium be in a favorable position to benefit? Anyone else following this company? Curious to hear your thoughts or any additional insights!"
          ],
          [
           "Summarized with Highlights, updated weekly be EOW\n\n  \n[COT Report Summary]()"
          ],
          [
           "&#x200B;\n\n[]()\n\n&#x200B;\n\nNew IPOs, Performance of IPOS"
          ],
          [
           "DOGE is going up today 153%"
          ],
          [
           "Hey bros!! I wanted to share some recent news I found on this company called Banzai International, Inc. ($BNZI). From what I read, they're a marketing technology company who just recently introduced an updated version of their product, Reach 2.0. Supposedly this product is aimed at improving even and webinar attendance through targeted market strategies...\n\nThe update has several new features, including a redesigned user interface for easier campaign management and enhanced analytics for tracking campaign performance. I saw in the article that some of the notable users of the platform are companies like Cisco and The Economist...\n\nIf anyone has insights into these guys or the space that they're in lmk cause I would love to get more info on these guys ASAP."
          ],
          [
           "AMC BBY rock bottom"
          ],
          [
           "FANS\n\nJust started the climb\n\n[/](/)\n\nLet is cross purple line EMA (21) to confirm uptrend"
          ],
          [
           "I’ve been looking into them."
          ],
          [
           "ok, thanks"
          ],
          [
           "I'll be interested to see how this plays out for them ngl"
          ],
          [
           "AAPL"
          ],
          [
           "Recent strong stock performance, with capital showing confidence"
          ],
          [
           "This data is from FINRA ATS - Updated Weekly\n\n  \n[]()"
          ],
          [
           "Ha ha ha nothing much my number of shares are small but distributed across I still have majority of stocks in TSLA (15), Apple (15), ADP(20) and others are there between 10-50. That’s where I’m looking for some advice to hold for long term and short terms"
          ],
          [
           "how does the futures market look today\n\nSPY, Euro, Gold, Crude Oil, Natural Gas, Corn\n\n [Futures (stockbuyvest.com)]() \n\n\n\n\n\n The S&P futures price is an indication of market sentiment and investor expectations about the future direction of the stock market. A higher S&P futures price generally indicates optimism in the stock market, suggesting that investors expect the stock market to rise in the future. Conversely, a lower S&P futures price may indicate pessimism and suggest that the stock market may see a decline. However, it is important to note that the S&P futures price is only one of many indicators used to predict the stock market activity, and it's not always accurate as it depends on various factors that can influence the market."
          ],
          [
           "Newbie here.. what is a definitive stick for stock acquisition agreement?"
          ],
          [
           "On April 9, China Hongqiao Group Limited (01378.HK) announced that on April 8, 2025, it repurchased 1 million shares at a cost of HKD 12.64 million, with a repurchase price of HKD 12.64 per share.\n"
          ],
          [
           "Good Morning Investors, \n\nI am a young Finance student with lots of ideas and plans. \n\nI would like to ask you, as you were my friends, about my little project:\n\n* Share my Equities Portfolios\n* Share my studies and little researches \n* Create a positive community of Non-Degenerated young investors\n\nFor example, during the last couple of months, I have been working on 2 different portfolios.\n\nThe First is a dividend king portfolio with a high dividend yield and the second one, is a small group of equities that would call \"Deep Value\".  \n\nIs someone interested in knowing my work and my studies?\n\n&#x200B;\n\nStay safe and have a lot's of Capital Gain!"
          ],
          [
           "\n\n [Threshold (stockbuyvest.com)]() \n\n$AMC $CVNA $GME $NVDA $INTC"
          ],
          [
           "So wait for the dip?"
          ],
          [
           "They will run out of money ten years before the LEAPS product comes to market assuming it gets approved. It hasn’t even gotten out of the preclinical phase, and the funding for the phase 1 study was almost certainly dependent on Multikine not failing. \n\nThey have $4M in cash. They can’t even pay Geert’s ridiculous 600k base salary through phase 1 without a massive dilution."
          ],
          [
           "$ATUS at a huge discount right now. Just CRUSHED earnings."
          ],
          [
           "Updated Daily by EOD\n\n  \n[Daily Shorts]()"
          ],
          [
           "AERC super low float could rip any day now"
          ],
          [
           "Is there anything to get into tomorrow?"
          ],
          [
           "$RBDX will be $15 to $20 according to Rocky8888 follow her on Twitter every call she has made except a few were right on"
          ],
          [
           "\n\n [Threshold (stockbuyvest.com)]() \n\n$AMC $CVNA $GME $NVDA $INTC"
          ],
          [
           "&#x200B;\n\n"
          ],
          [
           "Any recommended stocks to buy or keep on the look out for next week?"
          ],
          [
           "CGC"
          ],
          [
           "Got it!"
          ],
          [
           "Save First Republic Bank. Let's show them the power of the people. Everyone says FRC is dead, but it's not. It's just waiting on us."
          ],
          [
           "I'm doing well with miner stocks. \n(AUY) Yamana Gold Co\n& \n(PLG) Platinum Group Metals as a day trade stock"
          ],
          [
           "Hold Tesla ??"
          ],
          [
           "Stocks that are trending up today\n\n [Popping (stockbuyvest.com)]()"
          ],
          [
           "This data is from FINRA ATS - Updated Weekly\n\n  \n[]()"
          ],
          [
           "Hey guys! I was doing some research on the graphite industry and I found this event that includes the CEO of Northern Graphite going over graphite's growing importance in the EV industry. It's happening online on Jan 18, 2024.\n\nMatt Sherwood from The Economist Intelligence Unit will also be discussing the graphite market's current state and the impacts of China's export controls. As well as Northern Graphite's CEO, Hugues Jacquemin, talking about their strategy from mining to market to battery.\n\nAs North America's sole graphite producer, Northern Graphite seems primed to be a significant player, especially with the growing demand from North American automakers and battery manufacturers. Figured I'd drop it here if anyone else is interested in the graphite industry or Northern graphite!! Heres the link:[]()"
          ],
          [
           "&#x200B;\n\n [Cryptocurrency Prices, Charts, Daily Trends, Market Cap, and Highlights | Coinbase]() \n\n&#x200B;\n\n$BTCUSD $ETHUSD $JASMYUSD $PEPEUSD"
          ],
          [
           "Solid product, not too into the companies chart"
          ],
          [
           "Brazil's lithium reserves are significant, and if Atlas can successfully develop this, it could position them as a major supplier in the electric vehicle sector so yeah keep your eye out"
          ],
          [
           "Will it go up"
          ],
          [
           "split the 200 between 100 on index funds (iShares and Vanguard are good options) and 100 on stocks that you like"
          ],
          [
           "Much appreciated!"
          ],
          [
           "Market is crashing bad"
          ],
          [
           "  [Crypto (stockbuyvest.com)]() \n\n$BTCUSD $ETHUSD $ADAUSD $SHIBUSD $DOGEUSD $PEPEUSD"
          ],
          [
           "The agriculture sector should boom under this next administration too. Looks like a gem here"
          ],
          [
           "&#x200B;\n\n [Cryptocurrency Prices, Charts, Daily Trends, Market Cap, and Highlights | Coinbase]() \n\n&#x200B;\n\n$BTCUSD $ETHUSD $JASMYUSD $PEPEUSD"
          ],
          [
           "\n\n  [World Markets (stockbuyvest.com)]()"
          ],
          [
           "Hey I have just done this. I have used 25 stocks the \"dividend Kings\" from 1992 till 2021. And I have made some analysis as well with SPY returns. I have reinvested all the Dividends and also simulated an annual contribution of 5000 dollars. I will share some results soon. I can't belive that the dividend Kings not only OUTPERFORMED the SPY by a statistical margin but also they suffered less painful drawdown periods. \nThis is also incredible because there are not Technology stocks between the dividend Kings."
          ],
          [
           "Enter the ticker for which  you want the technical analysis done.\n\nIt will be posted as a tradingview chart as a image link in this thread\n\n&#x200B;\n\n&#x200B;"
          ],
          [
           "So what happens if paper hands sell? Will the rest of us who HODL get fucked on our 100k"
          ],
          [
           "Maybe bc if the ice storms I think it’s going up again"
          ],
          [
           "trending up\n\n[/](/)"
          ],
          [
           "Has anyone seen what the shorts did to KAVL!! So disgusting!!"
          ],
          [
           "Updated Daily by EOD\n\n  \n[Daily Shorts]()"
          ],
          [
           "Expecting the PR to be dropped any day on the record date for TYDE dividend."
          ],
          [
           "NAK. very volatile.\n\ndowntrend\n\n&#x200B;\n\n[/](/)"
          ],
          [
           "\n\n  [World Markets (stockbuyvest.com)]()"
          ],
          [
           "&#x200B;\n\n [Cryptocurrency Prices, Charts, Daily Trends, Market Cap, and Highlights | Coinbase]() \n\n&#x200B;\n\n$BTCUSD $ETHUSD $JASMYUSD $PEPEUSD"
          ],
          [
           "Following closely, added them to my watchlist"
          ],
          [
           "I feel like that’s gonna tank soon though"
          ],
          [
           "Feel like this is kinda random for them. Nonetheless it's still a good acquisition"
          ],
          [
           "Warrant gives you a right to purchase the share at a specified price, that right is valid till a specified date.\n\nI believe that price is around $12.\n\nYou can also sell a warrant, the current price of a warrant HTZZW is $12."
          ],
          [
           "Hey guys, I just got introduced to crypto stock trading by my friend. He was mentioning terms like Candle,Bull etc... Is there any book or online resource of knowledge about this topic? Any advice would be appreciated!"
          ],
          [
           "&#x200B;\n\n[]()\n\n&#x200B;\n\n The Commitment of Traders (COT) report is a weekly publication issued by the U.S. Commodity Futures Trading Commission (CFTC) that provides information about the positions of different types of traders in the futures and options markets."
          ],
          [
           "Stocks that are undervalued and potential to trend up\n\n [Undervalued (stockbuyvest.com)]()"
          ],
          [
           "lets see how they perform pre-market"
          ],
          [
           "Gappers for today\n\n [Gappers (stockbuyvest.com)]()"
          ],
          [
           "Upgrades, Downgrades\n\n [Stock Analyst Recommendations | Upgrades & Downgrades | Nasdaq]()"
          ],
          [
           "I currently own \n\n* TSLA\n* FB\n* BABA\n* BP\n* AUY\n\nI hoep this helps.  I plan to take more profits 11/5 at the 1242.00 price range"
          ],
          [
           "Gappers for today\n\n [Gappers (stockbuyvest.com)]()"
          ],
          [
           "Whoops i got it confused for DWAC"
          ],
          [
           "Aurcana Silver. \n\nNevada Copper\n\nTrillion Energy."
          ],
          [
           "NICE. Cannot complain."
          ],
          [
           "how does the futures market look today\n\nSPY, Euro, Gold, Crude Oil, Natural Gas, Corn\n\n [Futures (stockbuyvest.com)]() \n\n\n\n\n\n The S&P futures price is an indication of market sentiment and investor expectations about the future direction of the stock market. A higher S&P futures price generally indicates optimism in the stock market, suggesting that investors expect the stock market to rise in the future. Conversely, a lower S&P futures price may indicate pessimism and suggest that the stock market may see a decline. However, it is important to note that the S&P futures price is only one of many indicators used to predict the stock market activity, and it's not always accurate as it depends on various factors that can influence the market."
          ],
          [
           "I am all in"
          ],
          [
           "Invest now it is going to shoot up tomorrow"
          ],
          [
           "Upgrades, Downgrades\n\n [Stock Analyst Recommendations | Upgrades & Downgrades | Nasdaq]()"
          ]
         ],
         "hovertemplate": "subreddit=stockstobuytoday<br>polarity=%{x}<br>subjectivity=%{y}<br>text=%{customdata[0]}<extra></extra>",
         "legendgroup": "stockstobuytoday",
         "marker": {
          "color": "#00cc96",
          "symbol": "circle"
         },
         "mode": "markers",
         "name": "stockstobuytoday",
         "opacity": 0.5,
         "orientation": "v",
         "showlegend": true,
         "type": "scatter",
         "x": {
          "bdata": "sMkmm2yyyz8AAAAAAAAAAAAAAAAAAAAAAAAAAAAAAAAAAAAAAAAAADrYC1j/nbs/AAAAAAAAAAAAAAAAAAAAAAAAAAAAAAAAAAAAAAAAAAAAAAAAAAAAAHsUrkfherQ/AAAAAAAAAAAWBS+n4OV0PwAAAAAAAAAANtBpA5020D8AAAAAAAAAAAAAAAAAAAAAAAAAAAAAAAAAAAAAAAAAAFVVVVVVVeU/AAAAAAAAAAAAAAAAAAAAAAAAAAAAAAAAAAAAAAAAsD9y0UUXXXTBPwAAAAAAAAAAcAIncAInsD+bmZmZmZnZPwAAAAAAAAAAAAAAAAAAAAAAAAAAAAAAAAAAAAAAALA/AAAAAAAAAAAAAAAAAADwPwAAAAAAAAAA+U17ZqeCwD8AAAAAAAAAAGZmZmZmZtY/AAAAAAAAAAAAAAAAAAAAAAAAAAAAAAAAAAAAAAAA0L+amZmZmZmpvwAAAAAAAAAAAAAAAAAAAADRJ33SJ33CP8nMzMzMzMw/AAAAAAAAAAB0FK5H4Xq0PzMzMzMzM9M/AAAAAAAAAAAAAAAAAAAAAAAAAAAAAAAAAHwYg7g9wz/Z3d3d3d29vwAAAAAAAAAAZmZmZmZmxj8AAAAAAAAAABAREREREdE/AAAAAAAAAAAAAAAAAAAAALgehetRuL4/ubu7u7u7yz8AAAAAAAAAAAAAAAAAAAAAAAAAAAAAAABVVVVVVVXVvwAAAAAAAAAAAAAAAAAAAACGiIiIiIjOPwAAAAAAAAAAAAAAAAAAAAAAAAAAAAAAAJqZmZmZmbm/QPfDxy/vtj8AAAAAAACwP+0VX/EVX7E/VVVVVVVV4b9mZmZmZmbWP0Xgl8vv1cs/AAAAAAAAAABmZmZmZmbWP5qZmZmZmek/AAAAAAAAAADVgi3Ygi3IPwAAAAAAAAAAAAAAAAAAAAAj61x5QLLOvwAAAAAAAAAAWfKLJb9Y0j8AAAAAAAAAAHLRRRdddME/AAAAAAAAAAAAAAAAAAAAAAAAAAAAAAAAhoiIiIiItj8AAAAAAAAAAHLRRRdddME/AAAAAAAAAADrHVMDe8fEPwAAAAAAAAAAAAAAAAAAAAAAAAAAAAAAAGZmZmZmZtY/AAAAAAAA0D8AAAAAAAAAALm7u7u7u8s/AAAAAAAAAAB9mZmZmZmZvwAAAAAAALA/AAAAAAAAAACQJEmSJEmyvxc42LS2gL4/AAAAAAAAAAAAAAAAAAAAAD5FugoSh8e/2I/92I/9yD8AAAAAAAAAAFNVVVVVVcU/AAAAAAAAAACSJEmSJEnSPwAAAAAAAAAAAAAAAAAAAAAAAAAAAAAAAAAAAAAAAAAAAAAAAAAAAAB9mZmZmZmZPwAAAAAAAAAAAAAAAAAAAAAAAAAAAAAAAAAAAAAAAAAADyRJkiRJYj8AAAAAAAAAAAAAAAAAAAAAVVVVVVVV2T8AAAAAAAAAAGZmZmZmZuY/AAAAAAAA0D9lZmZmZmbmvwAAAAAAAAAAAAAAAAAAAAAAAAAAAAAAAAAAAAAAAAAAEGzBFmzBhj8AAAAAAAAAADMzMzMzM+O/AAAAAAAAAAAAAAAAAAAAAAAAAAAAAOC/AAAAAAAAAAAAAAAAAAAAAAAAAAAAAAAAAAAAAAAAAAAAAAAAAAAAAAAAAAAAAAAAAAAAAAAAAACSmZmZmZm5PxaGYRiGYcg/AAAAAAAA0D8AAAAAAAAAAAAAAAAAAAAAAAAAAAAAAAAAAAAAAAAAAAAAAAAAAAAAAAAAAAAAAAAAAAAAAAAAAJqZmZmZmdm/AAAAAAAAAAAzMzMzMzPjPwAAAAAAALA/AAAAAAAAAAAAAAAAAAAAAAAAAAAAAAAA",
          "dtype": "f8"
         },
         "xaxis": "x",
         "y": {
          "bdata": "tJw/y/mz5D8AAAAAAAAAAAAAAAAAAAAAAAAAAAAAAAAAAAAAAAAAABYoJcNvBts/AAAAAAAAAAAAAAAAAAAAAAAAAAAAAAAAAAAAAAAAAAAAAAAAAAAAABSuR+F6FN4/kpmZmZmZuT8rG46Y9kTWPwAAAAAAAPA/j8L1KFyP4j8AAAAAAAAAAAAAAAAAAAAAAAAAAAAAAAAAAAAAAAAAAHh3d3d3d+c/AAAAAAAAAAAAAAAAAAAAAAAAAAAAAAAAmZmZmZmZ4T8WXXTRRRfdPwAAAAAAAAAAiIiIiIiI0D9FRERERETkPwAAAAAAAAAAAAAAAAAAAAAAAAAAAAAAACMiIiIiItg/mpmZmZmZuT8AAAAAAADwPwAAAAAAAAAAoCYZNP5p5j8AAAAAAAAAAM3MzMzMzOQ/AAAAAAAAAAAAAAAAAAAAAAAAAAAAAAAAmpmZmZmZ2T+amZmZmZnZPwAAAAAAAAAAAAAAAAAAAAAzMzMzMzPTPwAAAAAAAOQ/AAAAAAAAAABI4XoUrkfhP2ZmZmZmZt4/AAAAAAAAAAAAAAAAAAAAAAAAAAAAAAAAw1jNc0/b4D+qqqqqqqrqPwAAAAAAAAAAVVVVVVVV5T8AAAAAAAAAADMzMzMzM9M/AAAAAAAAAAAAAAAAAAAAAAOdNtBpA+E/7+7u7u7u5j8AAAAAAAAAAAAAAAAAAAAAAAAAAAAAAABVVVVVVVXlPwAAAAAAAAAAAAAAAAAAwD8RERERERHgP7Rt27Zt284/AAAAAAAAAACSmZmZmZm5PzMzMzMzM8M/yOJuijxo2j8jIiIiIiLYP5D92I/92Nc/RERERERE5D/e3d3d3d3dPwaj3TnHw98/AAAAAAAA2D8zMzMzMzPTPwAAAAAAAOg/AAAAAAAAAABbsAVbsAXLPwAAAAAAAAAAAAAAAAAAAAAMtmALtmDjPwAAAAAAAAAAuB6F61G43j8AAAAAAAAAABZddNFFF90/AAAAAAAAAAAAAAAAAAAAAAAAAAAAAAAAzMzMzMzM5z8AAAAAAAAAABZddNFFF90/AAAAAAAAAACkibF1z8jSPwAAAAAAAAAAAAAAAAAAAAAAAAAAAAAAAGZmZmZmZtY/AAAAAAAA4D8AAAAAAAAAAHZ3d3d3d98/AAAAAAAAAADNzMzMzMzUPyMiIiIiItg/AAAAAAAAAACQJEmSJEnCP2wU43lk0do/AAAAAAAAAAAAAAAAAAAAALZt27Zt2+Y/GYZhGIZh4D+SmZmZmZm5P+7u7u7u7t4/AAAAAAAAAABJkiRJkiThPwAAAAAAAAAAAAAAAAAAAAAAAAAAAAAAAAAAAAAAAAAAAAAAAAAAAAB4d3d3d3fXPwAAAAAAAAAAAAAAAAAAAAAAAAAAAAAAAAAAAAAAAAAAZ2ZmZmZm4j8AAAAAAAAAAJqZmZmZmbk/zczMzMzM6D8AAAAAAAAAADQzMzMzM+M/mpmZmZmZuT9VVVVVVVXlPwAAAAAAAAAAAAAAAAAAAAAAAAAAAAAAAAAAAAAAAAAAlD7pkz7p4z+amZmZmZm5P2ZmZmZmZuY/AAAAAAAAAAAAAAAAAAAAAM3MzMzMzOQ/kpmZmZmZuT8AAAAAAAAAAAAAAAAAAAAAAAAAAAAAAAAAAAAAAAAAAJqZmZmZmbk/AAAAAAAAAACamZmZmZnhP0D2Yz/2Y98/mpmZmZmZuT8iIiIiIiLSPwAAAAAAAPA/AAAAAAAAAAAAAAAAAAAAAAAAAAAAAAAAmpmZmZmZ2T8AAAAAAAAAAGZmZmZmZuY/AAAAAAAAAAAAAAAAAADwPyMiIiIiItg/AAAAAAAAAAAAAAAAAAAAAAAAAAAAAAAA",
          "dtype": "f8"
         },
         "yaxis": "y"
        },
        {
         "bingroup": "x",
         "hovertemplate": "subreddit=stockstobuytoday<br>polarity=%{x}<br>count=%{y}<extra></extra>",
         "legendgroup": "stockstobuytoday",
         "marker": {
          "color": "#00cc96"
         },
         "name": "stockstobuytoday",
         "opacity": 0.5,
         "showlegend": false,
         "type": "histogram",
         "x": {
          "bdata": "sMkmm2yyyz8AAAAAAAAAAAAAAAAAAAAAAAAAAAAAAAAAAAAAAAAAADrYC1j/nbs/AAAAAAAAAAAAAAAAAAAAAAAAAAAAAAAAAAAAAAAAAAAAAAAAAAAAAHsUrkfherQ/AAAAAAAAAAAWBS+n4OV0PwAAAAAAAAAANtBpA5020D8AAAAAAAAAAAAAAAAAAAAAAAAAAAAAAAAAAAAAAAAAAFVVVVVVVeU/AAAAAAAAAAAAAAAAAAAAAAAAAAAAAAAAAAAAAAAAsD9y0UUXXXTBPwAAAAAAAAAAcAIncAInsD+bmZmZmZnZPwAAAAAAAAAAAAAAAAAAAAAAAAAAAAAAAAAAAAAAALA/AAAAAAAAAAAAAAAAAADwPwAAAAAAAAAA+U17ZqeCwD8AAAAAAAAAAGZmZmZmZtY/AAAAAAAAAAAAAAAAAAAAAAAAAAAAAAAAAAAAAAAA0L+amZmZmZmpvwAAAAAAAAAAAAAAAAAAAADRJ33SJ33CP8nMzMzMzMw/AAAAAAAAAAB0FK5H4Xq0PzMzMzMzM9M/AAAAAAAAAAAAAAAAAAAAAAAAAAAAAAAAAHwYg7g9wz/Z3d3d3d29vwAAAAAAAAAAZmZmZmZmxj8AAAAAAAAAABAREREREdE/AAAAAAAAAAAAAAAAAAAAALgehetRuL4/ubu7u7u7yz8AAAAAAAAAAAAAAAAAAAAAAAAAAAAAAABVVVVVVVXVvwAAAAAAAAAAAAAAAAAAAACGiIiIiIjOPwAAAAAAAAAAAAAAAAAAAAAAAAAAAAAAAJqZmZmZmbm/QPfDxy/vtj8AAAAAAACwP+0VX/EVX7E/VVVVVVVV4b9mZmZmZmbWP0Xgl8vv1cs/AAAAAAAAAABmZmZmZmbWP5qZmZmZmek/AAAAAAAAAADVgi3Ygi3IPwAAAAAAAAAAAAAAAAAAAAAj61x5QLLOvwAAAAAAAAAAWfKLJb9Y0j8AAAAAAAAAAHLRRRdddME/AAAAAAAAAAAAAAAAAAAAAAAAAAAAAAAAhoiIiIiItj8AAAAAAAAAAHLRRRdddME/AAAAAAAAAADrHVMDe8fEPwAAAAAAAAAAAAAAAAAAAAAAAAAAAAAAAGZmZmZmZtY/AAAAAAAA0D8AAAAAAAAAALm7u7u7u8s/AAAAAAAAAAB9mZmZmZmZvwAAAAAAALA/AAAAAAAAAACQJEmSJEmyvxc42LS2gL4/AAAAAAAAAAAAAAAAAAAAAD5FugoSh8e/2I/92I/9yD8AAAAAAAAAAFNVVVVVVcU/AAAAAAAAAACSJEmSJEnSPwAAAAAAAAAAAAAAAAAAAAAAAAAAAAAAAAAAAAAAAAAAAAAAAAAAAAB9mZmZmZmZPwAAAAAAAAAAAAAAAAAAAAAAAAAAAAAAAAAAAAAAAAAADyRJkiRJYj8AAAAAAAAAAAAAAAAAAAAAVVVVVVVV2T8AAAAAAAAAAGZmZmZmZuY/AAAAAAAA0D9lZmZmZmbmvwAAAAAAAAAAAAAAAAAAAAAAAAAAAAAAAAAAAAAAAAAAEGzBFmzBhj8AAAAAAAAAADMzMzMzM+O/AAAAAAAAAAAAAAAAAAAAAAAAAAAAAOC/AAAAAAAAAAAAAAAAAAAAAAAAAAAAAAAAAAAAAAAAAAAAAAAAAAAAAAAAAAAAAAAAAAAAAAAAAACSmZmZmZm5PxaGYRiGYcg/AAAAAAAA0D8AAAAAAAAAAAAAAAAAAAAAAAAAAAAAAAAAAAAAAAAAAAAAAAAAAAAAAAAAAAAAAAAAAAAAAAAAAJqZmZmZmdm/AAAAAAAAAAAzMzMzMzPjPwAAAAAAALA/AAAAAAAAAAAAAAAAAAAAAAAAAAAAAAAA",
          "dtype": "f8"
         },
         "xaxis": "x3",
         "yaxis": "y3"
        },
        {
         "bingroup": "y",
         "hovertemplate": "subreddit=stockstobuytoday<br>subjectivity=%{y}<br>count=%{x}<extra></extra>",
         "legendgroup": "stockstobuytoday",
         "marker": {
          "color": "#00cc96"
         },
         "name": "stockstobuytoday",
         "opacity": 0.5,
         "showlegend": false,
         "type": "histogram",
         "xaxis": "x2",
         "y": {
          "bdata": "tJw/y/mz5D8AAAAAAAAAAAAAAAAAAAAAAAAAAAAAAAAAAAAAAAAAABYoJcNvBts/AAAAAAAAAAAAAAAAAAAAAAAAAAAAAAAAAAAAAAAAAAAAAAAAAAAAABSuR+F6FN4/kpmZmZmZuT8rG46Y9kTWPwAAAAAAAPA/j8L1KFyP4j8AAAAAAAAAAAAAAAAAAAAAAAAAAAAAAAAAAAAAAAAAAHh3d3d3d+c/AAAAAAAAAAAAAAAAAAAAAAAAAAAAAAAAmZmZmZmZ4T8WXXTRRRfdPwAAAAAAAAAAiIiIiIiI0D9FRERERETkPwAAAAAAAAAAAAAAAAAAAAAAAAAAAAAAACMiIiIiItg/mpmZmZmZuT8AAAAAAADwPwAAAAAAAAAAoCYZNP5p5j8AAAAAAAAAAM3MzMzMzOQ/AAAAAAAAAAAAAAAAAAAAAAAAAAAAAAAAmpmZmZmZ2T+amZmZmZnZPwAAAAAAAAAAAAAAAAAAAAAzMzMzMzPTPwAAAAAAAOQ/AAAAAAAAAABI4XoUrkfhP2ZmZmZmZt4/AAAAAAAAAAAAAAAAAAAAAAAAAAAAAAAAw1jNc0/b4D+qqqqqqqrqPwAAAAAAAAAAVVVVVVVV5T8AAAAAAAAAADMzMzMzM9M/AAAAAAAAAAAAAAAAAAAAAAOdNtBpA+E/7+7u7u7u5j8AAAAAAAAAAAAAAAAAAAAAAAAAAAAAAABVVVVVVVXlPwAAAAAAAAAAAAAAAAAAwD8RERERERHgP7Rt27Zt284/AAAAAAAAAACSmZmZmZm5PzMzMzMzM8M/yOJuijxo2j8jIiIiIiLYP5D92I/92Nc/RERERERE5D/e3d3d3d3dPwaj3TnHw98/AAAAAAAA2D8zMzMzMzPTPwAAAAAAAOg/AAAAAAAAAABbsAVbsAXLPwAAAAAAAAAAAAAAAAAAAAAMtmALtmDjPwAAAAAAAAAAuB6F61G43j8AAAAAAAAAABZddNFFF90/AAAAAAAAAAAAAAAAAAAAAAAAAAAAAAAAzMzMzMzM5z8AAAAAAAAAABZddNFFF90/AAAAAAAAAACkibF1z8jSPwAAAAAAAAAAAAAAAAAAAAAAAAAAAAAAAGZmZmZmZtY/AAAAAAAA4D8AAAAAAAAAAHZ3d3d3d98/AAAAAAAAAADNzMzMzMzUPyMiIiIiItg/AAAAAAAAAACQJEmSJEnCP2wU43lk0do/AAAAAAAAAAAAAAAAAAAAALZt27Zt2+Y/GYZhGIZh4D+SmZmZmZm5P+7u7u7u7t4/AAAAAAAAAABJkiRJkiThPwAAAAAAAAAAAAAAAAAAAAAAAAAAAAAAAAAAAAAAAAAAAAAAAAAAAAB4d3d3d3fXPwAAAAAAAAAAAAAAAAAAAAAAAAAAAAAAAAAAAAAAAAAAZ2ZmZmZm4j8AAAAAAAAAAJqZmZmZmbk/zczMzMzM6D8AAAAAAAAAADQzMzMzM+M/mpmZmZmZuT9VVVVVVVXlPwAAAAAAAAAAAAAAAAAAAAAAAAAAAAAAAAAAAAAAAAAAlD7pkz7p4z+amZmZmZm5P2ZmZmZmZuY/AAAAAAAAAAAAAAAAAAAAAM3MzMzMzOQ/kpmZmZmZuT8AAAAAAAAAAAAAAAAAAAAAAAAAAAAAAAAAAAAAAAAAAJqZmZmZmbk/AAAAAAAAAACamZmZmZnhP0D2Yz/2Y98/mpmZmZmZuT8iIiIiIiLSPwAAAAAAAPA/AAAAAAAAAAAAAAAAAAAAAAAAAAAAAAAAmpmZmZmZ2T8AAAAAAAAAAGZmZmZmZuY/AAAAAAAAAAAAAAAAAADwPyMiIiIiItg/AAAAAAAAAAAAAAAAAAAAAAAAAAAAAAAA",
          "dtype": "f8"
         },
         "yaxis": "y2"
        },
        {
         "customdata": [
          [
           "Trump will respond to china increasing their tariffs. Trump is looking to fire Jerome Powell. Earnings reporting is starting. I personally think the next few weeks are going to be brutal.... if all companies adjust downwards and JPow is fired, i can see it going down A LOT and very quickly even"
          ],
          [
           "Am I the only one seeing the cup & handle breakout here? 52 week high? Third Green Day? The pivot was on Thursday. Perfectly held the base trend line to a new high. Follow the technicals folks."
          ],
          [
           "It's a copy/paste from a Bloomberg terminal."
          ],
          [
           "Honestly let the economy burn, maybe people will learn"
          ],
          [
           "\nI’ve been doing pretty good with this, but it’s heavy on fees. Looking for a similar risk return profile but any ideas on how to do it with less fees? \nI don’t want to sell calls by myself.\n\nQdte 35%\nUpro 25%\nTltw 15%\nIspy 10%\nBrkb 10%\nMsci/Nvda 5%"
          ],
          [
           "USA begging China to call them"
          ],
          [
           "Disgusting tactics"
          ],
          [
           "Jesus Christ"
          ],
          [
           "Exactly this. Trump will blink first because, in the end, he will have to answer to his people for high prices, empty shelves, and a useless dollar. People will protest and riot, there will be growing calls for his removal from office, things will halt to a standstill and there will be general chaos.\n\nPeople try that in China, and it will be Tiananmen Square 2.0. There will be no revolt, there will be no dissent. People will do as the CCP says or suffer severe punishment.\n\nXi holds the cards in a long term trade war. Trump does not. He can’t win this even if his mental illness tells him otherwise."
          ],
          [
           "I think we are past the numbers. Just assume folks world wide are now looking for another safe place to store their money.\n\nWe used to be the place. That is over.\n\nHell I am in the US and I am looking for a safer place to store my money.\n\nWe are in uncharted waters here and we have an economy that was already shaky to begin with.\n\nFar too many Americans are woefully unaware of how big the world is or how much we actually depend on them. \n\nLots of hard lessons to be learned going forward.\n\nTo sell bonds and treasuries we need people to believe their money is safe if they buy them. That idea is rapidly exiting stage right.\n\nI could be wrong but I think those rates are  screaming at us that we are going down rapidly as a trusted partner."
          ],
          [
           "Nooo dont go down its smug bull day"
          ],
          [
           "I feel like these HFs took the word \"retard\" thrown around at WSB too literally. Now they are trying to pack shit in Tiffany bags and sell it to us. But we ain't buying it!"
          ],
          [
           "Shop like a billionaire."
          ],
          [
           "> Still seems like an awful investment\n\nThat sentiment, above everything else happening, is what has me most terrified.\n\nFaith in the US economy is crumbling."
          ],
          [
           "So they went from saying redditors are bad for manipulating the market o praising silver??"
          ],
          [
           "Cash"
          ],
          [
           "Other countries probably will go through a recession, but there is no reason at all that they would suffer hyperinflation.  Remember that they can mitigate inflation by trading with any other country.  There is very little that only the US makes.  Only the US dollar is wobbly right now."
          ],
          [
           "So they went from saying redditors are bad for manipulating the market o praising silver??"
          ],
          [
           "what if time machine parts come from china"
          ],
          [
           "Completely unrelated, but for like 20 years of my life, I thought the saying was \"Button down the hatches\".  I was like 27 or something when somebody corrected me and now every time I see it, I always think \"Man, that was really a common knowledge thing that I just didn't know\"."
          ],
          [
           "And you are? \n\nMarket. Mr. Market. "
          ],
          [
           "I'm Brazilian should I change usd to to the Brazilian real? Not financial advice just what you think"
          ],
          [
           "My point is he knows what he is doing. I also think he is an idiot, but to chalk his actions up to stupidity undersells the risk he poses to basically everyone."
          ],
          [
           "The steal"
          ],
          [
           "To be fair, Chinese exports to the US make up a much larger portion of China’s GDP than the other way around. China kinda does rely on the US consumer to a degree."
          ],
          [
           "Consumer sentiment survey, lower than expected"
          ],
          [
           "Please use this thread to discuss your portfolio, learn of other stock tickers & portfolios like [Warren Buffet's](/), and help out users by giving constructive criticism.\n\nWhy quarterly?  Public companies report earnings quarterly; many investors take this as an opportunity to rebalance their portfolios.  We highly recommend you do some reading:  Check out our wiki's list of [relevant posts & book recommendations.](/#wiki_relevant_posts.2C_books.2C_wiki_recommendations)\n\nYou can find stocks on your own by using a scanner like your broker's or [Finviz.]()  To help further, here's a list of [relevant websites.](/#wiki_relevant_websites.2Fapps)\n\nIf you don't have a broker yet, see our [list of brokers](/#wiki_brokers_for_investing) or search old posts.  If you haven't started investing or trading yet, then setup your [paper trading to learn basics like market orders vs limit orders.](/#wiki_is_there_a_way_to_practice.3F)\n\nBe aware of [Business Cycle Investing]() which Fidelity issues updates to the state of global business cycles every 1 to 3 months (note: Fidelity changes their links often, so search for it since their take on it is enlightening).  [Investopedia's take on the Business Cycle]().\n\nIf you need help with a falling stock price, check out Investopedia's [The Art of Selling A Losing Position]() and their [list of biases.]()\n\nHere's a list of all the [previous portfolio stickies.](+title%3A%22Rate+My+Portfolio%22&restrict_sr=on&sort=new&t=all)"
          ],
          [
           "I bought into silver companies and made a nice amount this morning."
          ],
          [
           "The funny part is that Elmo has called Navarro Trump’s tariff “expert” who is such an expert he made up an economist to sell the idea that is just his name rearranged (Ron Vara)  a dumbass and does not want many of these tariffs. At least not the ones that will hurt him. \n\nBut the rest of the corrupt fascist agenda keeps him coming back for more I guess."
          ],
          [
           "Look,  the USA somehow thought a second term for that fool was a good idea.  This was not rational, as shown by all the people who called it before Trump took office.  \n\nWhy would you expect the market to be rational when it is partially supported by the cult of Trump? \n\nIt's going to be wild and scary and the world will never be the same."
          ],
          [
           "\"New to investing\" but almost $50k port. Ok there."
          ],
          [
           "There are funds which directly hold physical gold/silver without any intermediate contracts and have vaults in Switzerland and Singapore but they are expensive. Examples are ZSIL.SW, ZGLD.SW, AUUSI.SW. I believe there should be quite many of similar ETFs in most countries (I listed only Swiss-domiciled)."
          ],
          [
           "If Trump is allowed to control the fed we will be cooked. Hello hyperinflation"
          ],
          [
           "It's just showing everyone they are not the issue. Same thing China did with the white paper. It's just an act of show."
          ],
          [
           "You need to stop listening to the noise and think with your own brain bud. And no, the 1/1/1 portfolio is a standard recommendation for set and forget investors, investing internationally is not new, except maybe to people who have never consulted any source except reddit. \n\nJust ask yourself some common sense questions:\n\n1. Assuming it's 2045 and you have no idea what market conditions are like, do you think it's smart to put 100% of your money in one country and 0% in the rest of the world? If so, why? \n\n2. Looking at the short/medium term, the US is highly overvalued, currently in the 98th percentile. When you do the math, it's more expensive to buy 80% of the US than it is to buy every other company in the world combined. Some of your individual picks drag you into even more extreme territory? Does that sound like a good deal to you? Why or why not? \n\n3. Why did you ask for advice on this thread only to react negatively upon receiving the feedback you were presumably seeking. Could you make a thorough argument as to why 100% US is a good strategy, and if so, what is that argument? Would you be confident recommending this allocation to a friend or family member? If you were hiring someone to invest your money, would you hire yourself based on that reaction? If not, who would you hire?\n\n4. Your portfolio is heavily concentrated not just geographically, but also (albeit to a lesser degree) by sector. What justifies that allocation?  \n\n5. Your past investments are not relevant. The fact that you got RR at X price will never help or hurt you at any point in the future. Why did you mention it? Are you confident that this wasn't an emotional reaction? \n\nUnfortunately \"I'm right and everything else is temporary noise\" is not a rational argument. You either have strong reasons to maintain this portfolio or you do not. That was true a year ago and will be a year from today. Your money is yours to lose and you are not obligated to invest rationally, but very simply it is extremely difficult to see the rationale for this portfolio even discounting the individual companies and any medium-term trends. \n\nTake a couple of days and put your rationale into writing - geographical allocation, responses to 5-10 year trends, sector allocation, each individual stock etc. Write the strongest possible counterargument to your own justifications, and adjust where you feel your reasoning is weak. If you're going to lose money, it's far better to do so with a strong thesis than it is to lose your life savings because you were too proud and wanted to prove to some stranger on the internet that, apparently, international investing is a week-old idea, the south will rise again, and hell will freeze over any day now."
          ],
          [
           "It was on Good morning america as well."
          ],
          [
           "1.  Make middle class homeless by causing hyperinflation and destroying the economy\n\n2.  Make homelessness illegal\n\n3.  Round up homeless and put them in work camps to provide free labor for corporations\n\n4.  ???\n\n5.  Profit\n\n\n/s"
          ],
          [
           "Worry about your own country buddy."
          ],
          [
           "RKT is a crazy stock in general. Every dividend for the past 5 years has been a surprise. I just keep 100 shares to sell the occasional covered call"
          ],
          [
           "Trump is playing chicken.. but he's driving a Smart car and Xi is driving a semi"
          ],
          [
           "Yikes...\n\n\nThis shitshow continually surprises with shockingly bad news.\n\n\nI wonder if Congress will be able to grow a spine to counter the threat of drumpf, his stupidity and rabid qult..."
          ],
          [
           "The squeeze for silver is different. If people start demanding the physical from their contracts, it explodes. Nothing to do with \"shorting\" it at all."
          ],
          [
           "so no source of a selloff. Got it, thanks."
          ],
          [
           "I look at news mostly but sometimes\n\ni do DCFs, look at 10Ks, revisit quarterly reports, other peoples analysis, read other peoples perspectives, check politics which might affect my portfolio etc. Sometimes i need to watch tutorials. \n\nIm not very effective with my time since im also in a learning process"
          ],
          [
           "Trump has already blinked once."
          ],
          [
           "Anyone else buying more GME today to fuck these guys over even more?"
          ],
          [
           "We're too conditioned for instant gratification. Trump's M.O. is getting things done NOW - FIXED ON DAY ONE! So short-sighted, it's depressing."
          ],
          [
           "Already done it and rebalanced, but how comes you don't like em?"
          ],
          [
           "Nope, even if he drops all tariffs the loss of credibility and confidence will still be there. The only thing that might fix this is this entire admin stepping down, but everyone knows that's not going to happen. I'm assuming Congress/the GOP will step in at some point when it gets really, really bad, but by then it might already be too late."
          ],
          [
           "You telling me dumping your allies and starting a trade war with everyone is not a sound strategy"
          ],
          [
           "wholesale ask premium on 1 oz credit suisse in now $150. yesterday was 140! thats crazy"
          ],
          [
           "Imagine having the dollar backed by Trump coin. The economy and coin prices crash. Making the dollar it’s backed by essentially worthless. The FED chair now has to step in make a decision. Do they save the economy or do they save the “Coin”? Only a loyalist can decide our fate."
          ],
          [
           "so y'all aren't exactly happy with the shorts"
          ],
          [
           "Isnt that economics? What trump says have massive impact on the economy hence the stock market reacts to it."
          ],
          [
           "Hello! How well do you know international trade? This whole tariff debacle is about goods, because the US consumes wayyyy more goods than it produces. BUT. The US is a surplus\nsupplier in services. It is royally fucked if other countries start replacing US services with services from elsewhere. \n\nAmericans so often believe the world needs them more than they need the world and it’s wild. It’s a truly interdependent system.\n \nAlso, one of the reasons the US has accepted higher tariffs on some goods until now is due to its favourable negotiations on the supply of services. \n\nFurther, the reason for the 90 day tariff pause on some nations is due to other countries completely screwing your bond market, which will tank your economy faster than a trade war. China is one of those countries. For a country with much higher debt than most others, the US is incredibly susceptible to movements in the bond market; which makes it dependent on countries who hold bonds.\n\nI understand the education system in America has been degraded over decades. But it’s so tiring coming on here and reading half ass ignorant comments. It’s ok to not understand this stuff. It’s not ok to just go ‘but murica is the best’. You’re not. You’re borderline third world at this point and the rest of the world is moving on without you. Sort your shit out already."
          ],
          [
           "Silver is sold out everywhere. Local hobby shops re pushing heavily on facebook to buy it. There is definitely something going on with silver it seems, not that it isnt being hyped hard."
          ],
          [
           "What’s your average price on RDDt?"
          ],
          [
           "Yeah, like has anyone realized what happens when the dollar is attacked? It doesn't really matter where you run, it's basically the nuclear option. People buying gold ETFs make me laugh. Has any of them actually looked under the hood of one of those gold ETFs? It's basically the dollar again. It's turtles all the way in and down."
          ],
          [
           "China raised tariffs even MORE a few hours ago. Markets green pre market. Fuck yo calls. Fuck yo puts. Fuck ya life. Bing bong."
          ],
          [
           "beginner help please!!  i’m 22 y/o in usa, looking to invest for the long term, w/ no money currently in the market. thoughts on the following for my roth ira?\n\nfxaix 30%\nqqqm 30%\nvti 20%\nfsggx 10%\nfitlx 5%\nschd 5%\n\nand should i invest it all 7k in one lump sum now, or bit by bit? i also plan to invest 1k in an individual brokerage acct to hopefully take advantage of the wild market, would love any tips for allocating that too! tysm!!"
          ],
          [
           "Trading firms set the market, retail reacts"
          ],
          [
           "Stocks were at like ath giga high then and the spike wasn’t as rapid."
          ],
          [
           "The obvious can also be refreshing from CNBC: 'Fed’s Kashkari says rising bond yields, falling dollar show investors are moving on from the U.S.'"
          ],
          [
           "My concern isn’t the near term 30% drop, it’s the after effect the tariff talk will have on the economy moving forward. If the tariff bs isn’t put to bed shortly, the damage will have been done and the economy will struggle/sputter for some time."
          ],
          [
           "So this is my fun portfolio atm\n\nRKLB - 42%\n\nUndisclosed company - 2%\n\nLumen 1.5%\n\nASTS 5.5%\n\nRtx - 18.3%\n\nIonq 2.5%\n\nNet 5.8%\n\nAMZN 8.3%\n\nNvda 4.5%\n\nQqqm 6.06%\n\nAmd 2.7%\n\nThis is my fun portfolio. I literally haven't taken my stimulus check and had fun with it. Up currently 235% and highest I've been was 300%"
          ],
          [
           "If the republicans can be removed from office, it may be a saving grace for a while."
          ],
          [
           "It’ll be interesting to see how companies amass inventory when the past 15 years has moved companies away from warehousing and into JIT shipping.\n\nThe ability of most large companies to stockpile inventory past 1-2 years is extremely limited."
          ],
          [
           "Lmao what? Thought I was in WSB for a sec with this paranoid nonsense. Silver is not a hedge fund trap, there just happen to be a lot of people excited about it."
          ],
          [
           "Insanity!"
          ],
          [
           "This is what all of the “lunatic left” has been warning about for 8 years. Trust in democracy has been the underpinning of our economy for 80 years and Trump has obliterated it in 8 weeks. It’s why money flowed into the U.S. markets. With no safety in American democracy, we are not a safe investment any longer. Period. Damage done. Even with Trump gone, America could still elect another Trump. It is our citizens who bear the responsibility. Trump is just the manifestation of our hostility towards the rest of the world."
          ],
          [
           "So wait on tax day or after your expecting things to fall or go up? "
          ],
          [
           "I wouldn't call it denial but not knowing where to invest. Physical assets are the safest investment now like housing in popular areas and actual gold but they are hard to invest."
          ],
          [
           "Why can’t he just play golf all day long?"
          ],
          [
           "There will be a breakdown between necessities vs recreation purchases. Grocers might see a spike."
          ],
          [
           "Calling it anything but a trade embargo at this point is PR spin."
          ],
          [
           "I kind of think the plan is to distract people with economic yoyo to set up deporting AOC to El Salvador?"
          ],
          [
           "Now imagine the state of the people that voted for him because he's a genius to them. It's unbelievably depressing that 77 million people fell for this."
          ],
          [
           "Depression is already priced in."
          ],
          [
           "I'm employed doing well with no debt but there is far more increased risk of me losing my job this year than last year so I've shifted to cooking even more than before rather than getting takeout at work. Drive less so my car last another 10+ years. Scale back dramatically home improvement plans. Don't even want a Switch 2 anymore. I'll enjoy what I have and shift to saving up for potential hard times"
          ],
          [
           "If you don't like trump quick watching marvel movies! /s\n\nThat's you, a dumbass. \n\nThe US leadership has betrayed its citizens, and here you are, completely uneducated and sucking the nipple of American propaganda."
          ],
          [
           "This is like a pissing contest between Xi and Trump. Can we please get an adult in the room?"
          ],
          [
           "That would make things even worse"
          ],
          [
           "All my wife and I are buying now are groceries (an old fashioned but BEAUTIFUL term!) and bullets. Saving as much cash as possible."
          ],
          [
           "The stock market was higher then. \n\nMy understanding is in a healthy market, yields go down when the stock market does because investors are moving money to bonds, which are safer. \n\nRight now stocks, bonds, and USD are all moving lower, which seems to indicate a decline in investment in the US."
          ],
          [
           "My point is that all the culture war posturing is a freebie as it's all about fantasies and fairy tales. You can't lose because there's nothing to lose, no substance. You're just yelling from Oklahoma at something you think is reality in California. Great when you're in the opposition and want to stoke anger.\n\nBut people going out of business is tangible in a very different way. Trump and the GOP own it hard as the current crisis is completely manufactured and branded by Trump.\n\nI think the main reason it's happening is because Trump's entourage this time around is a bunch of sniffling uninformed sycophants with little understanding of or interest in the real world consequences of Trump's policies. They think it's still about fake internet points and owning the libs."
          ],
          [
           "Is there a reason why the 10YR seems to go vertical in the mornings?"
          ],
          [
           "I just went and looked at SLV after seeing some stuff and I was like “Who the FUCK would believe this.” \n\nThe trend alone made me back out from giving it another look."
          ],
          [
           "I suppose that's what happens when your companies lie, cheat and steal. When you steal IP from literally every other country and face no consequences that's what ends up happening. American companies have no protections or recourse for this behavior. Chinese companies in the USA have the same protections as an American company. Tell me, are other countries companies allowed to operate within China without bending the knee to the totalitarian CCP?  \n\nTo anyone with a brain that claims China is some utopia that will deliver us from the big bad US is delusional. You think USA hegemony is bad. Wait til these anti American losers on Reddit see what complete government control looks like. Imagine bitching about an administration abusing their power, then look to the fucking CCP as a bastion of fairness. If you can't stand government overreach, you'll love the CCP."
          ],
          [
           "If there is one lesson learned from economic policy during the last 100 years, it is that central bank monetary policy needs to be independent from executive/legislative branch fiscal policy."
          ],
          [
           "I mean to be fair you would not catch me holding USDs. Either invest your money outside of the US, in crypto or in stable foreign currencies."
          ],
          [
           "Let’s say Trump drops the Chinese tariffs.  Does that resolve the situation or is it too late?  I have my thoughts but want to hear others."
          ],
          [
           "Hes mad because J Powell doesn't play games. Probably one of the few people whos working on that level now who isnt a kiss ass sycophant."
          ],
          [
           "All of Xi’s cadres have worked for decades in rural villages, industries, and universities. \n\nGetting to push paper and stamp things comes after they do their time in the wilderness. \n\nHas anyone in Trump’s cabinet ever worked in a factory?"
          ],
          [
           "How the hell do you order a magnitude? Is that like a call or put? Can I gamble on magnitudes? I'd like 500 please."
          ],
          [
           "When you realize it is happening, it will be too late to do something about it unfortunately.\n\nBtw if you think Trump is doing this to stop China's abuse of its own citizens, you really don't understand what's happening right now. Trump doesn't care one bit about how China treats their own citizens. He is doing what he does because he wants to have similar powers in US and part of it requires making sure China doesn't have an edge on us economically.\n\nIronically what he is doing now ensures it will happen."
          ],
          [
           "If this goes through and he is not replaced with someone reasonable I will be reducing my holdings of US assets to as close to zero as I can (non-US companies may still hold some US assets so hard to avoid 100%).  It will be the bomb timer ticking and no one knows when the bomb will go off...but at some point it will go off."
          ],
          [
           "Since I posted that comment I’m another 4% down! When will it end!"
          ],
          [
           "I know. America is fuxked and stupid."
          ],
          [
           "Great summary. We are hosed."
          ],
          [
           "At this moment I would trust them more than the American president."
          ],
          [
           "What the actual fuck?"
          ],
          [
           "If costs increase wouldn’t it just show higher sales numbers and then the media could twist it even if it’s not a profit number."
          ],
          [
           "Etrade has a feed of news articles about how reddit is dumping GME for silver, and actual-reddit is just looking at their .\n\nAin't no paper-silver-hands around here. Diamonds are forever, bb."
          ],
          [
           "Lots of food, oil and gas, which can be replaced from other sources.  Also lots of pharmaceuticals, airplanes and airplane parts, which will be harder to replace, at least in the short term.  China's tariffs on US imports won't hurt them as bad as our tariffs on Chinese imports hurt us, but they will hurt all the same.\n\n/"
          ],
          [
           "Went to Costco last night (it was our regular monthly trip) in northern VA and half of the paper products (toilet paper, paper towels, klennex) were gone. Felt like covid times"
          ],
          [
           "They’re going to start selling our treasury bonds"
          ],
          [
           "It is Aladeen"
          ],
          [
           "Careful with puts. If they decide to pump the market you get killed on the puts from IV crush AND the price movement. SQQQ better imo as it avoided vix related BS and is also more liquid with tighter bid ask"
          ],
          [
           "r/CanadianInvestor would a better place to ask. \n\nThat being said, if you want to hold one fund, XEQT is the one to go with. By choosing VFV, you're betting only on the US economy. It might the worst time to do that right now. If I were you, i'd focus more on growth than dividends."
          ],
          [
           "Trump is delusional and so as his supporters. So yeah, most likely."
          ],
          [
           "My day trading: Watching TBBB, COIN and PLTR. Expecting these will dip after the morning coffee wears off and should rally around lunch time."
          ],
          [
           "This is my standard opinion of BlackRock but i feel like they are right."
          ],
          [
           "This was all easily foreseeable before the election, unfortunately most voters have zero critical thinking skills"
          ],
          [
           "Remember when Powell was asked this question at a press meeting and he Powell replied “not permitted under the law” \n\nYeah… about that. Aged like milk"
          ],
          [
           "And Trump thinks what he's doing is good for the American people?? I feel sorry for my American friends, they are going to be paying A LOT more for everything!!"
          ],
          [
           "I'm getting pretty yippee over here, personally, we haven't seen this type of shit since the last time the GOP nearly fucked America completely back in 2011 when they almost defaulted on our debt for no reason. Sensing a pattern, how come voters don't see this pattern..."
          ],
          [
           "So Japan and Canada are selling treasuries for two days (at a significant loss) and this is the end of Americas ability to move the markets?\n\nI don’t think so. \n\nPeople of all sorts are selling bonds to flee the USD. Not to play the game for a short term spike in yields that will vanish as soon as they stop selling. \n\nWhat a delusional, Reddit, fairytale take."
          ],
          [
           "If I have cash sitting in SPAXX for example, what are those yields most closely tied to?  Is there any indicator I can look at to get an idea of where yields are heading?"
          ],
          [
           "Cause depression, remove consumer protection!"
          ],
          [
           "You're welcome, but please always do your own DD ;)"
          ],
          [
           "Trump has now completely proven China is #1.  EU is as a group #2 and the US is in quick descent.  \n\nAt the end of the 90 day negotiating period little will be left of the US as we knew it wealth-wise as there will have been no shipping from China and many other countries will have slow walked shipping,and the supply chain problems will be worse than during the pandemic.  \n\nInflation due to shortages and unregulated price gouging will be rampant.  The stock market and treasuries will be toast as will the value of the dollar.\n\nLook at how much wealth has been lost since one week ago, April 2-9.  Multiply that by 12.  How many people will be laid off by then?  Will Trump support the populace the way he did during the pandemic?"
          ],
          [
           "Too late. Foreign holders of US treasuries have already made the decision to unwind. The calculus is now about how they do that at least cost to themselves. They'll want to avoid spooking the market and $US too much, so you can anticipate a long slow exit... Unless someone blinks and 'panic' sells. If you're lucky Japan, China and the UK will co-ordinate to prevent a massive crash - it's in their best interests. Ironically the biggest wild card is Trump himself. He's capable of of even worse dumbassery that could trigger a collapse. Defaulting on debt has been one of his go to solutions for when everything turns to shit.\n\nHow will this all end? With a bang, or a whimper."
          ],
          [
           "It's basically just bickering with math at this point.  The current tariffs pretty much ensure that we're not going to buy each other's stuff."
          ],
          [
           "Yup 2025 requires the world to use the US dollar as a currency to promote us from having to protect it with the military"
          ],
          [
           "People will down vote you for saying what is true and what contradicts hive mind mentality. Obviously no one here has lived in China to understand the true politics and corruption there. Trust me that USA, despite even all the insanity occurring now, is a much better place to live. This country is full of ungrateful people who have not experienced anything worse."
          ],
          [
           "And he wants war because he wants to take over land currently inhibited by our ally’s… or *was* our ally’s. We’re so screwed."
          ],
          [
           "I just bought more physical metal"
          ],
          [
           "Literally cannot think of a reason to buy any more than absolutely necessary at the moment. \n\nTo me it seems better to save as much as possible than buy anything unnecessary, even if the worst doesn’t come to pass. "
          ],
          [
           "The bond market\n/"
          ],
          [
           "This probably means Trump was truly shitting his pants with what was going on with 10 year treasuries yesterday morning before he announced the 90 reprieve. \n\nYields were spiking and markets were crashing and Powell was probably refusing to lower interest rates."
          ],
          [
           "But at the end of the day, none of them will ever want for anything (except for everything)."
          ],
          [
           "Sold it all. Think I'm doing pretty good."
          ],
          [
           "It is Friday and no one want to hold over the weekend - expecting RED today."
          ],
          [
           "Inside traitor"
          ],
          [
           "You know who happens to make money on silver rising? The same shitadel that's losing their shirts on gme... don't bail them out"
          ],
          [
           "The thing is is that paper silver is much more plentiful than physical silver, but people don't know that."
          ],
          [
           "NO ONE IS BUYING SILVER"
          ],
          [
           "What are you buying calls on?"
          ],
          [
           "Can we impeach this clown yet?"
          ],
          [
           "I ordered 200 dollars worth back during the Columbia tariff debacle. I should’ve ordered 10000 dollars of them."
          ],
          [
           "That was a masterfully executed bull trap. Let's see if it holds up."
          ],
          [
           "Art of the Deal"
          ],
          [
           "He did write some freaky letters about the benefits of banging old ladies.\n\n“Because in every Animal that walks upright, the Deficiency of the Fluids that fill the Muscles appears first in the highest Part: The Face first grows lank and wrinkled; then the Neck; then the Breast and Arms; the lower Parts continuing to the last as plump as ever: So that covering all above with a Basket, and regarding2 only what is below the Girdle, it is impossible of two Women to know an old from a young one. And as in the dark all Cats are grey, the Pleasure of corporal Enjoyment with an old Woman is at least equal, and frequently superior, every Knack being by Practice capable of Improvement.”  — Benjamin Franklin, literally \n\n"
          ],
          [
           "Literally nobody would cheer. "
          ],
          [
           "I mean, if you count on pardoning 1700 people charged with insurrection, starting a deportation program to an El Salvadorian prison, attempting to reverse the 14th amendment, and repeatedly shuttering departments only for the courts to try and stop him as politically stable... yeah this term is politically stable."
          ],
          [
           "Jerome is the last line of defence, if he falls, America falls"
          ],
          [
           "> But I don't see how things end negative today\n\nDude, are you paying attention???"
          ],
          [
           "Oh, sweet Jesus, Liz Truss this clown"
          ],
          [
           "It's insane, it's literally the single most stupid thing he possibly could have done. Perhaps the most stupid thing he's done in his entire life, not even kidding you"
          ],
          [
           "The more I read about the tariffs and Trump administration trade policy, the more sure I am that this is the most incompetent administration in history. \n\nJust an unmitigated fucking disaster. People have taken good governance for granted and now we see what happens with a fucking clown show at the helm."
          ],
          [
           "Oh damn that happened to US citizens? Wonder what would happen to non Chinese citizens if they spoke out against….don’t mind the censorship on internet usage either."
          ],
          [
           "Counter argument: Trump was a “Democrat”, so was Elon, RFKjr, Tulsi, and many more before they switch. For all we know, he could have already switched AND his funds directly or indirectly helped Trump. \nDude, Blackrock bought millions of shares in DJT before the election."
          ],
          [
           "SLV =/= physical silver"
          ],
          [
           "Yes, you’re very sexist, you even said as much above that you didn’t want to vote for a woman and wanted a “good looking” man in charge. \n\nI’m not responding anymore this “conversation” is going in circles.\n\nI happily voted for Harris. Have a swell day. "
          ],
          [
           "“Unstable”? You spelled corrupt wrong."
          ],
          [
           "\n\n> The 10-year Treasury yield climbed 6 basis points to 4.456% Friday Asia hours, as the sell-off in U.S. debt resumed.\n> \n> Treasurys have seen a sharp sell-off this week, triggered by U.S. President Donald Trump’s tariff policies, forcing the administration to rethink its strategy and pause new tariffs on most countries.\n> \n> The tariff reprieve helped drive a rally in stocks and halted the rise in yields, but the impact has since waned with both the slide in stocks and Treasurys resuming.\n\nCan someone explain to me how we will avoid the same bond situation we were faced with on Wednesday morning? It feels like we're heading towards the same issue"
          ],
          [
           "Red pill for the masses. All propaganda."
          ],
          [
           "I think historically, bad things happen in mondays"
          ],
          [
           "I mean, I'm making money on silver. But, ok."
          ],
          [
           "The retailers will be pounded in the pooper at the next earnings report. Until then it’s all speculation."
          ],
          [
           "“Thinking about“ cashing out??? It was the first thing i did (2nd was renewing my passport) in January 2025.   and I’m an old lady!"
          ],
          [
           "SPY futes are red again yo"
          ],
          [
           "I'm reading now about 125% retaliatory tariffs from China.. but so far the reaction of the market doesn't look so dramatic, I guess at this stage this is hardly a news. Still undecided if I should start DCAing now or wait a few months (right now I am 90% cash)."
          ],
          [
           "Why would I support this idiotic administration in their uncalled for trade way that helps no one but their rich friends? Everything that has been done has hurt the American people and our standing in the world. If you can’t see what’s happening and how it’s so bad for all of us then you are beyond help."
          ],
          [
           "Yeah, the issue is if people need cash, they will have to sell. Especially if they are leveraged."
          ],
          [
           "moving onto QE, risk on, and then bitcoin pumps"
          ],
          [
           "They r superior confident that they have the card to play"
          ],
          [
           "And so far 50+ countries have come to the table and the EU has decided on zero for zero tariffs.  That is a HUGE win for the U.S.\n\nThe U.S. is by far the largest, strongest, and most resilient economy in the world.  We can throw our weight around and thank god we finally have someone willing to do so."
          ],
          [
           "Yes :), but could see some additional demand on Wednesday once the liquidity draw has passed."
          ],
          [
           "Lol you wish. There won’t be fair elections ever again."
          ],
          [
           "You have no idea the physical toll 40 million tariffs have on a person"
          ],
          [
           "It's really eerie hearing them talk like it's a reddit rally"
          ],
          [
           "Jaime diamond said this like 2 days ago in an interview. Where am I wrong exactly?"
          ],
          [
           "Selling my Silver, pity it's just a miniscule amount"
          ],
          [
           "Who cares? Screw ‘em."
          ],
          [
           "I learned the hard way in football.. in college you are playing against other players for their pride..  in the NFL you are playing against other people's paychecks..  \nMoney is war..fuck wit people's money all bets are off"
          ],
          [
           "With Trump pushing  SCOTUS for reversal (or limiting) the \"Humphrey's Executor\" decision, he is fishing  for permission to be able to fire the Fed chair.  (What could possibly go wrong? /s)\n\nTell me why any sovereign (or otherwise) investor would want their 'safe' money stashed in treasury securities of a country whose leader just may well be insane. Or simply following in his father's footsteps.\n\nMight get a lot worse."
          ],
          [
           "Yea I don’t know why people keep saying denial, we’re -10% in the past 2 days, and more than 10% extra before the last week since the beginning of the year. What are people expecting, 95% down?!"
          ],
          [
           "####Trump wants a cut of trillions of dollars. \n\n\nWatch the money masters. \n\n\nFor every Federal Reserve Note cut, the Fed loans it to the Treasury and makes a interest profit back of 2¢ (the prime rate) \n\n\n*Trump wants at least half of that going to him personally*, but probably he wants all of it.\n\n\nI used to think he wanted to abolish the Fed. But no, he wants to use it as his personal passive income machine. Brrrrrr."
          ],
          [
           "I mean silver is used a lot in electronics and metals have been doing really well"
          ],
          [
           "I think it’s way past time for me to remove my money from my bank"
          ],
          [
           "Also think about infrastructure related items such as fiber optic network cabling, Ethernet, and things that are a bit more critical. There are businesses that import stuff that are important to other businesses operational needs. It's going to have a very big impact on b2b."
          ],
          [
           "#Remember guys, the media is the #1 enemy of the people."
          ],
          [
           "If we ever have a free and fair election and the voters hold a better memory than last time. Then hopefully it might just take a decade to gain trust again."
          ],
          [
           "As a person who owns silver etfs, I think it's laughable that media would try to pin a \"silver squeeze\" on Reddit.  It's such a boomer investment.  I always get negative comments whenever I mentioned it."
          ],
          [
           "Can someone explain why he wants to lower rates? Is it so spur investment in thr US to build factories, because of the tariffs."
          ],
          [
           "*That didn't happen.*\n\n*And if it did, it wasn't that bad.*\n\n*And if it was, that's not a big deal.*\n\n*And if it is, that's not my fault.*\n\n*And if it was, I didn't mean it.*\n\n*And if I did, you deserved it.*\n\nYet idiots voted him in. American's deserve this, the rest of the world does not."
          ],
          [
           "US companies will get damaged this year, I would love a bull run but I think the sentiment will be clear with teslas q1. Walmart caused the downturn, I'm pretty sure if teslas q1 is abysmal it will pull the market down fast. \n\nToo many people are boycotting Americans products."
          ],
          [
           "I don’t think it’s a majority though. His approval rating is underwater, we’ve seen Dem support pickup and overperform in some areas. So, maybe it’s what a November majority wanted. But I don’t think it’s what a current majority wants. Especially as he hasn’t addressed the primary reason he was elected, high inflation."
          ],
          [
           "Breaking news: US announces additional 7,000,000% reciprocal tariff on China"
          ],
          [
           "Pre-market is all over the place. Are we already due for another \"gOOd tiM tO BY SToocKS aGANe\"?"
          ],
          [
           "Yes, Trump and everyone who voted for him are intention-less and the people of Reddit know better than all of them. Crazy to me how a figure could be revered by the mostly left leaning people on this site, but if they switch sides they're all of a sudden dumb and nothing they do makes sense. Stop drinking the kool-aid and look at the actual numbers, not just sensational news headlines."
          ],
          [
           "Cope harder"
          ],
          [
           "Why isn't this like on headlines new? Why isn't every person out there giving that network shit?"
          ],
          [
           "No one is doing this on nationalist lines. \n\nYou think wallstreet is unwinding equities at a loss to support treasuries, but Canadian and Japanese bankers are doing the opposite?\n\nNo; they are all doing the exact same thing, chasing the highest return. It just so happens this involves selling treasuries to protect their balance sheet. \n\nThis has nothing to do with certain actors trying to influence USA decisions, and has all to do with general fear in the market."
          ],
          [
           "Why? Both sides have essentially ended trade with each other. Other than trying to show the world who has the bigger dick….there is no reason."
          ],
          [
           "The only thing I want to squeeze is my hog with my diamond hands"
          ],
          [
           "This week seems to be all about the bond market\n\nEven without the tariffs, is there any trust in the US’ economic management any more?"
          ],
          [
           "No they won't raise tariffs anymore, not that they won't retaliate. Since US goods are effectively embargoed at the current tariff rate."
          ],
          [
           "You’re (rhetorical?) query seems to rest on the assumption they’re valuing small businesses/their base. \n\nSeems no reason to assume they do, whether by intent or ignorance."
          ],
          [
           "Yes it's true. I bought myself silver earings"
          ],
          [
           "I was really let down by Andrew Ross-Sorkin Monday.  Really shabby journalism.  Shotty really.  In fact, shitty.  Looking back, it was actually fucked the way he handled his hearsay interview.\n\nThen began the FUD campaign all week with a Cramer “you won” (sell your GME) cherry on top Friday.  I find the whole media angle very rich, reporting on market manipulation while actively manipulating the market.\n\nCNBC kept telling us to sell because the fundamentals don’t support the valuation, thus trying to stifle the buying and protect hedgies.  I shit you not; in the same episode, Cramer told the audience to both sell GME based on fundamentals, and to buy Snowflake????????????????\n\nUNNNNNGGGGGGGKKKAAAYYYYY!!!\n\nFuck off CNBC\n\nps. Still a fan of Fast Money who had the most even coverage imo. h/t to Melissa Lee and the traders."
          ],
          [
           "To be fair  - Jerome Powell \"inflation is transitory\" ad nauseam is a total jabroni."
          ],
          [
           "30% is incorrect. SPY is down about 15% from ATH, roughly level with its price a year ago."
          ],
          [
           "That's the US plan.  The Fed will quietly print just enough money to buy all the bonds back from China if they sell them.  \n\nAmazon and some smaller importers have already canceled their orders from China. Apple is aggressively moving more iPhone production to India.\n\nThe situation in China is bad.   \n\n\n\nLarger players in China can move goods to a third country to avoid tariffs.  The smaller players are the ones who got shafted.\n\nWinter's coming for both sides of the ocean.  I am holding cash, waiting for AMZN to be in the 150-160 range to buy in."
          ],
          [
           "Crazy how A meme coin is worth more than sliver lololololol (well at least how I value it ;) ) shit is changing"
          ],
          [
           "I reckon it’s a short squeeze today"
          ],
          [
           "one of them comes from the country which wrote the art of war and which has been around for 3,000 years"
          ],
          [
           "well French-German rivalry between 1870 and 1945 seems like a few generations to me"
          ],
          [
           "That’s an 11% drop, even with the delusional still believing he’s a genius!"
          ],
          [
           "Nah he's pretty spot on. Trump supporters are hated globally"
          ],
          [
           "High risk high beta portfolio but it's 50% unity 30% reddit and 20% amazon"
          ],
          [
           "Take note of every publication pushing it. Every investor “tip” site. Every professional online investor on social media. Remember them all and then never trust or use their information again, because they clearly are not on your side."
          ],
          [
           "I'm long. But down 50% on some of them so it's all relative.  But that is because lithium and other precious metal price crashes."
          ],
          [
           "Wow! Why didn't I think of that? Heck, maybe we should all lose our jobs so we spend less on groceries."
          ],
          [
           "USDEUR is 10%+ down last month. That alone has a lot of effect on US equities. Everything combined is already down a ton."
          ],
          [
           "Agreed. I think the pause is basically going to be remembered as a dead cat bounce. Foreign investors are not only pulling their money, but if bonds are rising that means there are fewer buyers than sellers. Now, a 4% bond backed by the US isn't even as safe an investment as a German bond for 3%. If bonds stay up the Fed will have no choice but to raise rates"
          ],
          [
           "This isn’t “counties” doing it. It’s tends of thousands of organizations and individuals is my point. \n\nI’m not arguing there is a flight to safety. I’m arguing that things are as simple as an “Achilles heel” getting unlocked by other governments in a concerted effort."
          ],
          [
           "OK, let me kick this off:\n\nLong (large exposure and long term hold) on Google, AMZN, Avgo, AMD (), MSFT, MU & NVDA. In Europe, Vonovia, Mercedes. In China, BaBa. In India, Reliance.\n\nShort on Meta, CRM, Apple.\n\nSpeculative long (small position, closely watching): RKLB, MARA, Intel, Target, Oracle.\n\nSpeculative short: WMT, JPM.\n\n================================\n\nFor sure, past 6-9 months were a disaster and a rollercoaster. But looking forward, these beaten down gems  should shine, and sharp climbers are more likely to fall."
          ],
          [
           "Worse how?  We have STRONG evidence Trump doesn't want to destroy our economy since he put the 90 day pause. Who cares if it's to save face or if he's playing 4D chess.  It. Doesn't. Matter. \n\nThings are WAY better now that he admitted he bluffed rather than when he was threatening to flip the monopoly board."
          ],
          [
           "Hahahaahahahahahaha."
          ],
          [
           "I decided to simplify my Roth as I've gotten crazy over the last couple of years. Soon to be 31F and would love to FIRE at 50, even if it's some version of Barista or Coast. Any thoughts on something like this? \n\n- 35% FXAIX (S&P 500 - large blend)\n- 25% FSGGX (Int'l excl. US - foreign large blend)\n- 10% FMDGX (midcap growth)\n- 5% FDLXX (treasury only money market)\n- 5% SPAXX (gov't money market)\n- 20% stocks"
          ],
          [
           "Trump inherited millions of dollars and is dumb as a brick. He’s never been business savvy. Unfortunately many morons fell for his sales pitch"
          ],
          [
           "The ship has sailed. Other countries will de-risk and diversify trade and investments away from US."
          ],
          [
           "\"Good afternoon!\""
          ],
          [
           "Trump isn't going after Powell here but this is definitely concerning."
          ],
          [
           "Eli5 please"
          ],
          [
           "You know if the supreme court doesn’t give it to him it won’t be over.  There will be stooges in congress happily writing bills that will."
          ],
          [
           "Where we are currently seems like the Bear Stearns moment. All the warning signs are there and market participants are fully capable of burying their head in the sand until shit really hits the fan. During the GFC, it was a full 6 months until Lehman and everyone sort of ignored all the warnings until then."
          ],
          [
           "|Ticker|Company|Allocation|\n|:-|:-|:-|\n|ACGL|Arch Capital Group|23.25%|\n|3306 (HKG)|JNBY Design|12.75%|\n|CROX|Crocs Inc|11.75%|\n|DR (TSX)|Medical Facilities Corp|10.50%|\n|PBR|Petroleo Brasileiro|10.50%|\n|SGOV|0-3 Month Treasury Bond ETF|9.25%|\n|QFIN|Qifu Technology|9.25%|\n|TAL (TSX)|Petrotal Corp|4.00%|\n|WISE (LON)|Wise PLC|4.00%|\n|OSCR|Oscar Health|2.00%|\n\nMostly US defensives (insurance, health care, bonds), oil, and China (22%). I recently bought into some of these positions at lows (3306, CROX, OSCR). No tech - haven't held any since the META low years ago. 4.34% dividend yield (mostly due to PBR). My more bullish bets are CROX, WISE, and oil. Ready for anything."
          ],
          [
           "I forgot to cancel selling my mutual funds, maybe it was the right call?"
          ],
          [
           "What’s the significance of rising bond yields this week in comparison to when they were higher back in mid-Feb and much higher in mid-Jan?"
          ],
          [
           "I don't think that would do it because he could snap them back any time."
          ],
          [
           "Hi, you're on r/Stocks, please make sure your post is related to stocks or the stockmarket or it will most likely get removed as being off-topic/political; feel free to edit it now and be more specific.\n\n**To everyone commenting:**  Please focus on how this affects the stock market or specific stocks or it will be removed as being off-topic/political.\n\nIf you're interested in just politics, see our wiki on [\"relevant subreddits\"]() and post to those Reddit communities instead without linking back here, thanks!\n\n*I am a bot, and this action was performed automatically. Please [contact the moderators of this subreddit](/message/compose/?to=/r/stocks) if you have any questions or concerns.*"
          ],
          [
           "Too late, I bought Silver and a shit ton of Miners last year."
          ],
          [
           "A prefect time to start divesting into more international funds then."
          ],
          [
           "What’s yours? Since you’re so confident it’s pointless to pick stocks. Does your portfolio back up all the garbage you’ve been spilling?"
          ],
          [
           "/\n\nMasterful gambit, Mr. Bessent"
          ],
          [
           "Vix 7% up even with SPY up\n\nA storms a brewing"
          ],
          [
           "no state and local taxes"
          ],
          [
           "The Hunt brothers gave it a good try....\n\nHonestly as a long term investment though i like it, Gold to silver ratio isn't out of whack and silver has more industrial demand with all the stimulus for renewables. You wont make 50x or anything but good addition to a portfolio and vs gold for your allocation to that."
          ],
          [
           "I continue to be astonished at how supine Americans are in the face of their democracy being destroyed"
          ],
          [
           "Dimon stooping to real lows by selling furniture now"
          ],
          [
           "That cat is dead.\n\n\nGtfo while you can. \n\n\nWorst case, come back in a month or two, you will not be missing a massive % eitherway this goes and you'll be safe(ish)."
          ],
          [
           "The US raises tariffs: “The US is shooting itself in the feet”\n\nChina raises tariffs: “The US won’t be able to survive this”\n\nIt’s interesting how the discussion always focuses on the perceived weakness of the US economy…"
          ],
          [
           "Great! A step closer to dictatorship"
          ],
          [
           "The real question is: Why does he want to fire him?  What does he want to do after he's fired and why can't he do it with Powell working there?"
          ],
          [
           "Tbf, that first Walter Bloomberg rumor was spot on, just happened a few days later"
          ],
          [
           "Even in Greek apps of all places they've been hyping up silver. What is going on lmao"
          ],
          [
           "Silver squeeze is about as credible as Doge squeeze.\n\nHeadline-chasing newb investors are going to get eaten up, really a shame"
          ],
          [
           "That was the most obvious bull trap in history and if you fell for it you're ngmi."
          ],
          [
           "Why not? Given the wise and steady guidance we've seen from the executive branch thus far, and the reassuring check provided by Congressional authority, I'm sure we can all agree that any additional oversight from a ~~disloyal~~ independent Fed or SEC is ~~treasonous~~ superfluous at this point.\n\n\"NOW IS A GREAT TIME TO ~~BUY~~ SELL!!1!!\""
          ],
          [
           "Bull thesis comes down to buying a company with proven accretive organic growth with little acquisitions in it's track record. The company has a deal win rate of over 70% while competing in mission critical WMS industry. The company is also expanding into Omni channel enterprise software which expands their SAM. Biggest risk is the macro over the retail industry. \n\nIf the current environment turns into a recession, the company would still be a little overvalued, as their service revenue would drop further (they handle implementations internally as opposed to a company that outsources systems implementation like Oracle). I put money in the company, but am cautious about keeping my money there as I see attractive opportunities like Adobe or buying more of my favorite companies like ASML, MCO, GOOG, and SPGI at current valuations."
          ],
          [
           "It's a pretty unremarkable product, but you would easily be able to find the exact company if I said what the product is.\n\nAs a distributor I don't want to leak what is basically insider information on them."
          ],
          [
           "No. PERIOD."
          ],
          [
           "This term so far is even less politically stable than the first term lol"
          ],
          [
           "if he leaves trade & economic matters alone for the rest of his mandate & focuses on shower pressure & who can and cannot use toilets, the world economy will heal"
          ],
          [
           "$VXUS to answer your last question"
          ],
          [
           "Yo. This is terrifying."
          ],
          [
           "Interesting.  Asking the most corrupt supreme court in our history to rewrite black letter law.  Hmmm, isn't that power reserved for congress, even one without a spine?"
          ],
          [
           "It hurts the US consumer but it will hurt the Chinese economy as well.\n\nI think this is a price Xi is willing to pay because he was already planning on the trade relationship with the US ending.  He is going to invade Taiwan and that will be the real test of the Chinese position in the global market.  Effectively ending trade with the US makes that invasion more likely."
          ],
          [
           "He wants Xi to call him. So it looks like he has the control. Neither wants to call the other. As its could be seen as weakness in their minds most likely."
          ],
          [
           "I work in finance writing (sort of) and it’s insane to see how much of “integrated marketing” is about scamming people into buying silver. Most of the big online edgy traders you see are snake oil salesmen trying to get you to invest in gold or silver. Really depressing."
          ],
          [
           "Bought into SLV futures & lost 15 cents. It’s a trap!"
          ],
          [
           "Racist"
          ],
          [
           "Moving away from recession into depression"
          ],
          [
           "There’s gotta be someone  in our government with some power to JFK this dude. Honestly, at this point it’s a matter of national security and ensuring America can survive the next 4 years"
          ],
          [
           "That's how you get black market lol \n\nChina will always find a loophole for essential goods, and that's why they're so confident."
          ],
          [
           "powell already said inflations from tariffs is transitory"
          ],
          [
           "Things will get better soon. Once those 9 trans kids stop trying to play high school sports we will have nothing left to fear and the economy will come roaring back. /s"
          ],
          [
           "LVMH (MC)-31.42%\n\nDisney (DIS)-17.03% \n\nApple (AAPL)-15.23%\n\nASML (ASML)- 8.65%\n\nAmazon (AMZN)-7.23%\n\nFord (F)-5.13%\n\nEstee Lauder (EL)-4.98%\n\nComcast (CMCSA)-3.60% \n\nBP (BP)-3.21%\n\nShell (SHEL)-2.02%\n\nWBD (WBD)-1.50%"
          ],
          [
           "There's going to be 4 years of this shit. How is he not impeached and removed already is beyond me. He's clearly insane."
          ],
          [
           "I was also disappointed to see it mentioned in the Morning Brew newsletter, which I was enjoying until now."
          ],
          [
           "Finance media lying \n\n*Surprise*"
          ]
         ],
         "hovertemplate": "subreddit=stocks<br>polarity=%{x}<br>subjectivity=%{y}<br>text=%{customdata[0]}<extra></extra>",
         "legendgroup": "stocks",
         "marker": {
          "color": "#ab63fa",
          "symbol": "circle"
         },
         "mode": "markers",
         "name": "stocks",
         "opacity": 0.5,
         "orientation": "v",
         "showlegend": true,
         "type": "scatter",
         "x": {
          "bdata": "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",
          "dtype": "f8"
         },
         "xaxis": "x",
         "y": {
          "bdata": "UrgehetR2D96L5/38nnfPwAAAAAAAAAAzczMzMzM7D9uoNMGOm3gPwAAAAAAAAAAAAAAAAAA8D8AAAAAAAAAAITgkJbxodc/OmoR8tfs3D8AAAAAAAAAAM3MzMzMzOw/AAAAAAAAAAAAAAAAAADwP1VVVVVVVeU/AAAAAAAAAAAkSZIkSZLgP1VVVVVVVeU/AAAAAAAAAADNzMzMzMzcPwAAAAAAAAAAAAAAAAAAAABERERERETkPwAAAAAAAAAA3d3d3d3d3T+amZmZmZnZP43v3PjOjdc/AAAAAAAA8D+PwvUoXI/iP3I9CtejcN0/jC666KKL3j/atm3btm3bPwAAAAAAAAAAAAAAAAAAAABlYu2RayziPzQzMzMzM+M/w/UoXI/C1T8AAAAAAAAAAGZmZmZmZtw/xld8xVd86T8cx3Ecx3HoP1d8xVd8xdc/mpmZmZmZyT/NzMzMzMzkPwAAAAAAAAAAMzMzMzMz4z+DLdiCLdjiPwAAAAAAAAAA2IIt2IIt5D8AAAAAAADQP83MzMzMzOw/zczMzMzM7D/NzMzMzMzkPwAAAAAAAPA/kl8s+cWS2z+pqqqqqqrYP5iZmZmZmdk/EBERERERwT/NzMzMzMzgP4iIiIiIiNg/mpmZmZmZ2T9H4XoUrkfhPwAAAAAAAOg/ZmZmZmZm1j+amZmZmZnJPwAAAAAAAAAA1EEd1EEd1D8RERERERHpPwAAAAAAAAAAZmZmZmZm1j8AAAAAAAAAAD3P8zzP89o/mpmZmZmZ2T8AAAAAAAAAAAAAAAAAAAAAmpmZmZmZ4T/NzMzMzMzsPwAAAAAAAAAA7u7u7u7u2T8AAAAAAADQPzMzMzMzM9M/MzMzMzMz4z8zMzMzMzPjPxiGYRiGYeA/FK5H4XoU4D8AAAAAAAAAADMzMzMzM9M/seQXS36x1D+GiIiIiIjEPzMzMzMzM9w/MzMzMzMz0z9mZmZmZmbmPwAAAAAAAAAAAAAAAAAAAABfptMVFK/kP0REREREROI/AAAAAAAAAAAAAAAAAADwPwAAAAAAAOg/AAAAAAAAAABmZmZmZmbWPwAAAAAAAOA/AAAAAAAAAAB+seQXS37RP68927M927M/AAAAAAAAAAAAAAAAAAAAAGZmZmZmZt4/bdu2bdu25T8AAAAAAADwPwAAAAAAAAAASJIkSZIk0T9twRZswRbsP5qZmZmZmdk/mpmZmZmZ2T8/6ZM+6ZPeP83MzMzMzOA/AAAAAAAAAAAAAAAAAAAAAGZmZmZmZu4/cT0K16Nw2T+4fMu3fMvfPxEREREREeE/mpmZmZmZuT9mZmZmZmbjP5qZmZmZmdk/kCRJkiRJwj8qXI/C9SjsPwAAAAAAAAAAAAAAAAAA5j8AAAAAAAAAAJqZmZmZmek/AAAAAAAAAAAAAAAAAAAAAAAAAAAAAAAAFV/xFV/xxT8AAAAAAAAAAAAAAAAAAAAAAAAAAAAAAACamZmZmZmpPwAAAAAAAPA/AAAAAAAAAADgm1cTz4rWPwAAAAAAAAAAlpmZmZmZzz8MERERERGxP5qZmZmZmdk/zczMzMzM5D/0PM/zPM/pP3P7gwyVHeY/AAAAAAAAAADNzMzMzMzcP5IkSZIkSeI/MzMzMzMz4z9mZmZmZmbuP0YXXXTRReM/mpmZmZmZqT9VVVVVVVXlPwAAAAAAAOM/AAAAAAAAAAAUbMEWbMHGPwAAAAAAAAAAtEZrtEZr5T8AAAAAAADiPwAAAAAAAPA/AAAAAAAAAAC8u7u7u7vrP+/u7u7u7uo/AAAAAAAA8D+amZmZmZnpP5AkSZIkScI/AAAAAAAA8D9mZmZmZmbiP5qZmZmZmck/AAAAAAAAAABERERERETiP97d3d3d3eM/bxzHcRzHwT/d3d3d3d3NP2ZmZmZmZtw/AAAAAAAA0D9nZmZmZmbiPwAAAAAAAAAAIyIiIiIi4j9mZmZmZmbmPwAAAAAAAAAA2kCnDXTa3D+KoiiKoijiP4XrUbgeheM/AAAAAAAAAAAzMzMzMzPfPz3P8zzP89w/AAAAAAAAAAAT5ClBnhLkP6EO6qAO6tA/mpmZmZmZ2T8AAAAAAAAAAJqZmZmZmck/NDMzMzMz4z9mZmZmZmbmP83MzMzMzOQ/mJmZmZmZ3T9mZmZmZmbqP5qZmZmZmdk/mpmZmZmZ2T97FK5H4XrkPzMzMzMzM9M/AAAAAAAAAAAAAAAAAAAAAAAAAAAAAAAAIiIiIiIi4j9H4XoUrkfhP3Z3d3d3d8c/3d3d3d3d3T8RERERERHhPwwREREREbE/6lG4HoXr1T+ngzqogzrYP79AYWnrC+A/VVVVVVVV3T8AAAAAAAAAAP/yL//yL9s/VVVVVVVV5T8AAAAAAAAAADQzMzMzM+M/AAAAAAAA4D8AAAAAAAAAAAAAAAAAAPA/FK5H4XoU3j+F61G4HoXfP0mSJEmSJOE/VVVVVVVV1T8AAAAAAAAAAPx3aCoyUd0/n/RJn/RJ3z8AAAAAAAAAAB3HcRzHcdw/AAAAAAAA8D8AAAAAAAAAAAAAAAAAAAAAERERERER4T8AAAAAAAAAAMvMzMzMzNw/eHd3d3d33z8AAAAAAADiPwAAAAAAAOg/MzMzMzMz0z9TVVVVVVXFPwAAAAAAAOA/y8zMzMzM3D8AAAAAAADgP3Ecx3Ecx+U/chzHcRzH4T8AAAAAAADkPwAAAAAAAAAAKVyPwvUo3D+amZmZmZm5PwwREREREbE/AAAAAAAA8D/1SZ/0SZ/kP+mgDuqgDto/AAAAAAAA8D/hehSuR+HiPwAAAAAAAMA/AAAAAAAAAAAAAAAAAAAAAM3MzMzMzNw/WfKLJb9Y4j8AAAAAAAAAAKRwPQrXo9A/AAAAAAAAAADNzMzMzMzsP5qZmZmZmeU/AAAAAAAAAAA=",
          "dtype": "f8"
         },
         "yaxis": "y"
        },
        {
         "bingroup": "x",
         "hovertemplate": "subreddit=stocks<br>polarity=%{x}<br>count=%{y}<extra></extra>",
         "legendgroup": "stocks",
         "marker": {
          "color": "#ab63fa"
         },
         "name": "stocks",
         "opacity": 0.5,
         "showlegend": false,
         "type": "histogram",
         "x": {
          "bdata": "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",
          "dtype": "f8"
         },
         "xaxis": "x3",
         "yaxis": "y3"
        },
        {
         "bingroup": "y",
         "hovertemplate": "subreddit=stocks<br>subjectivity=%{y}<br>count=%{x}<extra></extra>",
         "legendgroup": "stocks",
         "marker": {
          "color": "#ab63fa"
         },
         "name": "stocks",
         "opacity": 0.5,
         "showlegend": false,
         "type": "histogram",
         "xaxis": "x2",
         "y": {
          "bdata": "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",
          "dtype": "f8"
         },
         "yaxis": "y2"
        }
       ],
       "layout": {
        "barmode": "stack",
        "height": 600,
        "legend": {
         "title": {
          "text": "Subreddit"
         },
         "tracegroupgap": 0
        },
        "template": {
         "data": {
          "bar": [
           {
            "error_x": {
             "color": "#2a3f5f"
            },
            "error_y": {
             "color": "#2a3f5f"
            },
            "marker": {
             "line": {
              "color": "#E5ECF6",
              "width": 0.5
             },
             "pattern": {
              "fillmode": "overlay",
              "size": 10,
              "solidity": 0.2
             }
            },
            "type": "bar"
           }
          ],
          "barpolar": [
           {
            "marker": {
             "line": {
              "color": "#E5ECF6",
              "width": 0.5
             },
             "pattern": {
              "fillmode": "overlay",
              "size": 10,
              "solidity": 0.2
             }
            },
            "type": "barpolar"
           }
          ],
          "carpet": [
           {
            "aaxis": {
             "endlinecolor": "#2a3f5f",
             "gridcolor": "white",
             "linecolor": "white",
             "minorgridcolor": "white",
             "startlinecolor": "#2a3f5f"
            },
            "baxis": {
             "endlinecolor": "#2a3f5f",
             "gridcolor": "white",
             "linecolor": "white",
             "minorgridcolor": "white",
             "startlinecolor": "#2a3f5f"
            },
            "type": "carpet"
           }
          ],
          "choropleth": [
           {
            "colorbar": {
             "outlinewidth": 0,
             "ticks": ""
            },
            "type": "choropleth"
           }
          ],
          "contour": [
           {
            "colorbar": {
             "outlinewidth": 0,
             "ticks": ""
            },
            "colorscale": [
             [
              0,
              "#0d0887"
             ],
             [
              0.1111111111111111,
              "#46039f"
             ],
             [
              0.2222222222222222,
              "#7201a8"
             ],
             [
              0.3333333333333333,
              "#9c179e"
             ],
             [
              0.4444444444444444,
              "#bd3786"
             ],
             [
              0.5555555555555556,
              "#d8576b"
             ],
             [
              0.6666666666666666,
              "#ed7953"
             ],
             [
              0.7777777777777778,
              "#fb9f3a"
             ],
             [
              0.8888888888888888,
              "#fdca26"
             ],
             [
              1,
              "#f0f921"
             ]
            ],
            "type": "contour"
           }
          ],
          "contourcarpet": [
           {
            "colorbar": {
             "outlinewidth": 0,
             "ticks": ""
            },
            "type": "contourcarpet"
           }
          ],
          "heatmap": [
           {
            "colorbar": {
             "outlinewidth": 0,
             "ticks": ""
            },
            "colorscale": [
             [
              0,
              "#0d0887"
             ],
             [
              0.1111111111111111,
              "#46039f"
             ],
             [
              0.2222222222222222,
              "#7201a8"
             ],
             [
              0.3333333333333333,
              "#9c179e"
             ],
             [
              0.4444444444444444,
              "#bd3786"
             ],
             [
              0.5555555555555556,
              "#d8576b"
             ],
             [
              0.6666666666666666,
              "#ed7953"
             ],
             [
              0.7777777777777778,
              "#fb9f3a"
             ],
             [
              0.8888888888888888,
              "#fdca26"
             ],
             [
              1,
              "#f0f921"
             ]
            ],
            "type": "heatmap"
           }
          ],
          "histogram": [
           {
            "marker": {
             "pattern": {
              "fillmode": "overlay",
              "size": 10,
              "solidity": 0.2
             }
            },
            "type": "histogram"
           }
          ],
          "histogram2d": [
           {
            "colorbar": {
             "outlinewidth": 0,
             "ticks": ""
            },
            "colorscale": [
             [
              0,
              "#0d0887"
             ],
             [
              0.1111111111111111,
              "#46039f"
             ],
             [
              0.2222222222222222,
              "#7201a8"
             ],
             [
              0.3333333333333333,
              "#9c179e"
             ],
             [
              0.4444444444444444,
              "#bd3786"
             ],
             [
              0.5555555555555556,
              "#d8576b"
             ],
             [
              0.6666666666666666,
              "#ed7953"
             ],
             [
              0.7777777777777778,
              "#fb9f3a"
             ],
             [
              0.8888888888888888,
              "#fdca26"
             ],
             [
              1,
              "#f0f921"
             ]
            ],
            "type": "histogram2d"
           }
          ],
          "histogram2dcontour": [
           {
            "colorbar": {
             "outlinewidth": 0,
             "ticks": ""
            },
            "colorscale": [
             [
              0,
              "#0d0887"
             ],
             [
              0.1111111111111111,
              "#46039f"
             ],
             [
              0.2222222222222222,
              "#7201a8"
             ],
             [
              0.3333333333333333,
              "#9c179e"
             ],
             [
              0.4444444444444444,
              "#bd3786"
             ],
             [
              0.5555555555555556,
              "#d8576b"
             ],
             [
              0.6666666666666666,
              "#ed7953"
             ],
             [
              0.7777777777777778,
              "#fb9f3a"
             ],
             [
              0.8888888888888888,
              "#fdca26"
             ],
             [
              1,
              "#f0f921"
             ]
            ],
            "type": "histogram2dcontour"
           }
          ],
          "mesh3d": [
           {
            "colorbar": {
             "outlinewidth": 0,
             "ticks": ""
            },
            "type": "mesh3d"
           }
          ],
          "parcoords": [
           {
            "line": {
             "colorbar": {
              "outlinewidth": 0,
              "ticks": ""
             }
            },
            "type": "parcoords"
           }
          ],
          "pie": [
           {
            "automargin": true,
            "type": "pie"
           }
          ],
          "scatter": [
           {
            "fillpattern": {
             "fillmode": "overlay",
             "size": 10,
             "solidity": 0.2
            },
            "type": "scatter"
           }
          ],
          "scatter3d": [
           {
            "line": {
             "colorbar": {
              "outlinewidth": 0,
              "ticks": ""
             }
            },
            "marker": {
             "colorbar": {
              "outlinewidth": 0,
              "ticks": ""
             }
            },
            "type": "scatter3d"
           }
          ],
          "scattercarpet": [
           {
            "marker": {
             "colorbar": {
              "outlinewidth": 0,
              "ticks": ""
             }
            },
            "type": "scattercarpet"
           }
          ],
          "scattergeo": [
           {
            "marker": {
             "colorbar": {
              "outlinewidth": 0,
              "ticks": ""
             }
            },
            "type": "scattergeo"
           }
          ],
          "scattergl": [
           {
            "marker": {
             "colorbar": {
              "outlinewidth": 0,
              "ticks": ""
             }
            },
            "type": "scattergl"
           }
          ],
          "scattermap": [
           {
            "marker": {
             "colorbar": {
              "outlinewidth": 0,
              "ticks": ""
             }
            },
            "type": "scattermap"
           }
          ],
          "scattermapbox": [
           {
            "marker": {
             "colorbar": {
              "outlinewidth": 0,
              "ticks": ""
             }
            },
            "type": "scattermapbox"
           }
          ],
          "scatterpolar": [
           {
            "marker": {
             "colorbar": {
              "outlinewidth": 0,
              "ticks": ""
             }
            },
            "type": "scatterpolar"
           }
          ],
          "scatterpolargl": [
           {
            "marker": {
             "colorbar": {
              "outlinewidth": 0,
              "ticks": ""
             }
            },
            "type": "scatterpolargl"
           }
          ],
          "scatterternary": [
           {
            "marker": {
             "colorbar": {
              "outlinewidth": 0,
              "ticks": ""
             }
            },
            "type": "scatterternary"
           }
          ],
          "surface": [
           {
            "colorbar": {
             "outlinewidth": 0,
             "ticks": ""
            },
            "colorscale": [
             [
              0,
              "#0d0887"
             ],
             [
              0.1111111111111111,
              "#46039f"
             ],
             [
              0.2222222222222222,
              "#7201a8"
             ],
             [
              0.3333333333333333,
              "#9c179e"
             ],
             [
              0.4444444444444444,
              "#bd3786"
             ],
             [
              0.5555555555555556,
              "#d8576b"
             ],
             [
              0.6666666666666666,
              "#ed7953"
             ],
             [
              0.7777777777777778,
              "#fb9f3a"
             ],
             [
              0.8888888888888888,
              "#fdca26"
             ],
             [
              1,
              "#f0f921"
             ]
            ],
            "type": "surface"
           }
          ],
          "table": [
           {
            "cells": {
             "fill": {
              "color": "#EBF0F8"
             },
             "line": {
              "color": "white"
             }
            },
            "header": {
             "fill": {
              "color": "#C8D4E3"
             },
             "line": {
              "color": "white"
             }
            },
            "type": "table"
           }
          ]
         },
         "layout": {
          "annotationdefaults": {
           "arrowcolor": "#2a3f5f",
           "arrowhead": 0,
           "arrowwidth": 1
          },
          "autotypenumbers": "strict",
          "coloraxis": {
           "colorbar": {
            "outlinewidth": 0,
            "ticks": ""
           }
          },
          "colorscale": {
           "diverging": [
            [
             0,
             "#8e0152"
            ],
            [
             0.1,
             "#c51b7d"
            ],
            [
             0.2,
             "#de77ae"
            ],
            [
             0.3,
             "#f1b6da"
            ],
            [
             0.4,
             "#fde0ef"
            ],
            [
             0.5,
             "#f7f7f7"
            ],
            [
             0.6,
             "#e6f5d0"
            ],
            [
             0.7,
             "#b8e186"
            ],
            [
             0.8,
             "#7fbc41"
            ],
            [
             0.9,
             "#4d9221"
            ],
            [
             1,
             "#276419"
            ]
           ],
           "sequential": [
            [
             0,
             "#0d0887"
            ],
            [
             0.1111111111111111,
             "#46039f"
            ],
            [
             0.2222222222222222,
             "#7201a8"
            ],
            [
             0.3333333333333333,
             "#9c179e"
            ],
            [
             0.4444444444444444,
             "#bd3786"
            ],
            [
             0.5555555555555556,
             "#d8576b"
            ],
            [
             0.6666666666666666,
             "#ed7953"
            ],
            [
             0.7777777777777778,
             "#fb9f3a"
            ],
            [
             0.8888888888888888,
             "#fdca26"
            ],
            [
             1,
             "#f0f921"
            ]
           ],
           "sequentialminus": [
            [
             0,
             "#0d0887"
            ],
            [
             0.1111111111111111,
             "#46039f"
            ],
            [
             0.2222222222222222,
             "#7201a8"
            ],
            [
             0.3333333333333333,
             "#9c179e"
            ],
            [
             0.4444444444444444,
             "#bd3786"
            ],
            [
             0.5555555555555556,
             "#d8576b"
            ],
            [
             0.6666666666666666,
             "#ed7953"
            ],
            [
             0.7777777777777778,
             "#fb9f3a"
            ],
            [
             0.8888888888888888,
             "#fdca26"
            ],
            [
             1,
             "#f0f921"
            ]
           ]
          },
          "colorway": [
           "#636efa",
           "#EF553B",
           "#00cc96",
           "#ab63fa",
           "#FFA15A",
           "#19d3f3",
           "#FF6692",
           "#B6E880",
           "#FF97FF",
           "#FECB52"
          ],
          "font": {
           "color": "#2a3f5f"
          },
          "geo": {
           "bgcolor": "white",
           "lakecolor": "white",
           "landcolor": "#E5ECF6",
           "showlakes": true,
           "showland": true,
           "subunitcolor": "white"
          },
          "hoverlabel": {
           "align": "left"
          },
          "hovermode": "closest",
          "mapbox": {
           "style": "light"
          },
          "paper_bgcolor": "white",
          "plot_bgcolor": "#E5ECF6",
          "polar": {
           "angularaxis": {
            "gridcolor": "white",
            "linecolor": "white",
            "ticks": ""
           },
           "bgcolor": "#E5ECF6",
           "radialaxis": {
            "gridcolor": "white",
            "linecolor": "white",
            "ticks": ""
           }
          },
          "scene": {
           "xaxis": {
            "backgroundcolor": "#E5ECF6",
            "gridcolor": "white",
            "gridwidth": 2,
            "linecolor": "white",
            "showbackground": true,
            "ticks": "",
            "zerolinecolor": "white"
           },
           "yaxis": {
            "backgroundcolor": "#E5ECF6",
            "gridcolor": "white",
            "gridwidth": 2,
            "linecolor": "white",
            "showbackground": true,
            "ticks": "",
            "zerolinecolor": "white"
           },
           "zaxis": {
            "backgroundcolor": "#E5ECF6",
            "gridcolor": "white",
            "gridwidth": 2,
            "linecolor": "white",
            "showbackground": true,
            "ticks": "",
            "zerolinecolor": "white"
           }
          },
          "shapedefaults": {
           "line": {
            "color": "#2a3f5f"
           }
          },
          "ternary": {
           "aaxis": {
            "gridcolor": "white",
            "linecolor": "white",
            "ticks": ""
           },
           "baxis": {
            "gridcolor": "white",
            "linecolor": "white",
            "ticks": ""
           },
           "bgcolor": "#E5ECF6",
           "caxis": {
            "gridcolor": "white",
            "linecolor": "white",
            "ticks": ""
           }
          },
          "title": {
           "x": 0.05
          },
          "xaxis": {
           "automargin": true,
           "gridcolor": "white",
           "linecolor": "white",
           "ticks": "",
           "title": {
            "standoff": 15
           },
           "zerolinecolor": "white",
           "zerolinewidth": 2
          },
          "yaxis": {
           "automargin": true,
           "gridcolor": "white",
           "linecolor": "white",
           "ticks": "",
           "title": {
            "standoff": 15
           },
           "zerolinecolor": "white",
           "zerolinewidth": 2
          }
         }
        },
        "title": {
         "text": "Subjectivity vs. Polarity (Scatter)"
        },
        "width": 800,
        "xaxis": {
         "anchor": "y",
         "domain": [
          0,
          0.7363
         ],
         "title": {
          "text": "Polarity; from Negative to Positive"
         }
        },
        "xaxis2": {
         "anchor": "y2",
         "domain": [
          0.7413,
          1
         ],
         "matches": "x2",
         "showgrid": true,
         "showline": false,
         "showticklabels": false,
         "ticks": ""
        },
        "xaxis3": {
         "anchor": "y3",
         "domain": [
          0,
          0.7363
         ],
         "matches": "x",
         "showgrid": true,
         "showticklabels": false
        },
        "xaxis4": {
         "anchor": "y4",
         "domain": [
          0.7413,
          1
         ],
         "matches": "x2",
         "showgrid": true,
         "showline": false,
         "showticklabels": false,
         "ticks": ""
        },
        "yaxis": {
         "anchor": "x",
         "domain": [
          0,
          0.7326
         ],
         "title": {
          "text": "Subjectivity; from Objective to Subjective"
         }
        },
        "yaxis2": {
         "anchor": "x2",
         "domain": [
          0,
          0.7326
         ],
         "matches": "y",
         "showgrid": true,
         "showticklabels": false
        },
        "yaxis3": {
         "anchor": "x3",
         "domain": [
          0.7426,
          1
         ],
         "matches": "y3",
         "showgrid": true,
         "showline": false,
         "showticklabels": false,
         "ticks": ""
        },
        "yaxis4": {
         "anchor": "x4",
         "domain": [
          0.7426,
          1
         ],
         "matches": "y3",
         "showgrid": true,
         "showline": false,
         "showticklabels": false,
         "ticks": ""
        }
       }
      }
     },
     "metadata": {},
     "output_type": "display_data"
    },
    {
     "data": {
      "application/vnd.plotly.v1+json": {
       "config": {
        "plotlyServerURL": "https://plot.ly"
       },
       "data": [
        {
         "coloraxis": "coloraxis",
         "hovertemplate": "subreddit=wallstreetbets<br>polarity=%{x}<br>subjectivity=%{y}<br>count=%{z}<extra></extra>",
         "name": "",
         "nbinsx": 20,
         "nbinsy": 20,
         "type": "histogram2d",
         "x": {
          "bdata": "zczMzMzM7L9TVVVVVVW1PwAAAAAAANA/i5mZmZmZqT8AAAAAAADwPwAAAAAAAAAA2d3d3d3dzT8AAAAAAADQPzRaozVao8U/AAAAAAAAyD9mZmZmZmbePwAAAAAAANA/AAAAAAAAAAAAAAAAAADwPwAAAAAAAAAAAAAAAAAAAACWmZmZmZnJPwAAAAAAAAAAmpmZmZmZ6b8zMzMzMzPTv5qZmZmZmck/AAAAAAAAAAAAAAAAAADAPwAAAAAAAAAAAAAAAAAAAAAAAAAAAAAAAAAAAAAAAOA/AAAAAAAAAAAAAAAAAADsPwAAAAAAAOC/AAAAAAAAAAAAAAAAAAAAACMiIiIiIsq/kpmZmZmZuT8AAAAAAAAAAJqZmZmZmck/MzMzMzMz4z+QJEmSJEnCP83MzMzMzMw/mpmZmZmZyT+amZmZmZnpP5KZmZmZmbk/mpmZmZmZ1T8AAAAAAAAAAAAAAAAAAAAAAAAAAAAAAAAAAAAAAAAAAEUjAd+8msg/AAAAAAAAAACamZmZmZnZv0REREREROQ/AAAAAAAAAAAAAAAAAAAAAAAAAAAAAAAAeHd3d3d31z8QERERERHBvzMzMzMzM+O/AAAAAAAAAAAAAAAAAAAAADMzMzMzM9M/AAAAAABM7T/NzMzMzMzMP42nBHlKkMc/mpmZmZmZuT8AAAAAAAAAADMzMzMzM+O/mpmZmZmZ0b+PpwR5SpDXP9EnfdInfcK/F4ZhGIZh0D8AAAAAAAAAAP4QEREREZG/ZmZmZmZm5j+amZmZmZnpP/4QEREREZE/AAAAAAAAAAAAAAAAAAAAAGZmZmZmZsY/mpmZmZmZ6b8AAAAAAADgPwAAAAAAAOA/AAAAAAAAAABSuB6F61HYP5aZmZmZmck/zczMzMzM1L8AAAAAAAAAAJqZmZmZmem/MzMzMzMz4z8AAAAAAAAAAJqZmZmZmem/AAAAAAAAAAC5u7u7u7vLPzMzMzMzM+O/AAAAAAAAAAAAAAAAAAAAAGZmZmZmZsY/AAAAAAAAAAAAAAAAAAAAAGZmZmZmZtq/AAAAAAAAAACamZmZmZm5vzMzMzMzM8M/IEmSJEmStL8AAAAAAADwv7Zt27Zt29Y/AAAAAAAAAACGiIiIiIjAPwAAAAAAAAAAAAAAAAAAAAAAAAAAAAAAAAAAAAAAAAAAAAAAAAAAAAAAAAAAAAAAACd90id90ss/AAAAAAAAAAAAAAAAAAAAAAAAAAAAAAAAmpmZmZmZyT8AAAAAAADwPwAAAAAAAOC/pqqqqqqqqr8AAAAAAAAAAAAAAAAAAAAAAAAAAAAAAADNzMzMzMzsv5qZmZmZmZm/MzMzMzMz078AAAAAAAAAAGdmZmZmZua/EjiBEziB078AAAAAAAAAAAAAAAAAAAAAAAAAAAAAAAAAAAAAAAAAAAAAAAAAAAAAH4XrUbge1T+HPumTPumjPwAAAAAAAAAAAAAAAAAA0L8zMzMzMzOzvzMzMzMzM9M/mpmZmZmZ2T+amZmZmZm5PwAAAAAAAAAAZmZmZmZm5j/5//////+/P32ZmZmZmZk/AAAAAAAAAAAAAAAAAAAAAA==",
          "dtype": "f8"
         },
         "xaxis": "x",
         "xbingroup": "x",
         "y": {
          "bdata": "AAAAAAAA8D8UbMEWbMHGPwAAAAAAAOA/ZmZmZmZm5j8zMzMzMzPTPwAAAAAAAAAARURERERE6D9VVVVVVVXVP9VBHdRBHeQ/mpmZmZmZqT+amZmZmZnpPzMzMzMzM9M/AAAAAAAAAAAzMzMzMzPTPwAAAAAAAAAAAAAAAAAAAAAzMzMzMzPTPwAAAAAAAAAAmpmZmZmZ6T+YmZmZmZnZPzMzMzMzM9M/AAAAAAAAAADe3d3d3d3VPwAAAAAAAAAAAAAAAAAAAAAAAAAAAAAAABzHcRzHcew/AAAAAAAAAAA0MzMzMzPjPwAAAAAAAPA/AAAAAAAAAAAAAAAAAAAAAGdmZmZmZug/zczMzMzM4D8AAAAAAAAAAJqZmZmZmck/AAAAAAAA8D/iK77iK77aP83MzMzMzNw/AAAAAAAA4D+amZmZmZnZP5qZmZmZmek/ZmZmZmZm4j/NzMzMzMzcPwAAAAAAAAAAAAAAAAAAAAAAAAAAAAAAAPcHGSo7TN0/AAAAAAAAAAAzMzMzMzPjP0VEREREROQ/AAAAAAAAAAAAAAAAAAAAAAAAAAAAAAAAVVVVVVVV4T8zMzMzMzPTP7VgC7ZgC+Y/AAAAAAAAAACamZmZmZnZP5qZmZmZmbk/AAAAAAAA6D/NzMzMzMzcP0UXXXTRRds/AAAAAAAA8D8AAAAAAAAAAGZmZmZmZu4/zczMzMzM6D9GF1100UXnPxzHcRzHcew/NlqjNVqj1T8AAAAAAAAAALm7u7u7u8s/NDMzMzMz4z8AAAAAAADwP3h3d3d3d9c/AAAAAAAAAAAAAAAAAAAAAM3MzMzMzOQ/mpmZmZmZ6T8AAAAAAADwPwAAAAAAAOA/AAAAAAAAAABI4XoUrkfhP4mIiIiIiOA/NDMzMzMz4z8AAAAAAAAAAJqZmZmZmek/zczMzMzM7D8AAAAAAAAAAJqZmZmZmek/AAAAAAAAAABvPQrXo3DdP2ZmZmZmZuY/AAAAAAAAAAAAAAAAAAAAACIiIiIiIuY/AAAAAAAAAAAAAAAAAADwP83MzMzMzOw/AAAAAAAAAAAzMzMzMzPDP5qZmZmZmak/cymXcimX4D8AAAAAAADwP5IkSZIkSeI/AAAAAAAAAAC7u7u7u7vbPwAAAAAAAAAAAAAAAAAAAAAAAAAAAAAAAAAAAAAAAAAAAAAAAAAAAAAAAAAAAAAAANMnfdInfdI/AAAAAAAAAAAAAAAAAAAAAAAAAAAAAAAAAAAAAAAA4D8AAAAAAADwP83MzMzMzOw/AAAAAAAAAAAAAAAAAAAAAAAAAAAAAAAAAAAAAAAAAAAAAAAAAADwPwAAAAAAAMA/ZmZmZmZm5j8AAAAAAAAAAJmZmZmZmek/mH/5l3/51z8AAAAAAAAAAAAAAAAAAAAAAAAAAAAAAAAAAAAAAAAAAAAAAAAAAAAAMlR2mLrc5j8UbMEWbMHGPwAAAAAAAAAAMzMzMzMzwz8jIiIiIiLSP5qZmZmZmbk/AAAAAAAA4D8zMzMzMzPTPwAAAAAAAAAANDMzMzMz4z/NzMzMzMzgP0NERERERNQ/AAAAAAAAAAAAAAAAAAAAAA==",
          "dtype": "f8"
         },
         "yaxis": "y",
         "ybingroup": "y"
        },
        {
         "coloraxis": "coloraxis",
         "hovertemplate": "subreddit=StockMarket<br>polarity=%{x}<br>subjectivity=%{y}<br>count=%{z}<extra></extra>",
         "name": "",
         "nbinsx": 20,
         "nbinsy": 20,
         "type": "histogram2d",
         "x": {
          "bdata": "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",
          "dtype": "f8"
         },
         "xaxis": "x2",
         "xbingroup": "x",
         "y": {
          "bdata": "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",
          "dtype": "f8"
         },
         "yaxis": "y2",
         "ybingroup": "y"
        },
        {
         "coloraxis": "coloraxis",
         "hovertemplate": "subreddit=stockstobuytoday<br>polarity=%{x}<br>subjectivity=%{y}<br>count=%{z}<extra></extra>",
         "name": "",
         "nbinsx": 20,
         "nbinsy": 20,
         "type": "histogram2d",
         "x": {
          "bdata": "sMkmm2yyyz8AAAAAAAAAAAAAAAAAAAAAAAAAAAAAAAAAAAAAAAAAADrYC1j/nbs/AAAAAAAAAAAAAAAAAAAAAAAAAAAAAAAAAAAAAAAAAAAAAAAAAAAAAHsUrkfherQ/AAAAAAAAAAAWBS+n4OV0PwAAAAAAAAAANtBpA5020D8AAAAAAAAAAAAAAAAAAAAAAAAAAAAAAAAAAAAAAAAAAFVVVVVVVeU/AAAAAAAAAAAAAAAAAAAAAAAAAAAAAAAAAAAAAAAAsD9y0UUXXXTBPwAAAAAAAAAAcAIncAInsD+bmZmZmZnZPwAAAAAAAAAAAAAAAAAAAAAAAAAAAAAAAAAAAAAAALA/AAAAAAAAAAAAAAAAAADwPwAAAAAAAAAA+U17ZqeCwD8AAAAAAAAAAGZmZmZmZtY/AAAAAAAAAAAAAAAAAAAAAAAAAAAAAAAAAAAAAAAA0L+amZmZmZmpvwAAAAAAAAAAAAAAAAAAAADRJ33SJ33CP8nMzMzMzMw/AAAAAAAAAAB0FK5H4Xq0PzMzMzMzM9M/AAAAAAAAAAAAAAAAAAAAAAAAAAAAAAAAAHwYg7g9wz/Z3d3d3d29vwAAAAAAAAAAZmZmZmZmxj8AAAAAAAAAABAREREREdE/AAAAAAAAAAAAAAAAAAAAALgehetRuL4/ubu7u7u7yz8AAAAAAAAAAAAAAAAAAAAAAAAAAAAAAABVVVVVVVXVvwAAAAAAAAAAAAAAAAAAAACGiIiIiIjOPwAAAAAAAAAAAAAAAAAAAAAAAAAAAAAAAJqZmZmZmbm/QPfDxy/vtj8AAAAAAACwP+0VX/EVX7E/VVVVVVVV4b9mZmZmZmbWP0Xgl8vv1cs/AAAAAAAAAABmZmZmZmbWP5qZmZmZmek/AAAAAAAAAADVgi3Ygi3IPwAAAAAAAAAAAAAAAAAAAAAj61x5QLLOvwAAAAAAAAAAWfKLJb9Y0j8AAAAAAAAAAHLRRRdddME/AAAAAAAAAAAAAAAAAAAAAAAAAAAAAAAAhoiIiIiItj8AAAAAAAAAAHLRRRdddME/AAAAAAAAAADrHVMDe8fEPwAAAAAAAAAAAAAAAAAAAAAAAAAAAAAAAGZmZmZmZtY/AAAAAAAA0D8AAAAAAAAAALm7u7u7u8s/AAAAAAAAAAB9mZmZmZmZvwAAAAAAALA/AAAAAAAAAACQJEmSJEmyvxc42LS2gL4/AAAAAAAAAAAAAAAAAAAAAD5FugoSh8e/2I/92I/9yD8AAAAAAAAAAFNVVVVVVcU/AAAAAAAAAACSJEmSJEnSPwAAAAAAAAAAAAAAAAAAAAAAAAAAAAAAAAAAAAAAAAAAAAAAAAAAAAB9mZmZmZmZPwAAAAAAAAAAAAAAAAAAAAAAAAAAAAAAAAAAAAAAAAAADyRJkiRJYj8AAAAAAAAAAAAAAAAAAAAAVVVVVVVV2T8AAAAAAAAAAGZmZmZmZuY/AAAAAAAA0D9lZmZmZmbmvwAAAAAAAAAAAAAAAAAAAAAAAAAAAAAAAAAAAAAAAAAAEGzBFmzBhj8AAAAAAAAAADMzMzMzM+O/AAAAAAAAAAAAAAAAAAAAAAAAAAAAAOC/AAAAAAAAAAAAAAAAAAAAAAAAAAAAAAAAAAAAAAAAAAAAAAAAAAAAAAAAAAAAAAAAAAAAAAAAAACSmZmZmZm5PxaGYRiGYcg/AAAAAAAA0D8AAAAAAAAAAAAAAAAAAAAAAAAAAAAAAAAAAAAAAAAAAAAAAAAAAAAAAAAAAAAAAAAAAAAAAAAAAJqZmZmZmdm/AAAAAAAAAAAzMzMzMzPjPwAAAAAAALA/AAAAAAAAAAAAAAAAAAAAAAAAAAAAAAAA",
          "dtype": "f8"
         },
         "xaxis": "x3",
         "xbingroup": "x",
         "y": {
          "bdata": "tJw/y/mz5D8AAAAAAAAAAAAAAAAAAAAAAAAAAAAAAAAAAAAAAAAAABYoJcNvBts/AAAAAAAAAAAAAAAAAAAAAAAAAAAAAAAAAAAAAAAAAAAAAAAAAAAAABSuR+F6FN4/kpmZmZmZuT8rG46Y9kTWPwAAAAAAAPA/j8L1KFyP4j8AAAAAAAAAAAAAAAAAAAAAAAAAAAAAAAAAAAAAAAAAAHh3d3d3d+c/AAAAAAAAAAAAAAAAAAAAAAAAAAAAAAAAmZmZmZmZ4T8WXXTRRRfdPwAAAAAAAAAAiIiIiIiI0D9FRERERETkPwAAAAAAAAAAAAAAAAAAAAAAAAAAAAAAACMiIiIiItg/mpmZmZmZuT8AAAAAAADwPwAAAAAAAAAAoCYZNP5p5j8AAAAAAAAAAM3MzMzMzOQ/AAAAAAAAAAAAAAAAAAAAAAAAAAAAAAAAmpmZmZmZ2T+amZmZmZnZPwAAAAAAAAAAAAAAAAAAAAAzMzMzMzPTPwAAAAAAAOQ/AAAAAAAAAABI4XoUrkfhP2ZmZmZmZt4/AAAAAAAAAAAAAAAAAAAAAAAAAAAAAAAAw1jNc0/b4D+qqqqqqqrqPwAAAAAAAAAAVVVVVVVV5T8AAAAAAAAAADMzMzMzM9M/AAAAAAAAAAAAAAAAAAAAAAOdNtBpA+E/7+7u7u7u5j8AAAAAAAAAAAAAAAAAAAAAAAAAAAAAAABVVVVVVVXlPwAAAAAAAAAAAAAAAAAAwD8RERERERHgP7Rt27Zt284/AAAAAAAAAACSmZmZmZm5PzMzMzMzM8M/yOJuijxo2j8jIiIiIiLYP5D92I/92Nc/RERERERE5D/e3d3d3d3dPwaj3TnHw98/AAAAAAAA2D8zMzMzMzPTPwAAAAAAAOg/AAAAAAAAAABbsAVbsAXLPwAAAAAAAAAAAAAAAAAAAAAMtmALtmDjPwAAAAAAAAAAuB6F61G43j8AAAAAAAAAABZddNFFF90/AAAAAAAAAAAAAAAAAAAAAAAAAAAAAAAAzMzMzMzM5z8AAAAAAAAAABZddNFFF90/AAAAAAAAAACkibF1z8jSPwAAAAAAAAAAAAAAAAAAAAAAAAAAAAAAAGZmZmZmZtY/AAAAAAAA4D8AAAAAAAAAAHZ3d3d3d98/AAAAAAAAAADNzMzMzMzUPyMiIiIiItg/AAAAAAAAAACQJEmSJEnCP2wU43lk0do/AAAAAAAAAAAAAAAAAAAAALZt27Zt2+Y/GYZhGIZh4D+SmZmZmZm5P+7u7u7u7t4/AAAAAAAAAABJkiRJkiThPwAAAAAAAAAAAAAAAAAAAAAAAAAAAAAAAAAAAAAAAAAAAAAAAAAAAAB4d3d3d3fXPwAAAAAAAAAAAAAAAAAAAAAAAAAAAAAAAAAAAAAAAAAAZ2ZmZmZm4j8AAAAAAAAAAJqZmZmZmbk/zczMzMzM6D8AAAAAAAAAADQzMzMzM+M/mpmZmZmZuT9VVVVVVVXlPwAAAAAAAAAAAAAAAAAAAAAAAAAAAAAAAAAAAAAAAAAAlD7pkz7p4z+amZmZmZm5P2ZmZmZmZuY/AAAAAAAAAAAAAAAAAAAAAM3MzMzMzOQ/kpmZmZmZuT8AAAAAAAAAAAAAAAAAAAAAAAAAAAAAAAAAAAAAAAAAAJqZmZmZmbk/AAAAAAAAAACamZmZmZnhP0D2Yz/2Y98/mpmZmZmZuT8iIiIiIiLSPwAAAAAAAPA/AAAAAAAAAAAAAAAAAAAAAAAAAAAAAAAAmpmZmZmZ2T8AAAAAAAAAAGZmZmZmZuY/AAAAAAAAAAAAAAAAAADwPyMiIiIiItg/AAAAAAAAAAAAAAAAAAAAAAAAAAAAAAAA",
          "dtype": "f8"
         },
         "yaxis": "y3",
         "ybingroup": "y"
        },
        {
         "coloraxis": "coloraxis",
         "hovertemplate": "subreddit=stocks<br>polarity=%{x}<br>subjectivity=%{y}<br>count=%{z}<extra></extra>",
         "name": "",
         "nbinsx": 20,
         "nbinsy": 20,
         "type": "histogram2d",
         "x": {
          "bdata": "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",
          "dtype": "f8"
         },
         "xaxis": "x4",
         "xbingroup": "x",
         "y": {
          "bdata": "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",
          "dtype": "f8"
         },
         "yaxis": "y4",
         "ybingroup": "y"
        }
       ],
       "layout": {
        "annotations": [
         {
          "font": {},
          "showarrow": false,
          "text": "subreddit=wallstreetbets",
          "x": 0.1175,
          "xanchor": "center",
          "xref": "paper",
          "y": 1,
          "yanchor": "bottom",
          "yref": "paper"
         },
         {
          "font": {},
          "showarrow": false,
          "text": "subreddit=StockMarket",
          "x": 0.3725,
          "xanchor": "center",
          "xref": "paper",
          "y": 1,
          "yanchor": "bottom",
          "yref": "paper"
         },
         {
          "font": {},
          "showarrow": false,
          "text": "subreddit=stockstobuytoday",
          "x": 0.6275,
          "xanchor": "center",
          "xref": "paper",
          "y": 1,
          "yanchor": "bottom",
          "yref": "paper"
         },
         {
          "font": {},
          "showarrow": false,
          "text": "subreddit=stocks",
          "x": 0.8824999999999998,
          "xanchor": "center",
          "xref": "paper",
          "y": 1,
          "yanchor": "bottom",
          "yref": "paper"
         }
        ],
        "coloraxis": {
         "colorbar": {
          "title": {
           "text": "count"
          }
         },
         "colorscale": [
          [
           0,
           "#0d0887"
          ],
          [
           0.1111111111111111,
           "#46039f"
          ],
          [
           0.2222222222222222,
           "#7201a8"
          ],
          [
           0.3333333333333333,
           "#9c179e"
          ],
          [
           0.4444444444444444,
           "#bd3786"
          ],
          [
           0.5555555555555556,
           "#d8576b"
          ],
          [
           0.6666666666666666,
           "#ed7953"
          ],
          [
           0.7777777777777778,
           "#fb9f3a"
          ],
          [
           0.8888888888888888,
           "#fdca26"
          ],
          [
           1,
           "#f0f921"
          ]
         ]
        },
        "height": 350,
        "legend": {
         "tracegroupgap": 0
        },
        "template": {
         "data": {
          "bar": [
           {
            "error_x": {
             "color": "#2a3f5f"
            },
            "error_y": {
             "color": "#2a3f5f"
            },
            "marker": {
             "line": {
              "color": "#E5ECF6",
              "width": 0.5
             },
             "pattern": {
              "fillmode": "overlay",
              "size": 10,
              "solidity": 0.2
             }
            },
            "type": "bar"
           }
          ],
          "barpolar": [
           {
            "marker": {
             "line": {
              "color": "#E5ECF6",
              "width": 0.5
             },
             "pattern": {
              "fillmode": "overlay",
              "size": 10,
              "solidity": 0.2
             }
            },
            "type": "barpolar"
           }
          ],
          "carpet": [
           {
            "aaxis": {
             "endlinecolor": "#2a3f5f",
             "gridcolor": "white",
             "linecolor": "white",
             "minorgridcolor": "white",
             "startlinecolor": "#2a3f5f"
            },
            "baxis": {
             "endlinecolor": "#2a3f5f",
             "gridcolor": "white",
             "linecolor": "white",
             "minorgridcolor": "white",
             "startlinecolor": "#2a3f5f"
            },
            "type": "carpet"
           }
          ],
          "choropleth": [
           {
            "colorbar": {
             "outlinewidth": 0,
             "ticks": ""
            },
            "type": "choropleth"
           }
          ],
          "contour": [
           {
            "colorbar": {
             "outlinewidth": 0,
             "ticks": ""
            },
            "colorscale": [
             [
              0,
              "#0d0887"
             ],
             [
              0.1111111111111111,
              "#46039f"
             ],
             [
              0.2222222222222222,
              "#7201a8"
             ],
             [
              0.3333333333333333,
              "#9c179e"
             ],
             [
              0.4444444444444444,
              "#bd3786"
             ],
             [
              0.5555555555555556,
              "#d8576b"
             ],
             [
              0.6666666666666666,
              "#ed7953"
             ],
             [
              0.7777777777777778,
              "#fb9f3a"
             ],
             [
              0.8888888888888888,
              "#fdca26"
             ],
             [
              1,
              "#f0f921"
             ]
            ],
            "type": "contour"
           }
          ],
          "contourcarpet": [
           {
            "colorbar": {
             "outlinewidth": 0,
             "ticks": ""
            },
            "type": "contourcarpet"
           }
          ],
          "heatmap": [
           {
            "colorbar": {
             "outlinewidth": 0,
             "ticks": ""
            },
            "colorscale": [
             [
              0,
              "#0d0887"
             ],
             [
              0.1111111111111111,
              "#46039f"
             ],
             [
              0.2222222222222222,
              "#7201a8"
             ],
             [
              0.3333333333333333,
              "#9c179e"
             ],
             [
              0.4444444444444444,
              "#bd3786"
             ],
             [
              0.5555555555555556,
              "#d8576b"
             ],
             [
              0.6666666666666666,
              "#ed7953"
             ],
             [
              0.7777777777777778,
              "#fb9f3a"
             ],
             [
              0.8888888888888888,
              "#fdca26"
             ],
             [
              1,
              "#f0f921"
             ]
            ],
            "type": "heatmap"
           }
          ],
          "histogram": [
           {
            "marker": {
             "pattern": {
              "fillmode": "overlay",
              "size": 10,
              "solidity": 0.2
             }
            },
            "type": "histogram"
           }
          ],
          "histogram2d": [
           {
            "colorbar": {
             "outlinewidth": 0,
             "ticks": ""
            },
            "colorscale": [
             [
              0,
              "#0d0887"
             ],
             [
              0.1111111111111111,
              "#46039f"
             ],
             [
              0.2222222222222222,
              "#7201a8"
             ],
             [
              0.3333333333333333,
              "#9c179e"
             ],
             [
              0.4444444444444444,
              "#bd3786"
             ],
             [
              0.5555555555555556,
              "#d8576b"
             ],
             [
              0.6666666666666666,
              "#ed7953"
             ],
             [
              0.7777777777777778,
              "#fb9f3a"
             ],
             [
              0.8888888888888888,
              "#fdca26"
             ],
             [
              1,
              "#f0f921"
             ]
            ],
            "type": "histogram2d"
           }
          ],
          "histogram2dcontour": [
           {
            "colorbar": {
             "outlinewidth": 0,
             "ticks": ""
            },
            "colorscale": [
             [
              0,
              "#0d0887"
             ],
             [
              0.1111111111111111,
              "#46039f"
             ],
             [
              0.2222222222222222,
              "#7201a8"
             ],
             [
              0.3333333333333333,
              "#9c179e"
             ],
             [
              0.4444444444444444,
              "#bd3786"
             ],
             [
              0.5555555555555556,
              "#d8576b"
             ],
             [
              0.6666666666666666,
              "#ed7953"
             ],
             [
              0.7777777777777778,
              "#fb9f3a"
             ],
             [
              0.8888888888888888,
              "#fdca26"
             ],
             [
              1,
              "#f0f921"
             ]
            ],
            "type": "histogram2dcontour"
           }
          ],
          "mesh3d": [
           {
            "colorbar": {
             "outlinewidth": 0,
             "ticks": ""
            },
            "type": "mesh3d"
           }
          ],
          "parcoords": [
           {
            "line": {
             "colorbar": {
              "outlinewidth": 0,
              "ticks": ""
             }
            },
            "type": "parcoords"
           }
          ],
          "pie": [
           {
            "automargin": true,
            "type": "pie"
           }
          ],
          "scatter": [
           {
            "fillpattern": {
             "fillmode": "overlay",
             "size": 10,
             "solidity": 0.2
            },
            "type": "scatter"
           }
          ],
          "scatter3d": [
           {
            "line": {
             "colorbar": {
              "outlinewidth": 0,
              "ticks": ""
             }
            },
            "marker": {
             "colorbar": {
              "outlinewidth": 0,
              "ticks": ""
             }
            },
            "type": "scatter3d"
           }
          ],
          "scattercarpet": [
           {
            "marker": {
             "colorbar": {
              "outlinewidth": 0,
              "ticks": ""
             }
            },
            "type": "scattercarpet"
           }
          ],
          "scattergeo": [
           {
            "marker": {
             "colorbar": {
              "outlinewidth": 0,
              "ticks": ""
             }
            },
            "type": "scattergeo"
           }
          ],
          "scattergl": [
           {
            "marker": {
             "colorbar": {
              "outlinewidth": 0,
              "ticks": ""
             }
            },
            "type": "scattergl"
           }
          ],
          "scattermap": [
           {
            "marker": {
             "colorbar": {
              "outlinewidth": 0,
              "ticks": ""
             }
            },
            "type": "scattermap"
           }
          ],
          "scattermapbox": [
           {
            "marker": {
             "colorbar": {
              "outlinewidth": 0,
              "ticks": ""
             }
            },
            "type": "scattermapbox"
           }
          ],
          "scatterpolar": [
           {
            "marker": {
             "colorbar": {
              "outlinewidth": 0,
              "ticks": ""
             }
            },
            "type": "scatterpolar"
           }
          ],
          "scatterpolargl": [
           {
            "marker": {
             "colorbar": {
              "outlinewidth": 0,
              "ticks": ""
             }
            },
            "type": "scatterpolargl"
           }
          ],
          "scatterternary": [
           {
            "marker": {
             "colorbar": {
              "outlinewidth": 0,
              "ticks": ""
             }
            },
            "type": "scatterternary"
           }
          ],
          "surface": [
           {
            "colorbar": {
             "outlinewidth": 0,
             "ticks": ""
            },
            "colorscale": [
             [
              0,
              "#0d0887"
             ],
             [
              0.1111111111111111,
              "#46039f"
             ],
             [
              0.2222222222222222,
              "#7201a8"
             ],
             [
              0.3333333333333333,
              "#9c179e"
             ],
             [
              0.4444444444444444,
              "#bd3786"
             ],
             [
              0.5555555555555556,
              "#d8576b"
             ],
             [
              0.6666666666666666,
              "#ed7953"
             ],
             [
              0.7777777777777778,
              "#fb9f3a"
             ],
             [
              0.8888888888888888,
              "#fdca26"
             ],
             [
              1,
              "#f0f921"
             ]
            ],
            "type": "surface"
           }
          ],
          "table": [
           {
            "cells": {
             "fill": {
              "color": "#EBF0F8"
             },
             "line": {
              "color": "white"
             }
            },
            "header": {
             "fill": {
              "color": "#C8D4E3"
             },
             "line": {
              "color": "white"
             }
            },
            "type": "table"
           }
          ]
         },
         "layout": {
          "annotationdefaults": {
           "arrowcolor": "#2a3f5f",
           "arrowhead": 0,
           "arrowwidth": 1
          },
          "autotypenumbers": "strict",
          "coloraxis": {
           "colorbar": {
            "outlinewidth": 0,
            "ticks": ""
           }
          },
          "colorscale": {
           "diverging": [
            [
             0,
             "#8e0152"
            ],
            [
             0.1,
             "#c51b7d"
            ],
            [
             0.2,
             "#de77ae"
            ],
            [
             0.3,
             "#f1b6da"
            ],
            [
             0.4,
             "#fde0ef"
            ],
            [
             0.5,
             "#f7f7f7"
            ],
            [
             0.6,
             "#e6f5d0"
            ],
            [
             0.7,
             "#b8e186"
            ],
            [
             0.8,
             "#7fbc41"
            ],
            [
             0.9,
             "#4d9221"
            ],
            [
             1,
             "#276419"
            ]
           ],
           "sequential": [
            [
             0,
             "#0d0887"
            ],
            [
             0.1111111111111111,
             "#46039f"
            ],
            [
             0.2222222222222222,
             "#7201a8"
            ],
            [
             0.3333333333333333,
             "#9c179e"
            ],
            [
             0.4444444444444444,
             "#bd3786"
            ],
            [
             0.5555555555555556,
             "#d8576b"
            ],
            [
             0.6666666666666666,
             "#ed7953"
            ],
            [
             0.7777777777777778,
             "#fb9f3a"
            ],
            [
             0.8888888888888888,
             "#fdca26"
            ],
            [
             1,
             "#f0f921"
            ]
           ],
           "sequentialminus": [
            [
             0,
             "#0d0887"
            ],
            [
             0.1111111111111111,
             "#46039f"
            ],
            [
             0.2222222222222222,
             "#7201a8"
            ],
            [
             0.3333333333333333,
             "#9c179e"
            ],
            [
             0.4444444444444444,
             "#bd3786"
            ],
            [
             0.5555555555555556,
             "#d8576b"
            ],
            [
             0.6666666666666666,
             "#ed7953"
            ],
            [
             0.7777777777777778,
             "#fb9f3a"
            ],
            [
             0.8888888888888888,
             "#fdca26"
            ],
            [
             1,
             "#f0f921"
            ]
           ]
          },
          "colorway": [
           "#636efa",
           "#EF553B",
           "#00cc96",
           "#ab63fa",
           "#FFA15A",
           "#19d3f3",
           "#FF6692",
           "#B6E880",
           "#FF97FF",
           "#FECB52"
          ],
          "font": {
           "color": "#2a3f5f"
          },
          "geo": {
           "bgcolor": "white",
           "lakecolor": "white",
           "landcolor": "#E5ECF6",
           "showlakes": true,
           "showland": true,
           "subunitcolor": "white"
          },
          "hoverlabel": {
           "align": "left"
          },
          "hovermode": "closest",
          "mapbox": {
           "style": "light"
          },
          "paper_bgcolor": "white",
          "plot_bgcolor": "#E5ECF6",
          "polar": {
           "angularaxis": {
            "gridcolor": "white",
            "linecolor": "white",
            "ticks": ""
           },
           "bgcolor": "#E5ECF6",
           "radialaxis": {
            "gridcolor": "white",
            "linecolor": "white",
            "ticks": ""
           }
          },
          "scene": {
           "xaxis": {
            "backgroundcolor": "#E5ECF6",
            "gridcolor": "white",
            "gridwidth": 2,
            "linecolor": "white",
            "showbackground": true,
            "ticks": "",
            "zerolinecolor": "white"
           },
           "yaxis": {
            "backgroundcolor": "#E5ECF6",
            "gridcolor": "white",
            "gridwidth": 2,
            "linecolor": "white",
            "showbackground": true,
            "ticks": "",
            "zerolinecolor": "white"
           },
           "zaxis": {
            "backgroundcolor": "#E5ECF6",
            "gridcolor": "white",
            "gridwidth": 2,
            "linecolor": "white",
            "showbackground": true,
            "ticks": "",
            "zerolinecolor": "white"
           }
          },
          "shapedefaults": {
           "line": {
            "color": "#2a3f5f"
           }
          },
          "ternary": {
           "aaxis": {
            "gridcolor": "white",
            "linecolor": "white",
            "ticks": ""
           },
           "baxis": {
            "gridcolor": "white",
            "linecolor": "white",
            "ticks": ""
           },
           "bgcolor": "#E5ECF6",
           "caxis": {
            "gridcolor": "white",
            "linecolor": "white",
            "ticks": ""
           }
          },
          "title": {
           "x": 0.05
          },
          "xaxis": {
           "automargin": true,
           "gridcolor": "white",
           "linecolor": "white",
           "ticks": "",
           "title": {
            "standoff": 15
           },
           "zerolinecolor": "white",
           "zerolinewidth": 2
          },
          "yaxis": {
           "automargin": true,
           "gridcolor": "white",
           "linecolor": "white",
           "ticks": "",
           "title": {
            "standoff": 15
           },
           "zerolinecolor": "white",
           "zerolinewidth": 2
          }
         }
        },
        "title": {
         "text": "Subjectivity vs. Polarity (Heatmap)"
        },
        "width": 800,
        "xaxis": {
         "anchor": "y",
         "domain": [
          0,
          0.235
         ],
         "title": {
          "text": "polarity"
         }
        },
        "xaxis2": {
         "anchor": "y2",
         "domain": [
          0.255,
          0.49
         ],
         "matches": "x",
         "title": {
          "text": "polarity"
         }
        },
        "xaxis3": {
         "anchor": "y3",
         "domain": [
          0.51,
          0.745
         ],
         "matches": "x",
         "title": {
          "text": "polarity"
         }
        },
        "xaxis4": {
         "anchor": "y4",
         "domain": [
          0.7649999999999999,
          0.9999999999999999
         ],
         "matches": "x",
         "title": {
          "text": "polarity"
         }
        },
        "yaxis": {
         "anchor": "x",
         "domain": [
          0,
          1
         ],
         "title": {
          "text": "subjectivity"
         }
        },
        "yaxis2": {
         "anchor": "x2",
         "domain": [
          0,
          1
         ],
         "matches": "y",
         "showticklabels": false
        },
        "yaxis3": {
         "anchor": "x3",
         "domain": [
          0,
          1
         ],
         "matches": "y",
         "showticklabels": false
        },
        "yaxis4": {
         "anchor": "x4",
         "domain": [
          0,
          1
         ],
         "matches": "y",
         "showticklabels": false
        }
       }
      }
     },
     "metadata": {},
     "output_type": "display_data"
    }
   ],
   "source": [
    "### Begin Assignment Here\n",
    "import pandas as pd\n",
    "import numpy as np\n",
    "import helpers.data_mining_helpers as dmh\n",
    "\n",
    "# load dataset\n",
    "reddit_data = pd.read_csv(\"Reddit-stock-sentiment.csv\")\n",
    "X = reddit_data\n",
    "# X.head()\n",
    "\n",
    "\n",
    "print(\"\\nEXERCISE_1 print first 3\\n\")\n",
    "for i in range(3):\n",
    "    print(f\"example {i + 1}\")\n",
    "    print(X[\"text\"][i])\n",
    "\n",
    "\n",
    "print(\"\\nEXERCISE_2 query experiments\\n\")\n",
    "print(X.at[334, \"title\"])\n",
    "\n",
    "\n",
    "print(\n",
    "    \"\\nEXERCISE_3 advanced selection (r/wallstreetbets only, every 10th row, only first 3, only text) \\n\"\n",
    ")\n",
    "print(X[X[\"subreddit\"] == \"wallstreetbets\"][::10][0:3][\"text\"])\n",
    "\n",
    "\n",
    "print(\"\\nEXERCISE_4 missing value count per record \\n\")\n",
    "print(X.isnull().apply(lambda x: dmh.check_missing_values(x), axis=1))\n",
    "\n",
    "\n",
    "print(\"\\nEXERCISE_5 is litereally the same as the one in the Master. SKIP!!!!! \\n\")\n",
    "\n",
    "\n",
    "print(\"\\nEXERCISE_6 sampling \\n\")\n",
    "X_sample = X.sample(n=len(X) // 4)  # 1000 > len(X) so can't use that\n",
    "print(\"len:\", len(X_sample))\n",
    "print(\n",
    "    X_sample[0:4][\"text\"]\n",
    ")  # print text to waste less space, it's not like the full data matters here\n",
    "print(\n",
    "    \"Same observations as the exercise in the Master: The size of X_sample is smaller, and the order is randomized. And the sample is a different subset each time X.sample is called. \\n\"\n",
    ")\n",
    "\n",
    "\n",
    "print(\"\\nEXERCISE_7 plot subreddit distribution with dynamic ylim \\n\")\n",
    "print(\n",
    "    \"subreddit feels similar enough to mirror the category col of the dataset in the Master \\n\"\n",
    ")\n",
    "X_sample.subreddit.value_counts().plot(\n",
    "    kind=\"bar\",\n",
    "    title=\"Subreddit distribution\",\n",
    "    ylim=[0, X_sample.subreddit.value_counts().max() + 30],\n",
    "    rot=0,\n",
    "    fontsize=12,\n",
    "    figsize=(8, 3),\n",
    ")\n",
    "\n",
    "\n",
    "print(\"\\nEXERCISE_8 plot X and X_sample bars side-by-side \\n\")\n",
    "pd.DataFrame(\n",
    "    {\n",
    "        \"X\": X.subreddit.value_counts(),\n",
    "        \"X_sample\": X_sample.subreddit.value_counts().reindex(\n",
    "            X.subreddit.value_counts().index\n",
    "        ),\n",
    "    }\n",
    ").plot(\n",
    "    kind=\"bar\",\n",
    "    title=\"Subreddit Distribution Comparison (X vs X_sample)\",\n",
    "    ylabel=\"Count\",\n",
    "    rot=0,\n",
    "    fontsize=12,\n",
    "    figsize=(8, 5),\n",
    ")\n",
    "\n",
    "\n",
    "print(\"\\nEXERCISE_9 analyze the text of the first record of X \\n\")\n",
    "import nltk\n",
    "from sklearn.feature_extraction.text import CountVectorizer\n",
    "\n",
    "nltk.download(\"punkt\")\n",
    "nltk.download(\"punkt_tab\")\n",
    "count_vect = CountVectorizer()\n",
    "analyze = count_vect.build_analyzer()\n",
    "print(analyze(X.text[0]))\n",
    "\n",
    "\n",
    "print(\n",
    "    \"\\nEXERCISE_10 check the term corresponding to the non-zero part in the [0:5, 0:100] region of the term-document metric \\n\"\n",
    ")\n",
    "X_counts = count_vect.fit_transform(X.text)\n",
    "print(\"[0:5, 0:100] region: \", X_counts[0:5, 0:100].toarray())\n",
    "print(\"non-zero at:\", X_counts[3, 0:100].nonzero()[1][0])\n",
    "print(\n",
    "    \"which is the term:\",\n",
    "    count_vect.get_feature_names_out()[X_counts[3, 0:100].nonzero()[1][0]],\n",
    ")\n",
    "\n",
    "\n",
    "print(\n",
    "    \"\\nEXERCISE_11 plot term-document metric efficiently (basically the same code as the Master) \\n\"\n",
    ")\n",
    "import seaborn as sns\n",
    "import matplotlib.pyplot as plt\n",
    "\n",
    "%matplotlib inline\n",
    "# increase density by showing top 44 frequent terms in 44 random reddit posts/comments\n",
    "# total frequency of each term\n",
    "term_frequencies = np.asarray(X_counts.sum(axis=0)).ravel()\n",
    "# indices of the 44 most frequent ones\n",
    "top_term_indices = term_frequencies.argsort()[-44:]\n",
    "doc_count = X_counts.shape[0]\n",
    "# randomly select 44 document indices\n",
    "sample_doc_indices = np.random.choice(doc_count, 44, replace=False)\n",
    "# efficient to slices sparse matrix before converting to dense array\n",
    "z_sampled = X_counts[sample_doc_indices, :][:, top_term_indices].toarray()\n",
    "# x = terms\n",
    "x_sampled = count_vect.get_feature_names_out()[top_term_indices]\n",
    "# y = doc indices\n",
    "y_sampled = [\"doc\" + str(i) for i in sample_doc_indices]\n",
    "plt.subplots(figsize=(15, 12))\n",
    "ax = sns.heatmap(\n",
    "    pd.DataFrame(z_sampled, columns=x_sampled, index=y_sampled), cmap=\"PuRd\"\n",
    ")\n",
    "plt.title(\"Top 44 in 44 Random Reddit Posts/comments\")\n",
    "plt.show()\n",
    "\n",
    "\n",
    "print(\n",
    "    \"\\nEXERCISE_12 plot aggregated term frequencies using plotly (basically the same code as the Master) \\n\"\n",
    ")\n",
    "import plotly.express as px\n",
    "\n",
    "term_frequencies = np.asarray(X_counts.sum(axis=0))[0]\n",
    "# interactive chart using Plotly Express.\n",
    "# hover over bars to see exact term and frequencies. use the tool bar to zoom and pan as you want.\n",
    "term_count = 250\n",
    "terms_to_plot = count_vect.get_feature_names_out()[:term_count]\n",
    "frequencies_to_plot = term_frequencies[:term_count]\n",
    "df_for_plotly = pd.DataFrame({\"Term\": terms_to_plot, \"Frequency\": frequencies_to_plot})\n",
    "px.bar(\n",
    "    df_for_plotly,\n",
    "    x=\"Term\",\n",
    "    y=\"Frequency\",\n",
    "    title=\"Interactive Frequency of First 250 Terms\",\n",
    ").show()\n",
    "\n",
    "\n",
    "print(\n",
    "    \"\\nEXERCISE_13 plot aggregated term frequencies more efficiently (basically the same code as the Master) \\n\"\n",
    ")\n",
    "num_top_terms = 44\n",
    "# argsort to find the indices of the top N terms\n",
    "# take the last num_top_terms to get the most frequent ones\n",
    "# invert so I can plot the top terms from the left to the right\n",
    "top_indices = term_frequencies.argsort()[-num_top_terms:]\n",
    "# it's strange that the exercise expects the top_indices to be in numerical order by default here, unlike the next exercise where no sorting is required.\n",
    "top_indices.sort()\n",
    "# names of the top terms by indices\n",
    "top_terms = count_vect.get_feature_names_out()[top_indices]\n",
    "# frequencies of the top terms\n",
    "top_frequencies = term_frequencies[top_indices]\n",
    "# bar plot\n",
    "plt.subplots(figsize=(20, 10))\n",
    "g = sns.barplot(x=top_terms, y=top_frequencies)\n",
    "g.set_xticklabels(top_terms, rotation=90)\n",
    "plt.title(f\"Frequency of Top {num_top_terms} Terms\")\n",
    "plt.xlabel(\"Terms\")\n",
    "plt.ylabel(\"Frequency\")\n",
    "plt.show()\n",
    "\n",
    "\n",
    "print(\n",
    "    \"\\nEXERCISE_14 plot aggregated term frequencies efficiently in alphabetical order (basically the same code as the Master) \\n\"\n",
    ")\n",
    "num_top_terms = 44\n",
    "\n",
    "# argsort to find the indices of the top N terms\n",
    "# take the last num_top_terms to get the most frequent ones\n",
    "# invert so I can plot the top terms from the left to the right\n",
    "# it's strange that the exercise expects the top_indices not to already be in frequency order after finding the most frequent terms.\n",
    "top_indices = term_frequencies.argsort()[-num_top_terms:][::-1]\n",
    "\n",
    "# names of the top terms by indices\n",
    "top_terms = count_vect.get_feature_names_out()[top_indices]\n",
    "\n",
    "# frequencies of the top terms\n",
    "top_frequencies = term_frequencies[top_indices]\n",
    "\n",
    "# bar plot\n",
    "plt.subplots(figsize=(20, 10))\n",
    "g = sns.barplot(x=top_terms, y=top_frequencies)\n",
    "g.set_xticklabels(top_terms, rotation=90)\n",
    "plt.title(f\"Top {num_top_terms} Frequencies\")\n",
    "plt.xlabel(\"Terms\")\n",
    "plt.ylabel(\"Frequency\")\n",
    "plt.show()\n",
    "\n",
    "\n",
    "print(\n",
    "    \"\\nEXERCISE_15 plot aggregated term frequencies in log scale efficiently in alphabetical order (basically the same code and observations as the Master) \\n\"\n",
    ")\n",
    "import math\n",
    "\n",
    "term_frequencies_log = [math.log(i) for i in term_frequencies]\n",
    "num_top_terms = 44\n",
    "top_indices = term_frequencies.argsort()[-num_top_terms:][::-1]\n",
    "top_terms = count_vect.get_feature_names_out()[top_indices]\n",
    "\n",
    "# select log frequencies this time\n",
    "top_log_frequencies = np.array(term_frequencies_log)[top_indices]\n",
    "\n",
    "# bar plot\n",
    "plt.subplots(figsize=(20, 10))\n",
    "g = sns.barplot(x=top_terms, y=top_log_frequencies)\n",
    "g.set_xticklabels(top_terms, rotation=90)\n",
    "plt.title(f\"Top {num_top_terms} Log Frequencies\")\n",
    "plt.xlabel(\"Terms\")\n",
    "plt.ylabel(\"Log Frequency\")\n",
    "plt.show()\n",
    "\n",
    "print(\"\"\"\n",
    "differences: Log transformation reduces the visual dominance of the most frequent terms greatly. The drop-off is softened, making the relative frequencies between terms easier to compare. Differences in frequency among the less common words are now more visible, whereas on the linear scale they were indistinguishably small.\n",
    "\n",
    "insight: This is useful for visualizing data that spans several orders of magnitude, like this word counts. I suppose it is easier to see if the data follows an expected power-related distribution this way, especially at the tail.\n",
    "\"\"\")\n",
    "\n",
    "\n",
    "print(\"\\nPHASE 1, PART 3 subjectivity vs. polarity scatter plot, by subreddit \\n\")\n",
    "print(\"\"\"\n",
    "Using two plots to display the relationship between subjectivity and polarity of the posts/comments.\n",
    "\n",
    "Subjectivity is from 0 (objective) to 1 (subjective)\n",
    "Polarity is from -1 (negative) to 1 (positive)\n",
    "And I can try to compare different subreddits.\n",
    "\n",
    "The plots are interactive, you can hover on a dot to see the text, the subjectivity and the polarity values.\n",
    "\n",
    "The first plot is a scatter plot, every post/comment is represneted as a dot.\n",
    "It uses different colors for each subreddit to compare their differences.\n",
    "I also added histograms on the side to show the distributions.\n",
    "\n",
    "The second one is a density heatmap, to clearly show the value distribution.\n",
    "One for each subreddit so they can be compared easily.\n",
    "\"\"\")\n",
    "\n",
    "# scatter plot\n",
    "px.scatter(\n",
    "    X,\n",
    "    x=\"polarity\",\n",
    "    y=\"subjectivity\",\n",
    "    color=\"subreddit\",  # color the dots by subreddit\n",
    "    title=\"Subjectivity vs. Polarity (Scatter)\",\n",
    "    hover_data=[\"text\"],  # hover to see the title\n",
    "    marginal_x=\"histogram\",  # adds a histogram on top\n",
    "    marginal_y=\"histogram\",  # and one on the right\n",
    "    width=800,\n",
    "    height=600,\n",
    ").update_layout(\n",
    "    legend_title_text=\"Subreddit\",\n",
    "    xaxis_title=\"Polarity; from Negative to Positive\",\n",
    "    yaxis_title=\"Subjectivity; from Objective to Subjective\",\n",
    "    barmode=\"stack\",  # stack the bars in the histogram instead of having them overlapped\n",
    ").update_traces(\n",
    "    opacity=0.5\n",
    ").show()  # make the dots a bit transparent to see where they overlap\n",
    "\n",
    "# density heatmap\n",
    "px.density_heatmap(\n",
    "    X,\n",
    "    x=\"polarity\",\n",
    "    y=\"subjectivity\",\n",
    "    facet_col=\"subreddit\",  # makes a separate plot for each subreddit\n",
    "    title=\"Subjectivity vs. Polarity (Heatmap)\",\n",
    "    width=800,\n",
    "    height=350,\n",
    "    nbinsx=20,\n",
    "    nbinsy=20,\n",
    ").show()\n"
   ]
  },
  {
   "cell_type": "markdown",
   "metadata": {},
   "source": [
    "# Phase 2"
   ]
  },
  {
   "cell_type": "code",
   "execution_count": null,
   "metadata": {},
   "outputs": [],
   "source": [
    "### Begin Assignment Here"
   ]
  },
  {
   "cell_type": "code",
   "execution_count": 127,
   "metadata": {},
   "outputs": [
    {
     "data": {
      "text/html": [
       "<div>\n",
       "<style scoped>\n",
       "    .dataframe tbody tr th:only-of-type {\n",
       "        vertical-align: middle;\n",
       "    }\n",
       "\n",
       "    .dataframe tbody tr th {\n",
       "        vertical-align: top;\n",
       "    }\n",
       "\n",
       "    .dataframe thead th {\n",
       "        text-align: right;\n",
       "    }\n",
       "</style>\n",
       "<table border=\"1\" class=\"dataframe\">\n",
       "  <thead>\n",
       "    <tr style=\"text-align: right;\">\n",
       "      <th></th>\n",
       "      <th>type</th>\n",
       "      <th>datetime</th>\n",
       "      <th>post_id</th>\n",
       "      <th>subreddit</th>\n",
       "      <th>title</th>\n",
       "      <th>author</th>\n",
       "      <th>url</th>\n",
       "      <th>upvotes</th>\n",
       "      <th>downvotes</th>\n",
       "      <th>upvote_ratio</th>\n",
       "      <th>text</th>\n",
       "      <th>subjectivity</th>\n",
       "      <th>polarity</th>\n",
       "      <th>sentiment</th>\n",
       "      <th>entities</th>\n",
       "      <th>label</th>\n",
       "    </tr>\n",
       "  </thead>\n",
       "  <tbody>\n",
       "    <tr>\n",
       "      <th>2</th>\n",
       "      <td>comment</td>\n",
       "      <td>2025-04-10 15:09:41</td>\n",
       "      <td>mmeevio</td>\n",
       "      <td>StockMarket</td>\n",
       "      <td>How do you feel about a sitting president maki...</td>\n",
       "      <td>Btankersly66</td>\n",
       "      <td>https://apnews.com/article/trump-truth-social-...</td>\n",
       "      <td>1</td>\n",
       "      <td>NaN</td>\n",
       "      <td>NaN</td>\n",
       "      <td>Seeing lots of red in the ticker.</td>\n",
       "      <td>0.0</td>\n",
       "      <td>0.0</td>\n",
       "      <td>0.0</td>\n",
       "      <td>['ticker']</td>\n",
       "      <td>0.0</td>\n",
       "    </tr>\n",
       "    <tr>\n",
       "      <th>4</th>\n",
       "      <td>comment</td>\n",
       "      <td>2025-04-11 14:48:05</td>\n",
       "      <td>mmkl6bw</td>\n",
       "      <td>StockMarket</td>\n",
       "      <td>The Trump administration is begging Xi Jinping...</td>\n",
       "      <td>Just-Big6411</td>\n",
       "      <td>https://edition.cnn.com/2025/04/10/politics/tr...</td>\n",
       "      <td>1</td>\n",
       "      <td>NaN</td>\n",
       "      <td>NaN</td>\n",
       "      <td>He didn’t say thank you.</td>\n",
       "      <td>0.0</td>\n",
       "      <td>0.0</td>\n",
       "      <td>0.0</td>\n",
       "      <td>[]</td>\n",
       "      <td>-1.0</td>\n",
       "    </tr>\n",
       "    <tr>\n",
       "      <th>9</th>\n",
       "      <td>comment</td>\n",
       "      <td>2021-12-31 16:29:49</td>\n",
       "      <td>hqp3kt4</td>\n",
       "      <td>stockstobuytoday</td>\n",
       "      <td>Any cheap stocks under $10?</td>\n",
       "      <td>Zumuru</td>\n",
       "      <td>https://www.reddit.com/r/stockstobuytoday/comm...</td>\n",
       "      <td>2</td>\n",
       "      <td>NaN</td>\n",
       "      <td>NaN</td>\n",
       "      <td>HLGN is $10. Hurry and catch it now before it ...</td>\n",
       "      <td>0.0</td>\n",
       "      <td>0.0</td>\n",
       "      <td>0.0</td>\n",
       "      <td>['HLGN', 'Hurry', 'moon']</td>\n",
       "      <td>1.0</td>\n",
       "    </tr>\n",
       "    <tr>\n",
       "      <th>10</th>\n",
       "      <td>comment</td>\n",
       "      <td>2025-04-11 15:19:19</td>\n",
       "      <td>mmkri9d</td>\n",
       "      <td>stocks</td>\n",
       "      <td>r/Stocks Daily Discussion &amp; Fundamentals Frida...</td>\n",
       "      <td>MitchCurry</td>\n",
       "      <td>https://www.reddit.com/r/stocks/comments/1jwlr...</td>\n",
       "      <td>3</td>\n",
       "      <td>NaN</td>\n",
       "      <td>NaN</td>\n",
       "      <td>It's a copy/paste from a Bloomberg terminal.</td>\n",
       "      <td>0.0</td>\n",
       "      <td>0.0</td>\n",
       "      <td>0.0</td>\n",
       "      <td>['copy/paste', 'terminal', 'Bloomberg']</td>\n",
       "      <td>0.0</td>\n",
       "    </tr>\n",
       "    <tr>\n",
       "      <th>14</th>\n",
       "      <td>comment</td>\n",
       "      <td>2025-04-11 13:46:40</td>\n",
       "      <td>mmk9151</td>\n",
       "      <td>stocks</td>\n",
       "      <td>r/Stocks Daily Discussion &amp; Fundamentals Frida...</td>\n",
       "      <td>Odd-Temperature-791</td>\n",
       "      <td>https://www.reddit.com/r/stocks/comments/1jwlr...</td>\n",
       "      <td>8</td>\n",
       "      <td>NaN</td>\n",
       "      <td>NaN</td>\n",
       "      <td>USA begging China to call them</td>\n",
       "      <td>0.0</td>\n",
       "      <td>0.0</td>\n",
       "      <td>0.0</td>\n",
       "      <td>['USA', 'China']</td>\n",
       "      <td>0.0</td>\n",
       "    </tr>\n",
       "    <tr>\n",
       "      <th>...</th>\n",
       "      <td>...</td>\n",
       "      <td>...</td>\n",
       "      <td>...</td>\n",
       "      <td>...</td>\n",
       "      <td>...</td>\n",
       "      <td>...</td>\n",
       "      <td>...</td>\n",
       "      <td>...</td>\n",
       "      <td>...</td>\n",
       "      <td>...</td>\n",
       "      <td>...</td>\n",
       "      <td>...</td>\n",
       "      <td>...</td>\n",
       "      <td>...</td>\n",
       "      <td>...</td>\n",
       "      <td>...</td>\n",
       "    </tr>\n",
       "    <tr>\n",
       "      <th>842</th>\n",
       "      <td>comment</td>\n",
       "      <td>2021-06-30 4:06:06</td>\n",
       "      <td>h3iv6pq</td>\n",
       "      <td>stockstobuytoday</td>\n",
       "      <td>$MRIN Marin Software killed it today. Hope som...</td>\n",
       "      <td>Ordinary-Office9180</td>\n",
       "      <td>https://www.reddit.com/r/stockstobuytoday/comm...</td>\n",
       "      <td>1</td>\n",
       "      <td>NaN</td>\n",
       "      <td>NaN</td>\n",
       "      <td>Invest now it is going to shoot up tomorrow</td>\n",
       "      <td>0.0</td>\n",
       "      <td>0.0</td>\n",
       "      <td>0.0</td>\n",
       "      <td>['tomorrow']</td>\n",
       "      <td>1.0</td>\n",
       "    </tr>\n",
       "    <tr>\n",
       "      <th>843</th>\n",
       "      <td>comment</td>\n",
       "      <td>2025-04-11 5:01:24</td>\n",
       "      <td>mmijiuz</td>\n",
       "      <td>StockMarket</td>\n",
       "      <td>$ U.S. dollar value (crashing)</td>\n",
       "      <td>lulububudu</td>\n",
       "      <td>https://i.redd.it/atvlo83gk4ue1.jpeg</td>\n",
       "      <td>2</td>\n",
       "      <td>NaN</td>\n",
       "      <td>NaN</td>\n",
       "      <td>Where can I read this?</td>\n",
       "      <td>0.0</td>\n",
       "      <td>0.0</td>\n",
       "      <td>0.0</td>\n",
       "      <td>[]</td>\n",
       "      <td>0.0</td>\n",
       "    </tr>\n",
       "    <tr>\n",
       "      <th>844</th>\n",
       "      <td>post</td>\n",
       "      <td>2025-03-24 12:30:39</td>\n",
       "      <td>1jipi4v</td>\n",
       "      <td>stockstobuytoday</td>\n",
       "      <td>Analyst Recommendations</td>\n",
       "      <td>saasfin</td>\n",
       "      <td>https://www.reddit.com/r/stockstobuytoday/comm...</td>\n",
       "      <td>1</td>\n",
       "      <td>0.0</td>\n",
       "      <td>1.0</td>\n",
       "      <td>Upgrades, Downgrades\\n\\n [Stock Analyst Recomm...</td>\n",
       "      <td>0.0</td>\n",
       "      <td>0.0</td>\n",
       "      <td>0.0</td>\n",
       "      <td>['Analyst', 'Nasdaq', 'Stock', 'Upgrades', 'Do...</td>\n",
       "      <td>0.0</td>\n",
       "    </tr>\n",
       "    <tr>\n",
       "      <th>845</th>\n",
       "      <td>comment</td>\n",
       "      <td>2025-04-11 20:13:26</td>\n",
       "      <td>mmmely7</td>\n",
       "      <td>wallstreetbets</td>\n",
       "      <td>Weekend Discussion Thread for the Weekend of A...</td>\n",
       "      <td>yes_ur_wrong</td>\n",
       "      <td>https://www.reddit.com/r/wallstreetbets/commen...</td>\n",
       "      <td>10</td>\n",
       "      <td>NaN</td>\n",
       "      <td>NaN</td>\n",
       "      <td>i sold my puts so i expect cheeto to declare w...</td>\n",
       "      <td>0.0</td>\n",
       "      <td>0.0</td>\n",
       "      <td>0.0</td>\n",
       "      <td>['war', 'denmark', 'cheeto', 'i']</td>\n",
       "      <td>-1.0</td>\n",
       "    </tr>\n",
       "    <tr>\n",
       "      <th>846</th>\n",
       "      <td>comment</td>\n",
       "      <td>2025-04-12 3:09:06</td>\n",
       "      <td>mmobyz1</td>\n",
       "      <td>wallstreetbets</td>\n",
       "      <td>Someone post the hotline please.</td>\n",
       "      <td>I_am_Nerman</td>\n",
       "      <td>https://i.redd.it/tcfuu97p7bue1.jpeg</td>\n",
       "      <td>1</td>\n",
       "      <td>NaN</td>\n",
       "      <td>NaN</td>\n",
       "      <td>![img](emote|t5_2th52|31224)</td>\n",
       "      <td>0.0</td>\n",
       "      <td>0.0</td>\n",
       "      <td>0.0</td>\n",
       "      <td>['img', ']', '[', 'emote|t5_2th52|31224']</td>\n",
       "      <td>0.0</td>\n",
       "    </tr>\n",
       "  </tbody>\n",
       "</table>\n",
       "<p>331 rows × 16 columns</p>\n",
       "</div>"
      ],
      "text/plain": [
       "        type             datetime  post_id         subreddit  \\\n",
       "2    comment  2025-04-10 15:09:41  mmeevio       StockMarket   \n",
       "4    comment  2025-04-11 14:48:05  mmkl6bw       StockMarket   \n",
       "9    comment  2021-12-31 16:29:49  hqp3kt4  stockstobuytoday   \n",
       "10   comment  2025-04-11 15:19:19  mmkri9d            stocks   \n",
       "14   comment  2025-04-11 13:46:40  mmk9151            stocks   \n",
       "..       ...                  ...      ...               ...   \n",
       "842  comment   2021-06-30 4:06:06  h3iv6pq  stockstobuytoday   \n",
       "843  comment   2025-04-11 5:01:24  mmijiuz       StockMarket   \n",
       "844     post  2025-03-24 12:30:39  1jipi4v  stockstobuytoday   \n",
       "845  comment  2025-04-11 20:13:26  mmmely7    wallstreetbets   \n",
       "846  comment   2025-04-12 3:09:06  mmobyz1    wallstreetbets   \n",
       "\n",
       "                                                 title               author  \\\n",
       "2    How do you feel about a sitting president maki...         Btankersly66   \n",
       "4    The Trump administration is begging Xi Jinping...         Just-Big6411   \n",
       "9                          Any cheap stocks under $10?               Zumuru   \n",
       "10   r/Stocks Daily Discussion & Fundamentals Frida...           MitchCurry   \n",
       "14   r/Stocks Daily Discussion & Fundamentals Frida...  Odd-Temperature-791   \n",
       "..                                                 ...                  ...   \n",
       "842  $MRIN Marin Software killed it today. Hope som...  Ordinary-Office9180   \n",
       "843                     $ U.S. dollar value (crashing)           lulububudu   \n",
       "844                            Analyst Recommendations              saasfin   \n",
       "845  Weekend Discussion Thread for the Weekend of A...         yes_ur_wrong   \n",
       "846                   Someone post the hotline please.          I_am_Nerman   \n",
       "\n",
       "                                                   url  upvotes  downvotes  \\\n",
       "2    https://apnews.com/article/trump-truth-social-...        1        NaN   \n",
       "4    https://edition.cnn.com/2025/04/10/politics/tr...        1        NaN   \n",
       "9    https://www.reddit.com/r/stockstobuytoday/comm...        2        NaN   \n",
       "10   https://www.reddit.com/r/stocks/comments/1jwlr...        3        NaN   \n",
       "14   https://www.reddit.com/r/stocks/comments/1jwlr...        8        NaN   \n",
       "..                                                 ...      ...        ...   \n",
       "842  https://www.reddit.com/r/stockstobuytoday/comm...        1        NaN   \n",
       "843               https://i.redd.it/atvlo83gk4ue1.jpeg        2        NaN   \n",
       "844  https://www.reddit.com/r/stockstobuytoday/comm...        1        0.0   \n",
       "845  https://www.reddit.com/r/wallstreetbets/commen...       10        NaN   \n",
       "846               https://i.redd.it/tcfuu97p7bue1.jpeg        1        NaN   \n",
       "\n",
       "     upvote_ratio                                               text  \\\n",
       "2             NaN                  Seeing lots of red in the ticker.   \n",
       "4             NaN                           He didn’t say thank you.   \n",
       "9             NaN  HLGN is $10. Hurry and catch it now before it ...   \n",
       "10            NaN       It's a copy/paste from a Bloomberg terminal.   \n",
       "14            NaN                     USA begging China to call them   \n",
       "..            ...                                                ...   \n",
       "842           NaN        Invest now it is going to shoot up tomorrow   \n",
       "843           NaN                             Where can I read this?   \n",
       "844           1.0  Upgrades, Downgrades\\n\\n [Stock Analyst Recomm...   \n",
       "845           NaN  i sold my puts so i expect cheeto to declare w...   \n",
       "846           NaN                       ![img](emote|t5_2th52|31224)   \n",
       "\n",
       "     subjectivity  polarity  sentiment  \\\n",
       "2             0.0       0.0        0.0   \n",
       "4             0.0       0.0        0.0   \n",
       "9             0.0       0.0        0.0   \n",
       "10            0.0       0.0        0.0   \n",
       "14            0.0       0.0        0.0   \n",
       "..            ...       ...        ...   \n",
       "842           0.0       0.0        0.0   \n",
       "843           0.0       0.0        0.0   \n",
       "844           0.0       0.0        0.0   \n",
       "845           0.0       0.0        0.0   \n",
       "846           0.0       0.0        0.0   \n",
       "\n",
       "                                              entities  label  \n",
       "2                                           ['ticker']    0.0  \n",
       "4                                                   []   -1.0  \n",
       "9                            ['HLGN', 'Hurry', 'moon']    1.0  \n",
       "10             ['copy/paste', 'terminal', 'Bloomberg']    0.0  \n",
       "14                                    ['USA', 'China']    0.0  \n",
       "..                                                 ...    ...  \n",
       "842                                       ['tomorrow']    1.0  \n",
       "843                                                 []    0.0  \n",
       "844  ['Analyst', 'Nasdaq', 'Stock', 'Upgrades', 'Do...    0.0  \n",
       "845                  ['war', 'denmark', 'cheeto', 'i']   -1.0  \n",
       "846          ['img', ']', '[', 'emote|t5_2th52|31224']    0.0  \n",
       "\n",
       "[331 rows x 16 columns]"
      ]
     },
     "execution_count": 127,
     "metadata": {},
     "output_type": "execute_result"
    }
   ],
   "source": [
    "X[X[\"polarity\"] == 0.0]"
   ]
  },
  {
   "cell_type": "code",
   "execution_count": null,
   "metadata": {},
   "outputs": [],
   "source": []
  }
 ],
 "metadata": {
  "kernelspec": {
   "display_name": ".venv",
   "language": "python",
   "name": "python3"
  },
  "language_info": {
   "codemirror_mode": {
    "name": "ipython",
    "version": 3
   },
   "file_extension": ".py",
   "mimetype": "text/x-python",
   "name": "python",
   "nbconvert_exporter": "python",
   "pygments_lexer": "ipython3",
   "version": "3.13.5"
  }
 },
 "nbformat": 4,
 "nbformat_minor": 4
}
